{
 "cells": [
  {
   "attachments": {},
   "cell_type": "markdown",
   "metadata": {},
   "source": [
    "## Import Necessary Libraries"
   ]
  },
  {
   "cell_type": "code",
   "execution_count": 51,
   "metadata": {},
   "outputs": [],
   "source": [
    "import numpy as np \n",
    "import pandas as pd\n",
    "from sklearn.metrics import accuracy_score\n",
    "from sklearn.metrics import mean_squared_error\n",
    "from sklearn.model_selection import KFold\n",
    "from sklearn.metrics import confusion_matrix\n",
    "import scikitplot as skplt\n",
    "import matplotlib.pyplot as plt\n",
    "from sklearn.metrics import classification_report\n",
    "from sklearn.metrics import mean_absolute_error\n",
    "from scipy.stats import mode\n"
   ]
  },
  {
   "attachments": {},
   "cell_type": "markdown",
   "metadata": {},
   "source": [
    "## Read Datasets"
   ]
  },
  {
   "attachments": {},
   "cell_type": "markdown",
   "metadata": {},
   "source": [
    "Reading audit dataset"
   ]
  },
  {
   "cell_type": "code",
   "execution_count": 52,
   "metadata": {},
   "outputs": [
    {
     "data": {
      "text/html": [
       "<div>\n",
       "<style scoped>\n",
       "    .dataframe tbody tr th:only-of-type {\n",
       "        vertical-align: middle;\n",
       "    }\n",
       "\n",
       "    .dataframe tbody tr th {\n",
       "        vertical-align: top;\n",
       "    }\n",
       "\n",
       "    .dataframe thead th {\n",
       "        text-align: right;\n",
       "    }\n",
       "</style>\n",
       "<table border=\"1\" class=\"dataframe\">\n",
       "  <thead>\n",
       "    <tr style=\"text-align: right;\">\n",
       "      <th></th>\n",
       "      <th>Sector_score</th>\n",
       "      <th>LOCATION_ID</th>\n",
       "      <th>PARA_A</th>\n",
       "      <th>Score_A</th>\n",
       "      <th>Risk_A</th>\n",
       "      <th>PARA_B</th>\n",
       "      <th>Score_B</th>\n",
       "      <th>Risk_B</th>\n",
       "      <th>TOTAL</th>\n",
       "      <th>numbers</th>\n",
       "      <th>...</th>\n",
       "      <th>RiSk_E</th>\n",
       "      <th>History</th>\n",
       "      <th>Prob</th>\n",
       "      <th>Risk_F</th>\n",
       "      <th>Score</th>\n",
       "      <th>Inherent_Risk</th>\n",
       "      <th>CONTROL_RISK</th>\n",
       "      <th>Detection_Risk</th>\n",
       "      <th>Audit_Risk</th>\n",
       "      <th>Risk</th>\n",
       "    </tr>\n",
       "  </thead>\n",
       "  <tbody>\n",
       "    <tr>\n",
       "      <th>0</th>\n",
       "      <td>3.89</td>\n",
       "      <td>23</td>\n",
       "      <td>4.18</td>\n",
       "      <td>0.6</td>\n",
       "      <td>2.508</td>\n",
       "      <td>2.50</td>\n",
       "      <td>0.2</td>\n",
       "      <td>0.500</td>\n",
       "      <td>6.68</td>\n",
       "      <td>5.0</td>\n",
       "      <td>...</td>\n",
       "      <td>0.4</td>\n",
       "      <td>0</td>\n",
       "      <td>0.2</td>\n",
       "      <td>0.0</td>\n",
       "      <td>2.4</td>\n",
       "      <td>8.574</td>\n",
       "      <td>0.4</td>\n",
       "      <td>0.5</td>\n",
       "      <td>1.7148</td>\n",
       "      <td>1</td>\n",
       "    </tr>\n",
       "    <tr>\n",
       "      <th>1</th>\n",
       "      <td>3.89</td>\n",
       "      <td>6</td>\n",
       "      <td>0.00</td>\n",
       "      <td>0.2</td>\n",
       "      <td>0.000</td>\n",
       "      <td>4.83</td>\n",
       "      <td>0.2</td>\n",
       "      <td>0.966</td>\n",
       "      <td>4.83</td>\n",
       "      <td>5.0</td>\n",
       "      <td>...</td>\n",
       "      <td>0.4</td>\n",
       "      <td>0</td>\n",
       "      <td>0.2</td>\n",
       "      <td>0.0</td>\n",
       "      <td>2.0</td>\n",
       "      <td>2.554</td>\n",
       "      <td>0.4</td>\n",
       "      <td>0.5</td>\n",
       "      <td>0.5108</td>\n",
       "      <td>0</td>\n",
       "    </tr>\n",
       "    <tr>\n",
       "      <th>2</th>\n",
       "      <td>3.89</td>\n",
       "      <td>6</td>\n",
       "      <td>0.51</td>\n",
       "      <td>0.2</td>\n",
       "      <td>0.102</td>\n",
       "      <td>0.23</td>\n",
       "      <td>0.2</td>\n",
       "      <td>0.046</td>\n",
       "      <td>0.74</td>\n",
       "      <td>5.0</td>\n",
       "      <td>...</td>\n",
       "      <td>0.4</td>\n",
       "      <td>0</td>\n",
       "      <td>0.2</td>\n",
       "      <td>0.0</td>\n",
       "      <td>2.0</td>\n",
       "      <td>1.548</td>\n",
       "      <td>0.4</td>\n",
       "      <td>0.5</td>\n",
       "      <td>0.3096</td>\n",
       "      <td>0</td>\n",
       "    </tr>\n",
       "    <tr>\n",
       "      <th>3</th>\n",
       "      <td>3.89</td>\n",
       "      <td>6</td>\n",
       "      <td>0.00</td>\n",
       "      <td>0.2</td>\n",
       "      <td>0.000</td>\n",
       "      <td>10.80</td>\n",
       "      <td>0.6</td>\n",
       "      <td>6.480</td>\n",
       "      <td>10.80</td>\n",
       "      <td>6.0</td>\n",
       "      <td>...</td>\n",
       "      <td>0.4</td>\n",
       "      <td>0</td>\n",
       "      <td>0.2</td>\n",
       "      <td>0.0</td>\n",
       "      <td>4.4</td>\n",
       "      <td>17.530</td>\n",
       "      <td>0.4</td>\n",
       "      <td>0.5</td>\n",
       "      <td>3.5060</td>\n",
       "      <td>1</td>\n",
       "    </tr>\n",
       "    <tr>\n",
       "      <th>4</th>\n",
       "      <td>3.89</td>\n",
       "      <td>6</td>\n",
       "      <td>0.00</td>\n",
       "      <td>0.2</td>\n",
       "      <td>0.000</td>\n",
       "      <td>0.08</td>\n",
       "      <td>0.2</td>\n",
       "      <td>0.016</td>\n",
       "      <td>0.08</td>\n",
       "      <td>5.0</td>\n",
       "      <td>...</td>\n",
       "      <td>0.4</td>\n",
       "      <td>0</td>\n",
       "      <td>0.2</td>\n",
       "      <td>0.0</td>\n",
       "      <td>2.0</td>\n",
       "      <td>1.416</td>\n",
       "      <td>0.4</td>\n",
       "      <td>0.5</td>\n",
       "      <td>0.2832</td>\n",
       "      <td>0</td>\n",
       "    </tr>\n",
       "  </tbody>\n",
       "</table>\n",
       "<p>5 rows × 27 columns</p>\n",
       "</div>"
      ],
      "text/plain": [
       "   Sector_score LOCATION_ID  PARA_A  Score_A  Risk_A  PARA_B  Score_B  Risk_B  \\\n",
       "0          3.89          23    4.18      0.6   2.508    2.50      0.2   0.500   \n",
       "1          3.89           6    0.00      0.2   0.000    4.83      0.2   0.966   \n",
       "2          3.89           6    0.51      0.2   0.102    0.23      0.2   0.046   \n",
       "3          3.89           6    0.00      0.2   0.000   10.80      0.6   6.480   \n",
       "4          3.89           6    0.00      0.2   0.000    0.08      0.2   0.016   \n",
       "\n",
       "   TOTAL  numbers  ...  RiSk_E  History  Prob  Risk_F  Score  Inherent_Risk  \\\n",
       "0   6.68      5.0  ...     0.4        0   0.2     0.0    2.4          8.574   \n",
       "1   4.83      5.0  ...     0.4        0   0.2     0.0    2.0          2.554   \n",
       "2   0.74      5.0  ...     0.4        0   0.2     0.0    2.0          1.548   \n",
       "3  10.80      6.0  ...     0.4        0   0.2     0.0    4.4         17.530   \n",
       "4   0.08      5.0  ...     0.4        0   0.2     0.0    2.0          1.416   \n",
       "\n",
       "   CONTROL_RISK  Detection_Risk  Audit_Risk  Risk  \n",
       "0           0.4             0.5      1.7148     1  \n",
       "1           0.4             0.5      0.5108     0  \n",
       "2           0.4             0.5      0.3096     0  \n",
       "3           0.4             0.5      3.5060     1  \n",
       "4           0.4             0.5      0.2832     0  \n",
       "\n",
       "[5 rows x 27 columns]"
      ]
     },
     "execution_count": 52,
     "metadata": {},
     "output_type": "execute_result"
    }
   ],
   "source": [
    "audit_risk_data = pd.read_csv(\"audit_data/audit_risk.csv\")\n",
    "audit_risk_data.head()"
   ]
  },
  {
   "cell_type": "code",
   "execution_count": 53,
   "metadata": {},
   "outputs": [
    {
     "data": {
      "text/plain": [
       "(776, 27)"
      ]
     },
     "execution_count": 53,
     "metadata": {},
     "output_type": "execute_result"
    }
   ],
   "source": [
    "audit_risk_data.shape"
   ]
  },
  {
   "cell_type": "code",
   "execution_count": 54,
   "metadata": {},
   "outputs": [
    {
     "data": {
      "text/plain": [
       "Index(['Sector_score', 'LOCATION_ID', 'PARA_A', 'Score_A', 'Risk_A', 'PARA_B',\n",
       "       'Score_B', 'Risk_B', 'TOTAL', 'numbers', 'Score_B.1', 'Risk_C',\n",
       "       'Money_Value', 'Score_MV', 'Risk_D', 'District_Loss', 'PROB', 'RiSk_E',\n",
       "       'History', 'Prob', 'Risk_F', 'Score', 'Inherent_Risk', 'CONTROL_RISK',\n",
       "       'Detection_Risk', 'Audit_Risk', 'Risk'],\n",
       "      dtype='object')"
      ]
     },
     "execution_count": 54,
     "metadata": {},
     "output_type": "execute_result"
    }
   ],
   "source": [
    "audit_risk_data.columns"
   ]
  },
  {
   "attachments": {},
   "cell_type": "markdown",
   "metadata": {},
   "source": [
    "Check whether there is null value or not"
   ]
  },
  {
   "cell_type": "code",
   "execution_count": 55,
   "metadata": {},
   "outputs": [
    {
     "data": {
      "text/plain": [
       "Sector_score      0\n",
       "LOCATION_ID       0\n",
       "PARA_A            0\n",
       "Score_A           0\n",
       "Risk_A            0\n",
       "PARA_B            0\n",
       "Score_B           0\n",
       "Risk_B            0\n",
       "TOTAL             0\n",
       "numbers           0\n",
       "Score_B.1         0\n",
       "Risk_C            0\n",
       "Money_Value       1\n",
       "Score_MV          0\n",
       "Risk_D            0\n",
       "District_Loss     0\n",
       "PROB              0\n",
       "RiSk_E            0\n",
       "History           0\n",
       "Prob              0\n",
       "Risk_F            0\n",
       "Score             0\n",
       "Inherent_Risk     0\n",
       "CONTROL_RISK      0\n",
       "Detection_Risk    0\n",
       "Audit_Risk        0\n",
       "Risk              0\n",
       "dtype: int64"
      ]
     },
     "execution_count": 55,
     "metadata": {},
     "output_type": "execute_result"
    }
   ],
   "source": [
    "audit_risk_data.isnull().sum()"
   ]
  },
  {
   "attachments": {},
   "cell_type": "markdown",
   "metadata": {},
   "source": [
    "According to this result, there is null value in dataset. "
   ]
  },
  {
   "cell_type": "code",
   "execution_count": 56,
   "metadata": {},
   "outputs": [
    {
     "name": "stdout",
     "output_type": "stream",
     "text": [
      "Mode: 0    0.0\n",
      "Name: Money_Value, dtype: float64\n",
      "Mean: 14.137630967741934\n",
      "Median: 0.09\n"
     ]
    }
   ],
   "source": [
    "print(\"Mode: {}\".format(audit_risk_data.Money_Value.mode()))\n",
    "print(\"Mean: {}\".format(audit_risk_data.Money_Value.mean()))\n",
    "print(\"Median: {}\".format(audit_risk_data.Money_Value.median()))"
   ]
  },
  {
   "attachments": {},
   "cell_type": "markdown",
   "metadata": {},
   "source": [
    "Fill the null value with mean."
   ]
  },
  {
   "cell_type": "code",
   "execution_count": 57,
   "metadata": {},
   "outputs": [],
   "source": [
    "audit_risk_data['Money_Value'] = audit_risk_data['Money_Value'].fillna(audit_risk_data.Money_Value.mean())\n"
   ]
  },
  {
   "attachments": {},
   "cell_type": "markdown",
   "metadata": {},
   "source": [
    "Check if there is a still null value or not"
   ]
  },
  {
   "cell_type": "code",
   "execution_count": 58,
   "metadata": {},
   "outputs": [
    {
     "data": {
      "text/plain": [
       "Sector_score      0\n",
       "LOCATION_ID       0\n",
       "PARA_A            0\n",
       "Score_A           0\n",
       "Risk_A            0\n",
       "PARA_B            0\n",
       "Score_B           0\n",
       "Risk_B            0\n",
       "TOTAL             0\n",
       "numbers           0\n",
       "Score_B.1         0\n",
       "Risk_C            0\n",
       "Money_Value       0\n",
       "Score_MV          0\n",
       "Risk_D            0\n",
       "District_Loss     0\n",
       "PROB              0\n",
       "RiSk_E            0\n",
       "History           0\n",
       "Prob              0\n",
       "Risk_F            0\n",
       "Score             0\n",
       "Inherent_Risk     0\n",
       "CONTROL_RISK      0\n",
       "Detection_Risk    0\n",
       "Audit_Risk        0\n",
       "Risk              0\n",
       "dtype: int64"
      ]
     },
     "execution_count": 58,
     "metadata": {},
     "output_type": "execute_result"
    }
   ],
   "source": [
    "audit_risk_data.isnull().sum()"
   ]
  },
  {
   "attachments": {},
   "cell_type": "markdown",
   "metadata": {},
   "source": [
    "There is no longer null values"
   ]
  },
  {
   "attachments": {},
   "cell_type": "markdown",
   "metadata": {},
   "source": [
    "Check the data type:"
   ]
  },
  {
   "cell_type": "code",
   "execution_count": 59,
   "metadata": {},
   "outputs": [
    {
     "name": "stdout",
     "output_type": "stream",
     "text": [
      "<class 'pandas.core.frame.DataFrame'>\n",
      "RangeIndex: 776 entries, 0 to 775\n",
      "Data columns (total 27 columns):\n",
      " #   Column          Non-Null Count  Dtype  \n",
      "---  ------          --------------  -----  \n",
      " 0   Sector_score    776 non-null    float64\n",
      " 1   LOCATION_ID     776 non-null    object \n",
      " 2   PARA_A          776 non-null    float64\n",
      " 3   Score_A         776 non-null    float64\n",
      " 4   Risk_A          776 non-null    float64\n",
      " 5   PARA_B          776 non-null    float64\n",
      " 6   Score_B         776 non-null    float64\n",
      " 7   Risk_B          776 non-null    float64\n",
      " 8   TOTAL           776 non-null    float64\n",
      " 9   numbers         776 non-null    float64\n",
      " 10  Score_B.1       776 non-null    float64\n",
      " 11  Risk_C          776 non-null    float64\n",
      " 12  Money_Value     776 non-null    float64\n",
      " 13  Score_MV        776 non-null    float64\n",
      " 14  Risk_D          776 non-null    float64\n",
      " 15  District_Loss   776 non-null    int64  \n",
      " 16  PROB            776 non-null    float64\n",
      " 17  RiSk_E          776 non-null    float64\n",
      " 18  History         776 non-null    int64  \n",
      " 19  Prob            776 non-null    float64\n",
      " 20  Risk_F          776 non-null    float64\n",
      " 21  Score           776 non-null    float64\n",
      " 22  Inherent_Risk   776 non-null    float64\n",
      " 23  CONTROL_RISK    776 non-null    float64\n",
      " 24  Detection_Risk  776 non-null    float64\n",
      " 25  Audit_Risk      776 non-null    float64\n",
      " 26  Risk            776 non-null    int64  \n",
      "dtypes: float64(23), int64(3), object(1)\n",
      "memory usage: 163.8+ KB\n"
     ]
    }
   ],
   "source": [
    "audit_risk_data.info()"
   ]
  },
  {
   "attachments": {},
   "cell_type": "markdown",
   "metadata": {},
   "source": [
    "When converthing LOCATION_ID column type from object to integer using this: audit_risk_data['LOCATION_ID'] = audit_risk_data['LOCATION_ID'].astype(int), an error occurred. \n",
    "The error says \"invalid literal for int() with base 10: 'LOHARU' \". \n"
   ]
  },
  {
   "attachments": {},
   "cell_type": "markdown",
   "metadata": {},
   "source": [
    "Check the value counts in LOCATION_ID columns"
   ]
  },
  {
   "cell_type": "code",
   "execution_count": 60,
   "metadata": {},
   "outputs": [
    {
     "name": "stdout",
     "output_type": "stream",
     "text": [
      "8          76\n",
      "19         68\n",
      "9          53\n",
      "16         52\n",
      "12         47\n",
      "5          44\n",
      "2          41\n",
      "4          37\n",
      "15         35\n",
      "13         35\n",
      "6          33\n",
      "32         29\n",
      "11         26\n",
      "22         24\n",
      "29         21\n",
      "14         20\n",
      "18         16\n",
      "31         12\n",
      "1          11\n",
      "37         10\n",
      "39          9\n",
      "28          8\n",
      "21          8\n",
      "27          8\n",
      "43          7\n",
      "25          6\n",
      "20          5\n",
      "7           4\n",
      "30          4\n",
      "38          4\n",
      "36          4\n",
      "3           3\n",
      "40          3\n",
      "35          2\n",
      "44          1\n",
      "NUH         1\n",
      "LOHARU      1\n",
      "SAFIDON     1\n",
      "23          1\n",
      "42          1\n",
      "41          1\n",
      "34          1\n",
      "33          1\n",
      "24          1\n",
      "17          1\n",
      "Name: LOCATION_ID, dtype: int64\n"
     ]
    }
   ],
   "source": [
    "counts = audit_risk_data['LOCATION_ID'].value_counts()\n",
    "print(counts)"
   ]
  },
  {
   "attachments": {},
   "cell_type": "markdown",
   "metadata": {},
   "source": [
    "According to this, there are some string value in this column. \n",
    "To handle this, first, find only the indices of non-integer values. \n",
    "Then, calculate the mean of the \"LOCATION_ID\" column in the dataset named \"numeric_df\" \n",
    "and replaces the \"LOCATION_ID\" values contained in the rows in the \"non_numeric_indices\" list with this mean value. \n",
    "And, finally, control the number of the indices of non-integer values which should be empty."
   ]
  },
  {
   "cell_type": "code",
   "execution_count": 61,
   "metadata": {},
   "outputs": [
    {
     "name": "stdout",
     "output_type": "stream",
     "text": [
      "There are 3 non-numerical values. Indexes: [351, 355, 367]\n",
      "After replacing the LOCATION_ID values contained in the rows in the non_numeric_indices list with this mean value:\n",
      "There are 0 non-numerical values. Indexes: []\n"
     ]
    }
   ],
   "source": [
    "# select just LOCATION_ID column\n",
    "location_id = audit_risk_data[\"LOCATION_ID\"]\n",
    "\n",
    "# a function to convert values to integer\n",
    "def str_to_int(val):\n",
    "    try:\n",
    "        int(val)\n",
    "        return False\n",
    "    except ValueError:\n",
    "        return True\n",
    "\n",
    "#find only the indices of non-integer values. \n",
    "non_numeric_indices = [i for i, val in location_id.items() if str_to_int(val)]\n",
    "\n",
    "print(f\"There are {len(non_numeric_indices)} non-numerical values. Indexes: {non_numeric_indices}\")\n",
    "\n",
    "\n",
    "numeric_df = audit_risk_data.copy()\n",
    "numeric_df = numeric_df.drop(non_numeric_indices)\n",
    "numeric_df[\"LOCATION_ID\"] = pd.to_numeric(numeric_df[\"LOCATION_ID\"])\n",
    "\n",
    "mean_location_id = numeric_df[\"LOCATION_ID\"].mean()\n",
    "audit_risk_data.loc[non_numeric_indices, \"LOCATION_ID\"] = mean_location_id\n",
    "\n",
    "\n",
    "#find only the indices of non-integer values. \n",
    "non_numeric_indices = [i for i, val in location_id.items() if str_to_int(val)]\n",
    "\n",
    "print(\"After replacing the LOCATION_ID values contained in the rows in the non_numeric_indices list with this mean value:\")\n",
    "print(f\"There are {len(non_numeric_indices)} non-numerical values. Indexes: {non_numeric_indices}\")\n",
    "\n",
    "\n"
   ]
  },
  {
   "attachments": {},
   "cell_type": "markdown",
   "metadata": {},
   "source": [
    "Change data type of LOCATION_ID from object to numeric"
   ]
  },
  {
   "cell_type": "code",
   "execution_count": 62,
   "metadata": {},
   "outputs": [],
   "source": [
    "\n",
    "audit_risk_data['LOCATION_ID'] = pd.to_numeric(audit_risk_data['LOCATION_ID'], errors='coerce')\n"
   ]
  },
  {
   "attachments": {},
   "cell_type": "markdown",
   "metadata": {},
   "source": [
    "Check the data type:"
   ]
  },
  {
   "cell_type": "code",
   "execution_count": 63,
   "metadata": {},
   "outputs": [
    {
     "name": "stdout",
     "output_type": "stream",
     "text": [
      "<class 'pandas.core.frame.DataFrame'>\n",
      "RangeIndex: 776 entries, 0 to 775\n",
      "Data columns (total 27 columns):\n",
      " #   Column          Non-Null Count  Dtype  \n",
      "---  ------          --------------  -----  \n",
      " 0   Sector_score    776 non-null    float64\n",
      " 1   LOCATION_ID     776 non-null    float64\n",
      " 2   PARA_A          776 non-null    float64\n",
      " 3   Score_A         776 non-null    float64\n",
      " 4   Risk_A          776 non-null    float64\n",
      " 5   PARA_B          776 non-null    float64\n",
      " 6   Score_B         776 non-null    float64\n",
      " 7   Risk_B          776 non-null    float64\n",
      " 8   TOTAL           776 non-null    float64\n",
      " 9   numbers         776 non-null    float64\n",
      " 10  Score_B.1       776 non-null    float64\n",
      " 11  Risk_C          776 non-null    float64\n",
      " 12  Money_Value     776 non-null    float64\n",
      " 13  Score_MV        776 non-null    float64\n",
      " 14  Risk_D          776 non-null    float64\n",
      " 15  District_Loss   776 non-null    int64  \n",
      " 16  PROB            776 non-null    float64\n",
      " 17  RiSk_E          776 non-null    float64\n",
      " 18  History         776 non-null    int64  \n",
      " 19  Prob            776 non-null    float64\n",
      " 20  Risk_F          776 non-null    float64\n",
      " 21  Score           776 non-null    float64\n",
      " 22  Inherent_Risk   776 non-null    float64\n",
      " 23  CONTROL_RISK    776 non-null    float64\n",
      " 24  Detection_Risk  776 non-null    float64\n",
      " 25  Audit_Risk      776 non-null    float64\n",
      " 26  Risk            776 non-null    int64  \n",
      "dtypes: float64(24), int64(3)\n",
      "memory usage: 163.8 KB\n"
     ]
    }
   ],
   "source": [
    "audit_risk_data.info()"
   ]
  },
  {
   "attachments": {},
   "cell_type": "markdown",
   "metadata": {},
   "source": [
    "As you can see, LOCATION_ID is no longer an object."
   ]
  },
  {
   "cell_type": "code",
   "execution_count": 64,
   "metadata": {},
   "outputs": [
    {
     "data": {
      "text/html": [
       "<div>\n",
       "<style scoped>\n",
       "    .dataframe tbody tr th:only-of-type {\n",
       "        vertical-align: middle;\n",
       "    }\n",
       "\n",
       "    .dataframe tbody tr th {\n",
       "        vertical-align: top;\n",
       "    }\n",
       "\n",
       "    .dataframe thead th {\n",
       "        text-align: right;\n",
       "    }\n",
       "</style>\n",
       "<table border=\"1\" class=\"dataframe\">\n",
       "  <thead>\n",
       "    <tr style=\"text-align: right;\">\n",
       "      <th></th>\n",
       "      <th>Sector_score</th>\n",
       "      <th>LOCATION_ID</th>\n",
       "      <th>PARA_A</th>\n",
       "      <th>Score_A</th>\n",
       "      <th>Risk_A</th>\n",
       "      <th>PARA_B</th>\n",
       "      <th>Score_B</th>\n",
       "      <th>Risk_B</th>\n",
       "      <th>TOTAL</th>\n",
       "      <th>numbers</th>\n",
       "      <th>...</th>\n",
       "      <th>RiSk_E</th>\n",
       "      <th>History</th>\n",
       "      <th>Prob</th>\n",
       "      <th>Risk_F</th>\n",
       "      <th>Score</th>\n",
       "      <th>Inherent_Risk</th>\n",
       "      <th>CONTROL_RISK</th>\n",
       "      <th>Detection_Risk</th>\n",
       "      <th>Audit_Risk</th>\n",
       "      <th>Risk</th>\n",
       "    </tr>\n",
       "  </thead>\n",
       "  <tbody>\n",
       "    <tr>\n",
       "      <th>count</th>\n",
       "      <td>776.000000</td>\n",
       "      <td>776.000000</td>\n",
       "      <td>776.000000</td>\n",
       "      <td>776.000000</td>\n",
       "      <td>776.000000</td>\n",
       "      <td>776.000000</td>\n",
       "      <td>776.000000</td>\n",
       "      <td>776.000000</td>\n",
       "      <td>776.000000</td>\n",
       "      <td>776.000000</td>\n",
       "      <td>...</td>\n",
       "      <td>776.000000</td>\n",
       "      <td>776.000000</td>\n",
       "      <td>776.000000</td>\n",
       "      <td>776.000000</td>\n",
       "      <td>776.000000</td>\n",
       "      <td>776.000000</td>\n",
       "      <td>776.000000</td>\n",
       "      <td>776.0</td>\n",
       "      <td>776.000000</td>\n",
       "      <td>776.000000</td>\n",
       "    </tr>\n",
       "    <tr>\n",
       "      <th>mean</th>\n",
       "      <td>20.184536</td>\n",
       "      <td>14.856404</td>\n",
       "      <td>2.450194</td>\n",
       "      <td>0.351289</td>\n",
       "      <td>1.351029</td>\n",
       "      <td>10.799988</td>\n",
       "      <td>0.313144</td>\n",
       "      <td>6.334008</td>\n",
       "      <td>13.218481</td>\n",
       "      <td>5.067655</td>\n",
       "      <td>...</td>\n",
       "      <td>0.519072</td>\n",
       "      <td>0.104381</td>\n",
       "      <td>0.216753</td>\n",
       "      <td>0.053608</td>\n",
       "      <td>2.702577</td>\n",
       "      <td>17.680612</td>\n",
       "      <td>0.572680</td>\n",
       "      <td>0.5</td>\n",
       "      <td>7.168158</td>\n",
       "      <td>0.393041</td>\n",
       "    </tr>\n",
       "    <tr>\n",
       "      <th>std</th>\n",
       "      <td>24.319017</td>\n",
       "      <td>9.872154</td>\n",
       "      <td>5.678870</td>\n",
       "      <td>0.174055</td>\n",
       "      <td>3.440447</td>\n",
       "      <td>50.083624</td>\n",
       "      <td>0.169804</td>\n",
       "      <td>30.072845</td>\n",
       "      <td>51.312829</td>\n",
       "      <td>0.264449</td>\n",
       "      <td>...</td>\n",
       "      <td>0.290312</td>\n",
       "      <td>0.531031</td>\n",
       "      <td>0.067987</td>\n",
       "      <td>0.305835</td>\n",
       "      <td>0.858923</td>\n",
       "      <td>54.740244</td>\n",
       "      <td>0.444581</td>\n",
       "      <td>0.0</td>\n",
       "      <td>38.667494</td>\n",
       "      <td>0.488741</td>\n",
       "    </tr>\n",
       "    <tr>\n",
       "      <th>min</th>\n",
       "      <td>1.850000</td>\n",
       "      <td>1.000000</td>\n",
       "      <td>0.000000</td>\n",
       "      <td>0.200000</td>\n",
       "      <td>0.000000</td>\n",
       "      <td>0.000000</td>\n",
       "      <td>0.200000</td>\n",
       "      <td>0.000000</td>\n",
       "      <td>0.000000</td>\n",
       "      <td>5.000000</td>\n",
       "      <td>...</td>\n",
       "      <td>0.400000</td>\n",
       "      <td>0.000000</td>\n",
       "      <td>0.200000</td>\n",
       "      <td>0.000000</td>\n",
       "      <td>2.000000</td>\n",
       "      <td>1.400000</td>\n",
       "      <td>0.400000</td>\n",
       "      <td>0.5</td>\n",
       "      <td>0.280000</td>\n",
       "      <td>0.000000</td>\n",
       "    </tr>\n",
       "    <tr>\n",
       "      <th>25%</th>\n",
       "      <td>2.370000</td>\n",
       "      <td>8.000000</td>\n",
       "      <td>0.210000</td>\n",
       "      <td>0.200000</td>\n",
       "      <td>0.042000</td>\n",
       "      <td>0.000000</td>\n",
       "      <td>0.200000</td>\n",
       "      <td>0.000000</td>\n",
       "      <td>0.537500</td>\n",
       "      <td>5.000000</td>\n",
       "      <td>...</td>\n",
       "      <td>0.400000</td>\n",
       "      <td>0.000000</td>\n",
       "      <td>0.200000</td>\n",
       "      <td>0.000000</td>\n",
       "      <td>2.000000</td>\n",
       "      <td>1.583500</td>\n",
       "      <td>0.400000</td>\n",
       "      <td>0.5</td>\n",
       "      <td>0.316700</td>\n",
       "      <td>0.000000</td>\n",
       "    </tr>\n",
       "    <tr>\n",
       "      <th>50%</th>\n",
       "      <td>3.890000</td>\n",
       "      <td>13.000000</td>\n",
       "      <td>0.875000</td>\n",
       "      <td>0.200000</td>\n",
       "      <td>0.175000</td>\n",
       "      <td>0.405000</td>\n",
       "      <td>0.200000</td>\n",
       "      <td>0.081000</td>\n",
       "      <td>1.370000</td>\n",
       "      <td>5.000000</td>\n",
       "      <td>...</td>\n",
       "      <td>0.400000</td>\n",
       "      <td>0.000000</td>\n",
       "      <td>0.200000</td>\n",
       "      <td>0.000000</td>\n",
       "      <td>2.400000</td>\n",
       "      <td>2.214000</td>\n",
       "      <td>0.400000</td>\n",
       "      <td>0.5</td>\n",
       "      <td>0.555600</td>\n",
       "      <td>0.000000</td>\n",
       "    </tr>\n",
       "    <tr>\n",
       "      <th>75%</th>\n",
       "      <td>55.570000</td>\n",
       "      <td>19.000000</td>\n",
       "      <td>2.480000</td>\n",
       "      <td>0.600000</td>\n",
       "      <td>1.488000</td>\n",
       "      <td>4.160000</td>\n",
       "      <td>0.400000</td>\n",
       "      <td>1.840500</td>\n",
       "      <td>7.707500</td>\n",
       "      <td>5.000000</td>\n",
       "      <td>...</td>\n",
       "      <td>0.400000</td>\n",
       "      <td>0.000000</td>\n",
       "      <td>0.200000</td>\n",
       "      <td>0.000000</td>\n",
       "      <td>3.250000</td>\n",
       "      <td>10.663500</td>\n",
       "      <td>0.400000</td>\n",
       "      <td>0.5</td>\n",
       "      <td>3.249900</td>\n",
       "      <td>1.000000</td>\n",
       "    </tr>\n",
       "    <tr>\n",
       "      <th>max</th>\n",
       "      <td>59.850000</td>\n",
       "      <td>44.000000</td>\n",
       "      <td>85.000000</td>\n",
       "      <td>0.600000</td>\n",
       "      <td>51.000000</td>\n",
       "      <td>1264.630000</td>\n",
       "      <td>0.600000</td>\n",
       "      <td>758.778000</td>\n",
       "      <td>1268.910000</td>\n",
       "      <td>9.000000</td>\n",
       "      <td>...</td>\n",
       "      <td>2.400000</td>\n",
       "      <td>9.000000</td>\n",
       "      <td>0.600000</td>\n",
       "      <td>5.400000</td>\n",
       "      <td>5.200000</td>\n",
       "      <td>801.262000</td>\n",
       "      <td>5.800000</td>\n",
       "      <td>0.5</td>\n",
       "      <td>961.514400</td>\n",
       "      <td>1.000000</td>\n",
       "    </tr>\n",
       "  </tbody>\n",
       "</table>\n",
       "<p>8 rows × 27 columns</p>\n",
       "</div>"
      ],
      "text/plain": [
       "       Sector_score  LOCATION_ID      PARA_A     Score_A      Risk_A  \\\n",
       "count    776.000000   776.000000  776.000000  776.000000  776.000000   \n",
       "mean      20.184536    14.856404    2.450194    0.351289    1.351029   \n",
       "std       24.319017     9.872154    5.678870    0.174055    3.440447   \n",
       "min        1.850000     1.000000    0.000000    0.200000    0.000000   \n",
       "25%        2.370000     8.000000    0.210000    0.200000    0.042000   \n",
       "50%        3.890000    13.000000    0.875000    0.200000    0.175000   \n",
       "75%       55.570000    19.000000    2.480000    0.600000    1.488000   \n",
       "max       59.850000    44.000000   85.000000    0.600000   51.000000   \n",
       "\n",
       "            PARA_B     Score_B      Risk_B        TOTAL     numbers  ...  \\\n",
       "count   776.000000  776.000000  776.000000   776.000000  776.000000  ...   \n",
       "mean     10.799988    0.313144    6.334008    13.218481    5.067655  ...   \n",
       "std      50.083624    0.169804   30.072845    51.312829    0.264449  ...   \n",
       "min       0.000000    0.200000    0.000000     0.000000    5.000000  ...   \n",
       "25%       0.000000    0.200000    0.000000     0.537500    5.000000  ...   \n",
       "50%       0.405000    0.200000    0.081000     1.370000    5.000000  ...   \n",
       "75%       4.160000    0.400000    1.840500     7.707500    5.000000  ...   \n",
       "max    1264.630000    0.600000  758.778000  1268.910000    9.000000  ...   \n",
       "\n",
       "           RiSk_E     History        Prob      Risk_F       Score  \\\n",
       "count  776.000000  776.000000  776.000000  776.000000  776.000000   \n",
       "mean     0.519072    0.104381    0.216753    0.053608    2.702577   \n",
       "std      0.290312    0.531031    0.067987    0.305835    0.858923   \n",
       "min      0.400000    0.000000    0.200000    0.000000    2.000000   \n",
       "25%      0.400000    0.000000    0.200000    0.000000    2.000000   \n",
       "50%      0.400000    0.000000    0.200000    0.000000    2.400000   \n",
       "75%      0.400000    0.000000    0.200000    0.000000    3.250000   \n",
       "max      2.400000    9.000000    0.600000    5.400000    5.200000   \n",
       "\n",
       "       Inherent_Risk  CONTROL_RISK  Detection_Risk  Audit_Risk        Risk  \n",
       "count     776.000000    776.000000           776.0  776.000000  776.000000  \n",
       "mean       17.680612      0.572680             0.5    7.168158    0.393041  \n",
       "std        54.740244      0.444581             0.0   38.667494    0.488741  \n",
       "min         1.400000      0.400000             0.5    0.280000    0.000000  \n",
       "25%         1.583500      0.400000             0.5    0.316700    0.000000  \n",
       "50%         2.214000      0.400000             0.5    0.555600    0.000000  \n",
       "75%        10.663500      0.400000             0.5    3.249900    1.000000  \n",
       "max       801.262000      5.800000             0.5  961.514400    1.000000  \n",
       "\n",
       "[8 rows x 27 columns]"
      ]
     },
     "execution_count": 64,
     "metadata": {},
     "output_type": "execute_result"
    }
   ],
   "source": [
    "audit_risk_data.describe()\n"
   ]
  },
  {
   "attachments": {},
   "cell_type": "markdown",
   "metadata": {},
   "source": [
    "Reading bike sharing dataset "
   ]
  },
  {
   "cell_type": "code",
   "execution_count": 65,
   "metadata": {},
   "outputs": [
    {
     "data": {
      "text/html": [
       "<div>\n",
       "<style scoped>\n",
       "    .dataframe tbody tr th:only-of-type {\n",
       "        vertical-align: middle;\n",
       "    }\n",
       "\n",
       "    .dataframe tbody tr th {\n",
       "        vertical-align: top;\n",
       "    }\n",
       "\n",
       "    .dataframe thead th {\n",
       "        text-align: right;\n",
       "    }\n",
       "</style>\n",
       "<table border=\"1\" class=\"dataframe\">\n",
       "  <thead>\n",
       "    <tr style=\"text-align: right;\">\n",
       "      <th></th>\n",
       "      <th>instant</th>\n",
       "      <th>dteday</th>\n",
       "      <th>season</th>\n",
       "      <th>yr</th>\n",
       "      <th>mnth</th>\n",
       "      <th>holiday</th>\n",
       "      <th>weekday</th>\n",
       "      <th>workingday</th>\n",
       "      <th>weathersit</th>\n",
       "      <th>temp</th>\n",
       "      <th>atemp</th>\n",
       "      <th>hum</th>\n",
       "      <th>windspeed</th>\n",
       "      <th>casual</th>\n",
       "      <th>registered</th>\n",
       "      <th>cnt</th>\n",
       "    </tr>\n",
       "  </thead>\n",
       "  <tbody>\n",
       "    <tr>\n",
       "      <th>0</th>\n",
       "      <td>1</td>\n",
       "      <td>2011-01-01</td>\n",
       "      <td>1</td>\n",
       "      <td>0</td>\n",
       "      <td>1</td>\n",
       "      <td>0</td>\n",
       "      <td>6</td>\n",
       "      <td>0</td>\n",
       "      <td>2</td>\n",
       "      <td>0.344167</td>\n",
       "      <td>0.363625</td>\n",
       "      <td>0.805833</td>\n",
       "      <td>0.160446</td>\n",
       "      <td>331</td>\n",
       "      <td>654</td>\n",
       "      <td>985</td>\n",
       "    </tr>\n",
       "    <tr>\n",
       "      <th>1</th>\n",
       "      <td>2</td>\n",
       "      <td>2011-01-02</td>\n",
       "      <td>1</td>\n",
       "      <td>0</td>\n",
       "      <td>1</td>\n",
       "      <td>0</td>\n",
       "      <td>0</td>\n",
       "      <td>0</td>\n",
       "      <td>2</td>\n",
       "      <td>0.363478</td>\n",
       "      <td>0.353739</td>\n",
       "      <td>0.696087</td>\n",
       "      <td>0.248539</td>\n",
       "      <td>131</td>\n",
       "      <td>670</td>\n",
       "      <td>801</td>\n",
       "    </tr>\n",
       "    <tr>\n",
       "      <th>2</th>\n",
       "      <td>3</td>\n",
       "      <td>2011-01-03</td>\n",
       "      <td>1</td>\n",
       "      <td>0</td>\n",
       "      <td>1</td>\n",
       "      <td>0</td>\n",
       "      <td>1</td>\n",
       "      <td>1</td>\n",
       "      <td>1</td>\n",
       "      <td>0.196364</td>\n",
       "      <td>0.189405</td>\n",
       "      <td>0.437273</td>\n",
       "      <td>0.248309</td>\n",
       "      <td>120</td>\n",
       "      <td>1229</td>\n",
       "      <td>1349</td>\n",
       "    </tr>\n",
       "    <tr>\n",
       "      <th>3</th>\n",
       "      <td>4</td>\n",
       "      <td>2011-01-04</td>\n",
       "      <td>1</td>\n",
       "      <td>0</td>\n",
       "      <td>1</td>\n",
       "      <td>0</td>\n",
       "      <td>2</td>\n",
       "      <td>1</td>\n",
       "      <td>1</td>\n",
       "      <td>0.200000</td>\n",
       "      <td>0.212122</td>\n",
       "      <td>0.590435</td>\n",
       "      <td>0.160296</td>\n",
       "      <td>108</td>\n",
       "      <td>1454</td>\n",
       "      <td>1562</td>\n",
       "    </tr>\n",
       "    <tr>\n",
       "      <th>4</th>\n",
       "      <td>5</td>\n",
       "      <td>2011-01-05</td>\n",
       "      <td>1</td>\n",
       "      <td>0</td>\n",
       "      <td>1</td>\n",
       "      <td>0</td>\n",
       "      <td>3</td>\n",
       "      <td>1</td>\n",
       "      <td>1</td>\n",
       "      <td>0.226957</td>\n",
       "      <td>0.229270</td>\n",
       "      <td>0.436957</td>\n",
       "      <td>0.186900</td>\n",
       "      <td>82</td>\n",
       "      <td>1518</td>\n",
       "      <td>1600</td>\n",
       "    </tr>\n",
       "  </tbody>\n",
       "</table>\n",
       "</div>"
      ],
      "text/plain": [
       "   instant      dteday  season  yr  mnth  holiday  weekday  workingday  \\\n",
       "0        1  2011-01-01       1   0     1        0        6           0   \n",
       "1        2  2011-01-02       1   0     1        0        0           0   \n",
       "2        3  2011-01-03       1   0     1        0        1           1   \n",
       "3        4  2011-01-04       1   0     1        0        2           1   \n",
       "4        5  2011-01-05       1   0     1        0        3           1   \n",
       "\n",
       "   weathersit      temp     atemp       hum  windspeed  casual  registered  \\\n",
       "0           2  0.344167  0.363625  0.805833   0.160446     331         654   \n",
       "1           2  0.363478  0.353739  0.696087   0.248539     131         670   \n",
       "2           1  0.196364  0.189405  0.437273   0.248309     120        1229   \n",
       "3           1  0.200000  0.212122  0.590435   0.160296     108        1454   \n",
       "4           1  0.226957  0.229270  0.436957   0.186900      82        1518   \n",
       "\n",
       "    cnt  \n",
       "0   985  \n",
       "1   801  \n",
       "2  1349  \n",
       "3  1562  \n",
       "4  1600  "
      ]
     },
     "execution_count": 65,
     "metadata": {},
     "output_type": "execute_result"
    }
   ],
   "source": [
    "day_data = pd.read_csv(\"Bike-Sharing-Dataset/day.csv\")\n",
    "day_data.head()"
   ]
  },
  {
   "cell_type": "code",
   "execution_count": 66,
   "metadata": {},
   "outputs": [
    {
     "data": {
      "text/plain": [
       "(731, 16)"
      ]
     },
     "execution_count": 66,
     "metadata": {},
     "output_type": "execute_result"
    }
   ],
   "source": [
    "day_data.shape"
   ]
  },
  {
   "cell_type": "code",
   "execution_count": 67,
   "metadata": {},
   "outputs": [
    {
     "data": {
      "text/plain": [
       "Index(['instant', 'dteday', 'season', 'yr', 'mnth', 'holiday', 'weekday',\n",
       "       'workingday', 'weathersit', 'temp', 'atemp', 'hum', 'windspeed',\n",
       "       'casual', 'registered', 'cnt'],\n",
       "      dtype='object')"
      ]
     },
     "execution_count": 67,
     "metadata": {},
     "output_type": "execute_result"
    }
   ],
   "source": [
    "day_data.columns"
   ]
  },
  {
   "attachments": {},
   "cell_type": "markdown",
   "metadata": {},
   "source": [
    "Check whether there is null value or not"
   ]
  },
  {
   "cell_type": "code",
   "execution_count": 68,
   "metadata": {},
   "outputs": [
    {
     "data": {
      "text/plain": [
       "instant       0\n",
       "dteday        0\n",
       "season        0\n",
       "yr            0\n",
       "mnth          0\n",
       "holiday       0\n",
       "weekday       0\n",
       "workingday    0\n",
       "weathersit    0\n",
       "temp          0\n",
       "atemp         0\n",
       "hum           0\n",
       "windspeed     0\n",
       "casual        0\n",
       "registered    0\n",
       "cnt           0\n",
       "dtype: int64"
      ]
     },
     "execution_count": 68,
     "metadata": {},
     "output_type": "execute_result"
    }
   ],
   "source": [
    "day_data.isnull().sum()"
   ]
  },
  {
   "cell_type": "code",
   "execution_count": 69,
   "metadata": {},
   "outputs": [
    {
     "name": "stdout",
     "output_type": "stream",
     "text": [
      "<class 'pandas.core.frame.DataFrame'>\n",
      "RangeIndex: 731 entries, 0 to 730\n",
      "Data columns (total 16 columns):\n",
      " #   Column      Non-Null Count  Dtype  \n",
      "---  ------      --------------  -----  \n",
      " 0   instant     731 non-null    int64  \n",
      " 1   dteday      731 non-null    object \n",
      " 2   season      731 non-null    int64  \n",
      " 3   yr          731 non-null    int64  \n",
      " 4   mnth        731 non-null    int64  \n",
      " 5   holiday     731 non-null    int64  \n",
      " 6   weekday     731 non-null    int64  \n",
      " 7   workingday  731 non-null    int64  \n",
      " 8   weathersit  731 non-null    int64  \n",
      " 9   temp        731 non-null    float64\n",
      " 10  atemp       731 non-null    float64\n",
      " 11  hum         731 non-null    float64\n",
      " 12  windspeed   731 non-null    float64\n",
      " 13  casual      731 non-null    int64  \n",
      " 14  registered  731 non-null    int64  \n",
      " 15  cnt         731 non-null    int64  \n",
      "dtypes: float64(4), int64(11), object(1)\n",
      "memory usage: 91.5+ KB\n"
     ]
    }
   ],
   "source": [
    "day_data.info()"
   ]
  },
  {
   "attachments": {},
   "cell_type": "markdown",
   "metadata": {},
   "source": [
    "I chose to drop this column because it is a object type and in the dataset there are information about year and month."
   ]
  },
  {
   "cell_type": "code",
   "execution_count": 70,
   "metadata": {},
   "outputs": [],
   "source": [
    "\n",
    "day_data = day_data.drop(\"dteday\", axis = 1)\n"
   ]
  },
  {
   "attachments": {},
   "cell_type": "markdown",
   "metadata": {},
   "source": [
    "Drop this column because it is a record directory."
   ]
  },
  {
   "cell_type": "code",
   "execution_count": 71,
   "metadata": {},
   "outputs": [],
   "source": [
    "day_data = day_data.drop(\"instant\", axis = 1)\n"
   ]
  },
  {
   "cell_type": "code",
   "execution_count": 72,
   "metadata": {},
   "outputs": [
    {
     "data": {
      "text/plain": [
       "(731, 14)"
      ]
     },
     "execution_count": 72,
     "metadata": {},
     "output_type": "execute_result"
    }
   ],
   "source": [
    "day_data.shape"
   ]
  },
  {
   "cell_type": "code",
   "execution_count": 73,
   "metadata": {},
   "outputs": [
    {
     "data": {
      "text/plain": [
       "Index(['season', 'yr', 'mnth', 'holiday', 'weekday', 'workingday',\n",
       "       'weathersit', 'temp', 'atemp', 'hum', 'windspeed', 'casual',\n",
       "       'registered', 'cnt'],\n",
       "      dtype='object')"
      ]
     },
     "execution_count": 73,
     "metadata": {},
     "output_type": "execute_result"
    }
   ],
   "source": [
    "day_data.columns"
   ]
  },
  {
   "cell_type": "code",
   "execution_count": 74,
   "metadata": {},
   "outputs": [
    {
     "name": "stdout",
     "output_type": "stream",
     "text": [
      "<class 'pandas.core.frame.DataFrame'>\n",
      "RangeIndex: 731 entries, 0 to 730\n",
      "Data columns (total 14 columns):\n",
      " #   Column      Non-Null Count  Dtype  \n",
      "---  ------      --------------  -----  \n",
      " 0   season      731 non-null    int64  \n",
      " 1   yr          731 non-null    int64  \n",
      " 2   mnth        731 non-null    int64  \n",
      " 3   holiday     731 non-null    int64  \n",
      " 4   weekday     731 non-null    int64  \n",
      " 5   workingday  731 non-null    int64  \n",
      " 6   weathersit  731 non-null    int64  \n",
      " 7   temp        731 non-null    float64\n",
      " 8   atemp       731 non-null    float64\n",
      " 9   hum         731 non-null    float64\n",
      " 10  windspeed   731 non-null    float64\n",
      " 11  casual      731 non-null    int64  \n",
      " 12  registered  731 non-null    int64  \n",
      " 13  cnt         731 non-null    int64  \n",
      "dtypes: float64(4), int64(10)\n",
      "memory usage: 80.1 KB\n"
     ]
    }
   ],
   "source": [
    "day_data.info()"
   ]
  },
  {
   "cell_type": "code",
   "execution_count": 75,
   "metadata": {},
   "outputs": [],
   "source": [
    "# Print Confsion Matrix\n",
    "\n",
    "def ViewConfusionMatrix(y_test, y_pred):\n",
    "    cm = confusion_matrix(y_test, y_pred)\n",
    "    plt.rcParams[\"figure.figsize\"] = [12,9]\n",
    "    skplt.metrics.plot_confusion_matrix(y_test, y_pred)\n",
    "    plt.show()"
   ]
  },
  {
   "cell_type": "code",
   "execution_count": 76,
   "metadata": {},
   "outputs": [],
   "source": [
    "# Print Accuracy \n",
    "\n",
    "def ViewAccuracy(y_test, y_pred):\n",
    "    print(\"Accuracy : %\",accuracy_score(y_test, y_pred) * 100)"
   ]
  },
  {
   "cell_type": "code",
   "execution_count": 77,
   "metadata": {},
   "outputs": [],
   "source": [
    "# Print Mean Squared Error \n",
    "\n",
    "def ViewMeanSquaredError(y_test, y_pred):\n",
    "    mse = mean_squared_error(y_test, y_pred)\n",
    "    print(\"Mean Squared Error: {:.2f}\".format(mse))"
   ]
  },
  {
   "cell_type": "code",
   "execution_count": 78,
   "metadata": {},
   "outputs": [],
   "source": [
    "# Print Mean Absolute Error\n",
    "\n",
    "def ViewMeanAbsoluteError(y_test, y_pred):\n",
    "    mae = mean_absolute_error(y_test, y_pred)\n",
    "    print(\"Mean Absolute Error: {:.2f}\".format(mae))"
   ]
  },
  {
   "cell_type": "code",
   "execution_count": 79,
   "metadata": {},
   "outputs": [],
   "source": [
    "# Report perfomance\n",
    "\n",
    "def ReportPerformance(y_test, y_pred):\n",
    "    report = classification_report(y_test, y_pred)\n",
    "    print(report)"
   ]
  },
  {
   "attachments": {},
   "cell_type": "markdown",
   "metadata": {},
   "source": [
    "Attributes contains \n",
    "- 1: integer/real \n",
    "- 2: categorical \n",
    "indicating the type of each attributes (the columns of X)."
   ]
  },
  {
   "cell_type": "code",
   "execution_count": 80,
   "metadata": {},
   "outputs": [
    {
     "name": "stdout",
     "output_type": "stream",
     "text": [
      "[1, 1, 1, 1, 1, 1, 1, 1, 1, 1, 1, 1, 1, 1, 1, 1, 1, 1, 1, 1, 1, 1, 1, 1, 1, 1, 1]\n"
     ]
    }
   ],
   "source": [
    "dataset = audit_risk_data.copy()\n",
    "\n",
    "attribute_types = []\n",
    "for col in dataset.columns:\n",
    "    if dataset[col].dtype == 'object':\n",
    "        attribute_types.append(2)  \n",
    "    else:\n",
    "        attribute_types.append(1) \n",
    "\n",
    "print(attribute_types)"
   ]
  },
  {
   "cell_type": "code",
   "execution_count": 81,
   "metadata": {},
   "outputs": [
    {
     "name": "stdout",
     "output_type": "stream",
     "text": [
      "[1, 1, 1, 1, 1, 1, 1, 1, 1, 1, 1, 1, 1, 1]\n"
     ]
    }
   ],
   "source": [
    "dataset = day_data.copy()\n",
    "\n",
    "day_dataset_attribute_types = []\n",
    "for col in dataset.columns:\n",
    "    if dataset[col].dtype == 'object':\n",
    "        day_dataset_attribute_types.append(2)\n",
    "    else:\n",
    "        day_dataset_attribute_types.append(1)  \n",
    "\n",
    "print(day_dataset_attribute_types)"
   ]
  },
  {
   "attachments": {},
   "cell_type": "markdown",
   "metadata": {},
   "source": [
    "## Decision Tree"
   ]
  },
  {
   "attachments": {},
   "cell_type": "markdown",
   "metadata": {},
   "source": [
    "Classification"
   ]
  },
  {
   "cell_type": "code",
   "execution_count": 82,
   "metadata": {},
   "outputs": [],
   "source": [
    "class Node:\n",
    "    def __init__(self, feature_idx=None, threshold=None, value=None, left=None, right=None):\n",
    "        self.feature_idx = feature_idx   \n",
    "        self.threshold = threshold       \n",
    "        self.value = value              \n",
    "        self.left = left                \n",
    "        self.right = right             "
   ]
  },
  {
   "cell_type": "code",
   "execution_count": 83,
   "metadata": {},
   "outputs": [],
   "source": [
    "\n",
    "class DecisionTree:\n",
    "    def __init__(self, max_depth=None):\n",
    "        self.max_depth = max_depth\n",
    "        self.root = None\n",
    "        self.attribute_types = None  \n",
    "\n",
    "\n",
    "    def fit(self, X, y, attribute_types):\n",
    "        self.attribute_types = attribute_types  \n",
    "        self.root = self._build_tree(X, y, attribute_types, depth=0)\n",
    "\n",
    "    def predict(self, X):\n",
    "        y_pred = np.zeros(X.shape[0])\n",
    "        for i, sample in enumerate(X):\n",
    "            node = self.root\n",
    "            while node.left:\n",
    "                if self.attribute_types[node.feature_idx] == 1:\n",
    "                    if sample[node.feature_idx] <= node.threshold:\n",
    "                        node = node.left\n",
    "                    else:\n",
    "                        node = node.right\n",
    "                else:\n",
    "                    if sample[node.feature_idx] == node.threshold:\n",
    "                        node = node.left\n",
    "                    else:\n",
    "                        node = node.right\n",
    "            y_pred[i] = node.value\n",
    "        return y_pred\n",
    "\n",
    "    def _build_tree(self, X, y, attribute_types, depth):\n",
    "        n_samples, n_features = X.shape\n",
    "        n_classes = len(np.unique(y))\n",
    "\n",
    "        if depth == self.max_depth or n_samples < 2 or n_classes == 1:\n",
    "            leaf_value = self._most_common_label(y)\n",
    "            return Node(value=leaf_value)\n",
    "\n",
    "        best_feature_idx, best_threshold = self._best_split(X, y, attribute_types, n_samples, n_features, n_classes)\n",
    "\n",
    "        if best_feature_idx is None:\n",
    "            leaf_value = self._most_common_label(y)\n",
    "            return Node(value=leaf_value)\n",
    "        left_indices = X[:, best_feature_idx] <= best_threshold\n",
    "        right_indices = X[:, best_feature_idx] > best_threshold\n",
    "        left = self._build_tree(X[left_indices], y[left_indices], attribute_types, depth + 1)\n",
    "        right = self._build_tree(X[right_indices], y[right_indices], attribute_types, depth + 1)\n",
    "\n",
    "        return Node(best_feature_idx, best_threshold, left=left, right=right)\n",
    "\n",
    "    def _best_split(self, X, y, attribute_types, n_samples, n_features, n_classes):\n",
    "        best_gain = 0.0\n",
    "        best_feature_idx = None\n",
    "        best_threshold = None\n",
    "\n",
    "        for feature_idx in range(n_features):\n",
    "            if attribute_types[feature_idx] == 1:\n",
    "                feature_values = np.sort(np.unique(X[:, feature_idx]))\n",
    "                thresholds = (feature_values[:-1] + feature_values[1:]) / 2\n",
    "\n",
    "                for threshold in thresholds:\n",
    "                    gain = self._information_gain(X, y, feature_idx, threshold, n_classes)\n",
    "                    if gain > best_gain:\n",
    "                        best_gain = gain\n",
    "                        best_feature_idx = feature_idx\n",
    "                        best_threshold = threshold\n",
    "            else:\n",
    "                unique_vals = np.unique(X[:, feature_idx])\n",
    "                for val in unique_vals:\n",
    "                    gain = self._information_gain(X, y, feature_idx, val, n_classes)\n",
    "                    if gain > best_gain:\n",
    "                        best_gain = gain\n",
    "                        best_feature_idx = feature_idx\n",
    "                        best_threshold = val\n",
    "\n",
    "        return best_feature_idx, best_threshold\n",
    "\n",
    "    def _information_gain(self, X, y, feature_idx, threshold, n_classes):\n",
    "        left_indices = X[:, feature_idx] <= threshold\n",
    "        right_indices = X[:, feature_idx] > threshold\n",
    "\n",
    "        base_entropy = self._entropy(y, n_classes)\n",
    "        left_entropy = self._entropy(y[left_indices], n_classes)\n",
    "        right_entropy = self._entropy(y[right_indices], n_classes)\n",
    "        n_left, n_right = len(y[left_indices]), len(y[right_indices])\n",
    "        total_samples = n_left + n_right\n",
    "        information_gain = base_entropy - (n_left / total_samples) * left_entropy - (n_right / total_samples) * right_entropy\n",
    "\n",
    "        return information_gain\n",
    "\n",
    "    def _entropy(self, y, n_classes):\n",
    "        entropy = 0.0\n",
    "        for class_label in range(n_classes):\n",
    "            if len(y)==0:\n",
    "                p = 0\n",
    "            else:\n",
    "                p = np.sum(y == class_label) / len(y)\n",
    "            if p > 0:\n",
    "                entropy -= p * np.log2(p)\n",
    "        return entropy\n",
    "    \n",
    "\n",
    "    def _most_common_label(self, y):\n",
    "        unique, counts = np.unique(y, return_counts=True)\n",
    "        return unique[np.argmax(counts)]"
   ]
  },
  {
   "cell_type": "code",
   "execution_count": 84,
   "metadata": {},
   "outputs": [],
   "source": [
    "def build_dt(X, y, attribute_types, options=None):\n",
    "    tree = DecisionTree(max_depth=None)\n",
    "    tree.fit(X, y, attribute_types)\n",
    "    return tree\n"
   ]
  },
  {
   "cell_type": "code",
   "execution_count": 85,
   "metadata": {},
   "outputs": [],
   "source": [
    "def predict_dt(dt, X, options=None):\n",
    "    return dt.predict(X)"
   ]
  },
  {
   "cell_type": "code",
   "execution_count": 86,
   "metadata": {},
   "outputs": [],
   "source": [
    "dataset = audit_risk_data.copy()\n",
    "\n",
    "X = dataset.drop(\"Risk\", axis = 1)\n",
    "y = dataset['Risk']\n",
    "\n",
    "# define the number of folds for k-fold cross-validation\n",
    "n_splits = 6  # number of folds for k-fold cross-validation\n",
    "kf = KFold(n_splits=n_splits, shuffle=True)\n",
    "total_y_test = []\n",
    "total_y_pred = []\n",
    "\n",
    "for tr, te in kf.split(dataset):        \n",
    "    \n",
    "    x_train, x_test = X.iloc[tr], X.iloc[te]\n",
    "    y_train, y_test = y.iloc[tr], y.iloc[te]\n",
    "\n",
    "    # Convert X_train and y_train to NumPy arrays\n",
    "    x_train = np.array(x_train)\n",
    "    y_train = np.array(y_train)\n",
    "\n",
    "    # Convert X_test and y_test to a NumPy array\n",
    "    x_test = np.array(x_test)\n",
    "    y_test = np.array(y_test)\n",
    "\n",
    "    dt = build_dt(x_train,y_train,attribute_types)\n",
    "    y_pred = predict_dt(dt,x_test)\n",
    "\n",
    "    # Convert y_pred to a NumPy array  \n",
    "    y_pred = np.array(y_pred)\n",
    "    \n",
    "    total_y_test += y_test.tolist()\n",
    "    total_y_pred += y_pred.tolist()\n",
    "    \n",
    "total_y_test = np.array(total_y_test)\n",
    "total_y_pred = np.array(total_y_pred)"
   ]
  },
  {
   "cell_type": "code",
   "execution_count": 87,
   "metadata": {},
   "outputs": [
    {
     "name": "stdout",
     "output_type": "stream",
     "text": [
      "              precision    recall  f1-score   support\n",
      "\n",
      "           0       1.00      1.00      1.00       471\n",
      "           1       1.00      1.00      1.00       305\n",
      "\n",
      "    accuracy                           1.00       776\n",
      "   macro avg       1.00      1.00      1.00       776\n",
      "weighted avg       1.00      1.00      1.00       776\n",
      "\n",
      "Accuracy : % 100.0\n"
     ]
    },
    {
     "data": {
      "image/png": "[encoded data removed]",
      "text/plain": [
       "<Figure size 1200x900 with 2 Axes>"
      ]
     },
     "metadata": {},
     "output_type": "display_data"
    }
   ],
   "source": [
    "ReportPerformance(total_y_test, total_y_pred)\n",
    "ViewAccuracy(total_y_test, total_y_pred)\n",
    "ViewConfusionMatrix(total_y_test.astype(int), total_y_pred.astype(int))\n"
   ]
  },
  {
   "attachments": {},
   "cell_type": "markdown",
   "metadata": {},
   "source": [
    "Regression"
   ]
  },
  {
   "cell_type": "code",
   "execution_count": 88,
   "metadata": {},
   "outputs": [],
   "source": [
    "class DecisionTreeRegressor:\n",
    "    def __init__(self, max_depth=None):\n",
    "        self.max_depth = max_depth\n",
    "        self.root = None\n",
    "        self.attribute_types = None\n",
    "\n",
    "    def fit(self, X, y, attribute_types):\n",
    "        self.attribute_types = attribute_types\n",
    "        self.root = self._build_tree(X.to_numpy(), y, attribute_types, depth=0)\n",
    "\n",
    "    def predict(self, X):\n",
    "        y_pred = np.zeros(X.shape[0])\n",
    "        for i, sample in enumerate(X.to_numpy()):\n",
    "            node = self.root\n",
    "            while node.left:\n",
    "                if self.attribute_types[node.feature_idx] == 1:\n",
    "                    if sample[node.feature_idx] <= node.threshold:\n",
    "                        node = node.left\n",
    "                    else:\n",
    "                        node = node.right\n",
    "                else:\n",
    "                    if sample[node.feature_idx] == node.threshold:\n",
    "                        node = node.left\n",
    "                    else:\n",
    "                        node = node.right\n",
    "            y_pred[i] = node.value\n",
    "        return y_pred\n",
    "\n",
    "    def _build_tree(self, X, y, attribute_types, depth):\n",
    "        n_samples, n_features = X.shape\n",
    "        \n",
    "        if depth == self.max_depth or n_samples <= 1:\n",
    "            leaf_value = np.mean(y)\n",
    "            return Node(value=leaf_value)\n",
    "\n",
    "        best_feature_idx, best_threshold = self._best_split(X, y, attribute_types, n_samples, n_features)\n",
    "\n",
    "        if best_feature_idx is None:\n",
    "            leaf_value = np.mean(y)\n",
    "            return Node(value=leaf_value)\n",
    "      \n",
    "        left_indices = X[:, best_feature_idx] <= best_threshold\n",
    "        right_indices = X[:, best_feature_idx] > best_threshold\n",
    "        left = self._build_tree(X[left_indices], y[left_indices], attribute_types, depth + 1)\n",
    "        right = self._build_tree(X[right_indices], y[right_indices], attribute_types, depth + 1)\n",
    "\n",
    "        return Node(best_feature_idx, best_threshold, left=left, right=right, value=None)\n",
    "\n",
    "    def _best_split(self, X, y, attribute_types, n_samples, n_features):\n",
    "        best_mse = np.inf\n",
    "        best_feature_idx = None\n",
    "        best_threshold = None\n",
    "\n",
    "        for feature_idx in range(n_features):\n",
    "            if attribute_types[feature_idx] == 1:\n",
    "\n",
    "                feature_values = np.sort(np.unique(X[:, feature_idx]))\n",
    "                thresholds = (feature_values[:-1] + feature_values[1:]) / 2\n",
    "\n",
    "             \n",
    "                for threshold in thresholds:\n",
    "                    mse = self._mse(X, y, feature_idx, threshold)\n",
    "                    if mse < best_mse:\n",
    "                        best_mse = mse\n",
    "                        best_feature_idx = feature_idx\n",
    "                        best_threshold = threshold\n",
    "            else:\n",
    "                unique_vals = np.unique(X[:, feature_idx])\n",
    "                for val in unique_vals:\n",
    "                    mse = self._mse(X, y, feature_idx, val)\n",
    "                    if mse < best_mse:\n",
    "                        best_mse = mse\n",
    "                        best_feature_idx = feature_idx\n",
    "                        best_threshold = val\n",
    "        \n",
    "        return best_feature_idx, best_threshold\n",
    "\n",
    "    def _mse(self, X, y, feature_idx, threshold):\n",
    "        left_indices = X[:, feature_idx] <= threshold\n",
    "        right_indices = X[:, feature_idx] > threshold\n",
    "\n",
    "        y_left, y_right = y[left_indices], y[right_indices]\n",
    "        mse_left = np.mean((y_left - np.mean(y_left)) ** 2)\n",
    "        mse_right = np.mean((y_right - np.mean(y_right)) ** 2)\n",
    "        n_left, n_right = len(y_left), len(y_right)\n",
    "        total_samples = n_left + n_right\n",
    "        mse = (n_left / total_samples) * mse_left + (n_right / total_samples) * mse_right\n",
    "\n",
    "        return mse\n",
    "\n"
   ]
  },
  {
   "cell_type": "code",
   "execution_count": 89,
   "metadata": {},
   "outputs": [],
   "source": [
    "def build_dt_regressor(X, y, attribute_types, options=None):\n",
    "    tree = DecisionTreeRegressor(max_depth=None)\n",
    "    tree.fit(X, y, attribute_types)   \n",
    "    return tree\n"
   ]
  },
  {
   "cell_type": "code",
   "execution_count": 90,
   "metadata": {},
   "outputs": [],
   "source": [
    "def predict_dt_regressor(dt, X, options=None):\n",
    "    return dt.predict(X)"
   ]
  },
  {
   "cell_type": "code",
   "execution_count": 91,
   "metadata": {},
   "outputs": [
    {
     "name": "stdout",
     "output_type": "stream",
     "text": [
      "Mean MSE score:  44373.30839317166\n"
     ]
    }
   ],
   "source": [
    "dataset = day_data.copy()\n",
    "\n",
    "X = dataset.drop(\"cnt\", axis = 1)\n",
    "y = dataset['cnt']\n",
    "\n",
    "X = pd.DataFrame(X)\n",
    "\n",
    "\n",
    "\n",
    "# define the number of folds for k-fold cross-validation\n",
    "n_splits = 6  # number of folds for k-fold cross-validation\n",
    "kf = KFold(n_splits=n_splits, shuffle=True)\n",
    "\n",
    "\n",
    "mse_scores_ = np.zeros(n_splits)\n",
    "r2_scores_ = np.zeros(n_splits)\n",
    "\n",
    "fold = 0\n",
    "\n",
    "total_y_test = []\n",
    "total_y_pred = []\n",
    "\n",
    "\n",
    "for tr, te in kf.split(dataset):\n",
    "    x_train, x_test = X.iloc[tr], X.iloc[te]\n",
    "    y_train, y_test = y.iloc[tr], y.iloc[te]\n",
    "\n",
    "        \n",
    "    dt_regressor = build_dt_regressor(x_train,y_train,day_dataset_attribute_types)\n",
    "    y_pred = predict_dt_regressor(dt_regressor,x_test)\n",
    "\n",
    "    \n",
    "    # Convert y_pred to a NumPy array  \n",
    "    y_pred = np.array(y_pred)\n",
    "\n",
    "\n",
    "    total_y_test += y_test.tolist()\n",
    "    total_y_pred += y_pred.tolist()\n",
    "    \n",
    "\n",
    "    # Compute the mean squared error and R2 score\n",
    "    mse_scores_[fold] = mean_squared_error(y_test, y_pred)\n",
    "      \n",
    "    fold += 1\n",
    "\n",
    "\n",
    "total_y_test = np.array(total_y_test)\n",
    "total_y_pred = np.array(total_y_pred)\n",
    "\n",
    "print('Mean MSE score: ', mse_scores_.mean())\n"
   ]
  },
  {
   "attachments": {},
   "cell_type": "markdown",
   "metadata": {},
   "source": [
    "## Random Forest"
   ]
  },
  {
   "attachments": {},
   "cell_type": "markdown",
   "metadata": {},
   "source": [
    "Classification"
   ]
  },
  {
   "cell_type": "code",
   "execution_count": 92,
   "metadata": {},
   "outputs": [],
   "source": [
    "class RandomForest:\n",
    "    def __init__(self, n_trees, max_depth=None):\n",
    "        self.n_trees = n_trees\n",
    "        self.max_depth = max_depth\n",
    "        self.trees = []\n",
    "        \n",
    "\n",
    "    def fit(self, X, y, attribute_types):\n",
    "        for i in range(self.n_trees):\n",
    "            tree = DecisionTree(max_depth=self.max_depth)\n",
    "            bootstrap_indices = np.random.choice(len(X), size=len(X), replace=True)\n",
    "            bootstrap_X = X[bootstrap_indices]\n",
    "            bootstrap_y = y[bootstrap_indices]\n",
    "            tree.fit(bootstrap_X, bootstrap_y, attribute_types)\n",
    "            self.trees.append(tree)\n",
    "\n",
    "    def predict(self, X):\n",
    "        y_preds = np.zeros((len(X), len(self.trees)))\n",
    "        for i, tree in enumerate(self.trees):\n",
    "            y_preds[:, i] = tree.predict(X)\n",
    "        return mode(y_preds, axis=1,keepdims=False)[0].flatten()\n",
    "\n"
   ]
  },
  {
   "cell_type": "code",
   "execution_count": 93,
   "metadata": {},
   "outputs": [],
   "source": [
    "def build_rdf(X, y, attribute_types, N, options=None):\n",
    "    rdf = RandomForest(n_trees=N)\n",
    "    rdf.fit(X, y, attribute_types)\n",
    "    return rdf"
   ]
  },
  {
   "cell_type": "code",
   "execution_count": 94,
   "metadata": {},
   "outputs": [],
   "source": [
    "def predict_rdf(rdf, X, options=None):\n",
    "    return rdf.predict(X)"
   ]
  },
  {
   "cell_type": "code",
   "execution_count": 95,
   "metadata": {},
   "outputs": [],
   "source": [
    "dataset = audit_risk_data.copy()\n",
    "\n",
    "X = dataset.drop(\"Risk\", axis = 1)\n",
    "y = dataset['Risk']\n",
    "\n",
    "# define the number of folds for k-fold cross-validation\n",
    "n_splits = 6  # number of folds for k-fold cross-validation\n",
    "kf = KFold(n_splits=n_splits, shuffle=True)\n",
    "total_y_test = []\n",
    "total_y_pred = []\n",
    "\n",
    "for tr, te in kf.split(dataset):        \n",
    "    \n",
    "    x_train, x_test = X.iloc[tr], X.iloc[te]\n",
    "    y_train, y_test = y.iloc[tr], y.iloc[te]\n",
    "\n",
    "    # Convert X_train and y_train to NumPy arrays\n",
    "    x_train = np.array(x_train)\n",
    "    y_train = np.array(y_train)\n",
    "\n",
    "    # Convert X_test and y_test to a NumPy array\n",
    "    x_test = np.array(x_test)\n",
    "    y_test = np.array(y_test)\n",
    "\n",
    "    rdf = build_rdf(x_train,y_train,attribute_types,10)\n",
    "    y_pred = predict_rdf(rdf,x_test)\n",
    "\n",
    "    # Convert y_pred to a NumPy array  \n",
    "    y_pred = np.array(y_pred)\n",
    "    \n",
    "    total_y_test += y_test.tolist()\n",
    "    total_y_pred += y_pred.tolist()\n",
    "    \n",
    "total_y_test = np.array(total_y_test)\n",
    "total_y_pred = np.array(total_y_pred)"
   ]
  },
  {
   "cell_type": "code",
   "execution_count": 96,
   "metadata": {},
   "outputs": [
    {
     "name": "stdout",
     "output_type": "stream",
     "text": [
      "              precision    recall  f1-score   support\n",
      "\n",
      "           0       1.00      1.00      1.00       471\n",
      "           1       1.00      1.00      1.00       305\n",
      "\n",
      "    accuracy                           1.00       776\n",
      "   macro avg       1.00      1.00      1.00       776\n",
      "weighted avg       1.00      1.00      1.00       776\n",
      "\n",
      "Accuracy : % 100.0\n"
     ]
    },
    {
     "data": {
      "image/png": "[encoded data removed]",
      "text/plain": [
       "<Figure size 1200x900 with 2 Axes>"
      ]
     },
     "metadata": {},
     "output_type": "display_data"
    }
   ],
   "source": [
    "ReportPerformance(total_y_test, total_y_pred)\n",
    "ViewAccuracy(total_y_test, total_y_pred)\n",
    "ViewConfusionMatrix(total_y_test.astype(int), total_y_pred.astype(int))\n"
   ]
  },
  {
   "attachments": {},
   "cell_type": "markdown",
   "metadata": {},
   "source": [
    "Regression"
   ]
  },
  {
   "cell_type": "code",
   "execution_count": 97,
   "metadata": {},
   "outputs": [],
   "source": [
    "class RandomForestRegressor:\n",
    "    def __init__(self, n_trees, max_depth=None):\n",
    "        self.n_trees = n_trees\n",
    "        self.max_depth = max_depth\n",
    "        self.trees = []\n",
    "\n",
    "    def fit(self, X, y, attribute_types):\n",
    "\n",
    "        X = X.reset_index(drop=True)\n",
    "\n",
    "        for i in range(self.n_trees):\n",
    "            tree = DecisionTreeRegressor(max_depth=self.max_depth)\n",
    "            indices = np.random.choice(X.shape[0], X.shape[0], replace=True)\n",
    "            tree.fit(X.iloc[indices], y.iloc[indices].values.ravel(), attribute_types)           \n",
    "            self.trees.append(tree)\n",
    "\n",
    "    def predict(self, X):\n",
    "        y_pred = np.zeros(X.shape[0])\n",
    "        for tree in self.trees:\n",
    "            y_pred += tree.predict(X)\n",
    "        y_pred /= self.n_trees\n",
    "        return y_pred\n"
   ]
  },
  {
   "cell_type": "code",
   "execution_count": 98,
   "metadata": {},
   "outputs": [],
   "source": [
    "def build_rdf_regression(X, y, attribute_types, N, options=None):\n",
    "    rdf = RandomForestRegressor(n_trees=N)\n",
    "    rdf.fit(X, y, attribute_types)\n",
    "    return rdf"
   ]
  },
  {
   "cell_type": "code",
   "execution_count": 99,
   "metadata": {},
   "outputs": [],
   "source": [
    "def predict_rdf_regression(rdf, X, options=None):\n",
    "    return rdf.predict(X)"
   ]
  },
  {
   "cell_type": "code",
   "execution_count": 100,
   "metadata": {},
   "outputs": [
    {
     "name": "stdout",
     "output_type": "stream",
     "text": [
      "Mean MSE score:  21737.51250406449\n"
     ]
    }
   ],
   "source": [
    "dataset = day_data.copy()\n",
    "\n",
    "X = dataset.drop(\"cnt\", axis = 1)\n",
    "y = dataset['cnt']\n",
    "\n",
    "X = pd.DataFrame(X)\n",
    "\n",
    "\n",
    "\n",
    "# define the number of folds for k-fold cross-validation\n",
    "n_splits = 6  # number of folds for k-fold cross-validation\n",
    "kf = KFold(n_splits=n_splits, shuffle=True)\n",
    "\n",
    "\n",
    "mse_scores_ = np.zeros(n_splits)\n",
    "r2_scores_ = np.zeros(n_splits)\n",
    "\n",
    "fold = 0\n",
    "\n",
    "total_y_test = []\n",
    "total_y_pred = []\n",
    "\n",
    "\n",
    "for tr, te in kf.split(dataset):\n",
    "    x_train, x_test = X.iloc[tr], X.iloc[te]\n",
    "    y_train, y_test = y.iloc[tr], y.iloc[te]\n",
    "\n",
    "    \n",
    "    rdf_regressor = build_rdf_regression(x_train,y_train,day_dataset_attribute_types,10)\n",
    "    y_pred = predict_rdf_regression(rdf_regressor,x_test)\n",
    "\n",
    "    \n",
    "    # Convert y_pred to a NumPy array  \n",
    "    y_pred = np.array(y_pred)\n",
    "\n",
    "\n",
    "    total_y_test += y_test.tolist()\n",
    "    total_y_pred += y_pred.tolist()\n",
    "    \n",
    "\n",
    "    # Compute the mean squared error and R2 score\n",
    "    mse_scores_[fold] = mean_squared_error(y_test, y_pred)\n",
    "      \n",
    "    fold += 1\n",
    "\n",
    "\n",
    "total_y_test = np.array(total_y_test)\n",
    "total_y_pred = np.array(total_y_pred)\n",
    "\n",
    "print('Mean MSE score: ', mse_scores_.mean())\n"
   ]
  }
 ],
 "metadata": {
  "kernelspec": {
   "display_name": "Python 3",
   "language": "python",
   "name": "python3"
  },
  "language_info": {
   "codemirror_mode": {
    "name": "ipython",
    "version": 3
   },
   "file_extension": ".py",
   "mimetype": "text/x-python",
   "name": "python",
   "nbconvert_exporter": "python",
   "pygments_lexer": "ipython3",
   "version": "3.8.10"
  },
  "orig_nbformat": 4,
  "vscode": {
   "interpreter": {
    "hash": "31f2aee4e71d21fbe5cf8b01ff0e069b9275f58929596ceb00d14d90e3e16cd6"
   }
  }
 },
 "nbformat": 4,
 "nbformat_minor": 2
}
