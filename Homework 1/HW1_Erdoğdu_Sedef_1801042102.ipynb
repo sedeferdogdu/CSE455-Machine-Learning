{
 "cells": [
  {
   "attachments": {},
   "cell_type": "markdown",
   "metadata": {},
   "source": [
    "## Import Necessary Libraries"
   ]
  },
  {
   "cell_type": "code",
   "execution_count": 1,
   "metadata": {},
   "outputs": [],
   "source": [
    "import numpy as np \n",
    "import pandas as pd\n",
    "import math\n",
    "from sklearn.metrics import accuracy_score\n",
    "from sklearn.metrics import mean_squared_error\n",
    "from sklearn.svm import SVR\n",
    "from sklearn.model_selection import KFold\n",
    "from sklearn.metrics import confusion_matrix\n",
    "import scikitplot as skplt\n",
    "import matplotlib.pyplot as plt\n",
    "from sklearn.metrics import classification_report\n",
    "from sklearn.metrics import roc_curve\n",
    "from sklearn import metrics\n",
    "from sklearn.svm import SVC\n",
    "from sklearn import tree\n",
    "from sklearn.metrics import mean_absolute_error\n",
    "import time\n",
    "\n"
   ]
  },
  {
   "attachments": {},
   "cell_type": "markdown",
   "metadata": {},
   "source": [
    "## Read Datasets"
   ]
  },
  {
   "attachments": {},
   "cell_type": "markdown",
   "metadata": {},
   "source": [
    "Reading audit dataset"
   ]
  },
  {
   "cell_type": "code",
   "execution_count": 2,
   "metadata": {},
   "outputs": [
    {
     "data": {
      "text/html": [
       "<div>\n",
       "<style scoped>\n",
       "    .dataframe tbody tr th:only-of-type {\n",
       "        vertical-align: middle;\n",
       "    }\n",
       "\n",
       "    .dataframe tbody tr th {\n",
       "        vertical-align: top;\n",
       "    }\n",
       "\n",
       "    .dataframe thead th {\n",
       "        text-align: right;\n",
       "    }\n",
       "</style>\n",
       "<table border=\"1\" class=\"dataframe\">\n",
       "  <thead>\n",
       "    <tr style=\"text-align: right;\">\n",
       "      <th></th>\n",
       "      <th>Sector_score</th>\n",
       "      <th>LOCATION_ID</th>\n",
       "      <th>PARA_A</th>\n",
       "      <th>Score_A</th>\n",
       "      <th>Risk_A</th>\n",
       "      <th>PARA_B</th>\n",
       "      <th>Score_B</th>\n",
       "      <th>Risk_B</th>\n",
       "      <th>TOTAL</th>\n",
       "      <th>numbers</th>\n",
       "      <th>...</th>\n",
       "      <th>RiSk_E</th>\n",
       "      <th>History</th>\n",
       "      <th>Prob</th>\n",
       "      <th>Risk_F</th>\n",
       "      <th>Score</th>\n",
       "      <th>Inherent_Risk</th>\n",
       "      <th>CONTROL_RISK</th>\n",
       "      <th>Detection_Risk</th>\n",
       "      <th>Audit_Risk</th>\n",
       "      <th>Risk</th>\n",
       "    </tr>\n",
       "  </thead>\n",
       "  <tbody>\n",
       "    <tr>\n",
       "      <th>0</th>\n",
       "      <td>3.89</td>\n",
       "      <td>23</td>\n",
       "      <td>4.18</td>\n",
       "      <td>0.6</td>\n",
       "      <td>2.508</td>\n",
       "      <td>2.50</td>\n",
       "      <td>0.2</td>\n",
       "      <td>0.500</td>\n",
       "      <td>6.68</td>\n",
       "      <td>5.0</td>\n",
       "      <td>...</td>\n",
       "      <td>0.4</td>\n",
       "      <td>0</td>\n",
       "      <td>0.2</td>\n",
       "      <td>0.0</td>\n",
       "      <td>2.4</td>\n",
       "      <td>8.574</td>\n",
       "      <td>0.4</td>\n",
       "      <td>0.5</td>\n",
       "      <td>1.7148</td>\n",
       "      <td>1</td>\n",
       "    </tr>\n",
       "    <tr>\n",
       "      <th>1</th>\n",
       "      <td>3.89</td>\n",
       "      <td>6</td>\n",
       "      <td>0.00</td>\n",
       "      <td>0.2</td>\n",
       "      <td>0.000</td>\n",
       "      <td>4.83</td>\n",
       "      <td>0.2</td>\n",
       "      <td>0.966</td>\n",
       "      <td>4.83</td>\n",
       "      <td>5.0</td>\n",
       "      <td>...</td>\n",
       "      <td>0.4</td>\n",
       "      <td>0</td>\n",
       "      <td>0.2</td>\n",
       "      <td>0.0</td>\n",
       "      <td>2.0</td>\n",
       "      <td>2.554</td>\n",
       "      <td>0.4</td>\n",
       "      <td>0.5</td>\n",
       "      <td>0.5108</td>\n",
       "      <td>0</td>\n",
       "    </tr>\n",
       "    <tr>\n",
       "      <th>2</th>\n",
       "      <td>3.89</td>\n",
       "      <td>6</td>\n",
       "      <td>0.51</td>\n",
       "      <td>0.2</td>\n",
       "      <td>0.102</td>\n",
       "      <td>0.23</td>\n",
       "      <td>0.2</td>\n",
       "      <td>0.046</td>\n",
       "      <td>0.74</td>\n",
       "      <td>5.0</td>\n",
       "      <td>...</td>\n",
       "      <td>0.4</td>\n",
       "      <td>0</td>\n",
       "      <td>0.2</td>\n",
       "      <td>0.0</td>\n",
       "      <td>2.0</td>\n",
       "      <td>1.548</td>\n",
       "      <td>0.4</td>\n",
       "      <td>0.5</td>\n",
       "      <td>0.3096</td>\n",
       "      <td>0</td>\n",
       "    </tr>\n",
       "    <tr>\n",
       "      <th>3</th>\n",
       "      <td>3.89</td>\n",
       "      <td>6</td>\n",
       "      <td>0.00</td>\n",
       "      <td>0.2</td>\n",
       "      <td>0.000</td>\n",
       "      <td>10.80</td>\n",
       "      <td>0.6</td>\n",
       "      <td>6.480</td>\n",
       "      <td>10.80</td>\n",
       "      <td>6.0</td>\n",
       "      <td>...</td>\n",
       "      <td>0.4</td>\n",
       "      <td>0</td>\n",
       "      <td>0.2</td>\n",
       "      <td>0.0</td>\n",
       "      <td>4.4</td>\n",
       "      <td>17.530</td>\n",
       "      <td>0.4</td>\n",
       "      <td>0.5</td>\n",
       "      <td>3.5060</td>\n",
       "      <td>1</td>\n",
       "    </tr>\n",
       "    <tr>\n",
       "      <th>4</th>\n",
       "      <td>3.89</td>\n",
       "      <td>6</td>\n",
       "      <td>0.00</td>\n",
       "      <td>0.2</td>\n",
       "      <td>0.000</td>\n",
       "      <td>0.08</td>\n",
       "      <td>0.2</td>\n",
       "      <td>0.016</td>\n",
       "      <td>0.08</td>\n",
       "      <td>5.0</td>\n",
       "      <td>...</td>\n",
       "      <td>0.4</td>\n",
       "      <td>0</td>\n",
       "      <td>0.2</td>\n",
       "      <td>0.0</td>\n",
       "      <td>2.0</td>\n",
       "      <td>1.416</td>\n",
       "      <td>0.4</td>\n",
       "      <td>0.5</td>\n",
       "      <td>0.2832</td>\n",
       "      <td>0</td>\n",
       "    </tr>\n",
       "  </tbody>\n",
       "</table>\n",
       "<p>5 rows × 27 columns</p>\n",
       "</div>"
      ],
      "text/plain": [
       "   Sector_score LOCATION_ID  PARA_A  Score_A  Risk_A  PARA_B  Score_B  Risk_B  \\\n",
       "0          3.89          23    4.18      0.6   2.508    2.50      0.2   0.500   \n",
       "1          3.89           6    0.00      0.2   0.000    4.83      0.2   0.966   \n",
       "2          3.89           6    0.51      0.2   0.102    0.23      0.2   0.046   \n",
       "3          3.89           6    0.00      0.2   0.000   10.80      0.6   6.480   \n",
       "4          3.89           6    0.00      0.2   0.000    0.08      0.2   0.016   \n",
       "\n",
       "   TOTAL  numbers  ...  RiSk_E  History  Prob  Risk_F  Score  Inherent_Risk  \\\n",
       "0   6.68      5.0  ...     0.4        0   0.2     0.0    2.4          8.574   \n",
       "1   4.83      5.0  ...     0.4        0   0.2     0.0    2.0          2.554   \n",
       "2   0.74      5.0  ...     0.4        0   0.2     0.0    2.0          1.548   \n",
       "3  10.80      6.0  ...     0.4        0   0.2     0.0    4.4         17.530   \n",
       "4   0.08      5.0  ...     0.4        0   0.2     0.0    2.0          1.416   \n",
       "\n",
       "   CONTROL_RISK  Detection_Risk  Audit_Risk  Risk  \n",
       "0           0.4             0.5      1.7148     1  \n",
       "1           0.4             0.5      0.5108     0  \n",
       "2           0.4             0.5      0.3096     0  \n",
       "3           0.4             0.5      3.5060     1  \n",
       "4           0.4             0.5      0.2832     0  \n",
       "\n",
       "[5 rows x 27 columns]"
      ]
     },
     "execution_count": 2,
     "metadata": {},
     "output_type": "execute_result"
    }
   ],
   "source": [
    "audit_risk_data = pd.read_csv(\"audit_data/audit_risk.csv\")\n",
    "audit_risk_data.head()"
   ]
  },
  {
   "cell_type": "code",
   "execution_count": 3,
   "metadata": {},
   "outputs": [
    {
     "data": {
      "text/plain": [
       "(776, 27)"
      ]
     },
     "execution_count": 3,
     "metadata": {},
     "output_type": "execute_result"
    }
   ],
   "source": [
    "audit_risk_data.shape"
   ]
  },
  {
   "cell_type": "code",
   "execution_count": 4,
   "metadata": {},
   "outputs": [
    {
     "data": {
      "text/plain": [
       "Index(['Sector_score', 'LOCATION_ID', 'PARA_A', 'Score_A', 'Risk_A', 'PARA_B',\n",
       "       'Score_B', 'Risk_B', 'TOTAL', 'numbers', 'Score_B.1', 'Risk_C',\n",
       "       'Money_Value', 'Score_MV', 'Risk_D', 'District_Loss', 'PROB', 'RiSk_E',\n",
       "       'History', 'Prob', 'Risk_F', 'Score', 'Inherent_Risk', 'CONTROL_RISK',\n",
       "       'Detection_Risk', 'Audit_Risk', 'Risk'],\n",
       "      dtype='object')"
      ]
     },
     "execution_count": 4,
     "metadata": {},
     "output_type": "execute_result"
    }
   ],
   "source": [
    "audit_risk_data.columns"
   ]
  },
  {
   "attachments": {},
   "cell_type": "markdown",
   "metadata": {},
   "source": [
    "Check whether there is null value or not"
   ]
  },
  {
   "cell_type": "code",
   "execution_count": 5,
   "metadata": {},
   "outputs": [
    {
     "data": {
      "text/plain": [
       "Sector_score      0\n",
       "LOCATION_ID       0\n",
       "PARA_A            0\n",
       "Score_A           0\n",
       "Risk_A            0\n",
       "PARA_B            0\n",
       "Score_B           0\n",
       "Risk_B            0\n",
       "TOTAL             0\n",
       "numbers           0\n",
       "Score_B.1         0\n",
       "Risk_C            0\n",
       "Money_Value       1\n",
       "Score_MV          0\n",
       "Risk_D            0\n",
       "District_Loss     0\n",
       "PROB              0\n",
       "RiSk_E            0\n",
       "History           0\n",
       "Prob              0\n",
       "Risk_F            0\n",
       "Score             0\n",
       "Inherent_Risk     0\n",
       "CONTROL_RISK      0\n",
       "Detection_Risk    0\n",
       "Audit_Risk        0\n",
       "Risk              0\n",
       "dtype: int64"
      ]
     },
     "execution_count": 5,
     "metadata": {},
     "output_type": "execute_result"
    }
   ],
   "source": [
    "audit_risk_data.isnull().sum()"
   ]
  },
  {
   "attachments": {},
   "cell_type": "markdown",
   "metadata": {},
   "source": [
    "According to this result, there is null value in dataset. "
   ]
  },
  {
   "cell_type": "code",
   "execution_count": 6,
   "metadata": {},
   "outputs": [
    {
     "name": "stdout",
     "output_type": "stream",
     "text": [
      "Mode: 0    0.0\n",
      "Name: Money_Value, dtype: float64\n",
      "Mean: 14.137630967741934\n",
      "Median: 0.09\n"
     ]
    }
   ],
   "source": [
    "print(\"Mode: {}\".format(audit_risk_data.Money_Value.mode()))\n",
    "print(\"Mean: {}\".format(audit_risk_data.Money_Value.mean()))\n",
    "print(\"Median: {}\".format(audit_risk_data.Money_Value.median()))"
   ]
  },
  {
   "attachments": {},
   "cell_type": "markdown",
   "metadata": {},
   "source": [
    "Fill the null value with mean."
   ]
  },
  {
   "cell_type": "code",
   "execution_count": 7,
   "metadata": {},
   "outputs": [],
   "source": [
    "audit_risk_data['Money_Value'] = audit_risk_data['Money_Value'].fillna(audit_risk_data.Money_Value.mean())\n"
   ]
  },
  {
   "attachments": {},
   "cell_type": "markdown",
   "metadata": {},
   "source": [
    "Check if there is a still null value or not"
   ]
  },
  {
   "cell_type": "code",
   "execution_count": 8,
   "metadata": {},
   "outputs": [
    {
     "data": {
      "text/plain": [
       "Sector_score      0\n",
       "LOCATION_ID       0\n",
       "PARA_A            0\n",
       "Score_A           0\n",
       "Risk_A            0\n",
       "PARA_B            0\n",
       "Score_B           0\n",
       "Risk_B            0\n",
       "TOTAL             0\n",
       "numbers           0\n",
       "Score_B.1         0\n",
       "Risk_C            0\n",
       "Money_Value       0\n",
       "Score_MV          0\n",
       "Risk_D            0\n",
       "District_Loss     0\n",
       "PROB              0\n",
       "RiSk_E            0\n",
       "History           0\n",
       "Prob              0\n",
       "Risk_F            0\n",
       "Score             0\n",
       "Inherent_Risk     0\n",
       "CONTROL_RISK      0\n",
       "Detection_Risk    0\n",
       "Audit_Risk        0\n",
       "Risk              0\n",
       "dtype: int64"
      ]
     },
     "execution_count": 8,
     "metadata": {},
     "output_type": "execute_result"
    }
   ],
   "source": [
    "audit_risk_data.isnull().sum()"
   ]
  },
  {
   "attachments": {},
   "cell_type": "markdown",
   "metadata": {},
   "source": [
    "There is no longer null values"
   ]
  },
  {
   "attachments": {},
   "cell_type": "markdown",
   "metadata": {},
   "source": [
    "Check the data type:"
   ]
  },
  {
   "cell_type": "code",
   "execution_count": 9,
   "metadata": {},
   "outputs": [
    {
     "name": "stdout",
     "output_type": "stream",
     "text": [
      "<class 'pandas.core.frame.DataFrame'>\n",
      "RangeIndex: 776 entries, 0 to 775\n",
      "Data columns (total 27 columns):\n",
      " #   Column          Non-Null Count  Dtype  \n",
      "---  ------          --------------  -----  \n",
      " 0   Sector_score    776 non-null    float64\n",
      " 1   LOCATION_ID     776 non-null    object \n",
      " 2   PARA_A          776 non-null    float64\n",
      " 3   Score_A         776 non-null    float64\n",
      " 4   Risk_A          776 non-null    float64\n",
      " 5   PARA_B          776 non-null    float64\n",
      " 6   Score_B         776 non-null    float64\n",
      " 7   Risk_B          776 non-null    float64\n",
      " 8   TOTAL           776 non-null    float64\n",
      " 9   numbers         776 non-null    float64\n",
      " 10  Score_B.1       776 non-null    float64\n",
      " 11  Risk_C          776 non-null    float64\n",
      " 12  Money_Value     776 non-null    float64\n",
      " 13  Score_MV        776 non-null    float64\n",
      " 14  Risk_D          776 non-null    float64\n",
      " 15  District_Loss   776 non-null    int64  \n",
      " 16  PROB            776 non-null    float64\n",
      " 17  RiSk_E          776 non-null    float64\n",
      " 18  History         776 non-null    int64  \n",
      " 19  Prob            776 non-null    float64\n",
      " 20  Risk_F          776 non-null    float64\n",
      " 21  Score           776 non-null    float64\n",
      " 22  Inherent_Risk   776 non-null    float64\n",
      " 23  CONTROL_RISK    776 non-null    float64\n",
      " 24  Detection_Risk  776 non-null    float64\n",
      " 25  Audit_Risk      776 non-null    float64\n",
      " 26  Risk            776 non-null    int64  \n",
      "dtypes: float64(23), int64(3), object(1)\n",
      "memory usage: 163.8+ KB\n"
     ]
    }
   ],
   "source": [
    "audit_risk_data.info()"
   ]
  },
  {
   "attachments": {},
   "cell_type": "markdown",
   "metadata": {},
   "source": [
    "When converthing LOCATION_ID column type from object to integer using this: audit_risk_data['LOCATION_ID'] = audit_risk_data['LOCATION_ID'].astype(int), an error occurred. \n",
    "The error says \"invalid literal for int() with base 10: 'LOHARU' \". \n"
   ]
  },
  {
   "attachments": {},
   "cell_type": "markdown",
   "metadata": {},
   "source": [
    "Check the value counts in LOCATION_ID columns"
   ]
  },
  {
   "cell_type": "code",
   "execution_count": 10,
   "metadata": {},
   "outputs": [
    {
     "name": "stdout",
     "output_type": "stream",
     "text": [
      "8          76\n",
      "19         68\n",
      "9          53\n",
      "16         52\n",
      "12         47\n",
      "5          44\n",
      "2          41\n",
      "4          37\n",
      "15         35\n",
      "13         35\n",
      "6          33\n",
      "32         29\n",
      "11         26\n",
      "22         24\n",
      "29         21\n",
      "14         20\n",
      "18         16\n",
      "31         12\n",
      "1          11\n",
      "37         10\n",
      "39          9\n",
      "28          8\n",
      "21          8\n",
      "27          8\n",
      "43          7\n",
      "25          6\n",
      "20          5\n",
      "7           4\n",
      "30          4\n",
      "38          4\n",
      "36          4\n",
      "3           3\n",
      "40          3\n",
      "35          2\n",
      "44          1\n",
      "NUH         1\n",
      "LOHARU      1\n",
      "SAFIDON     1\n",
      "23          1\n",
      "42          1\n",
      "41          1\n",
      "34          1\n",
      "33          1\n",
      "24          1\n",
      "17          1\n",
      "Name: LOCATION_ID, dtype: int64\n"
     ]
    }
   ],
   "source": [
    "counts = audit_risk_data['LOCATION_ID'].value_counts()\n",
    "print(counts)"
   ]
  },
  {
   "attachments": {},
   "cell_type": "markdown",
   "metadata": {},
   "source": [
    "According to this, there are some string value in this column. \n",
    "To handle this, first, find only the indices of non-integer values. \n",
    "Then, calculate the mean of the \"LOCATION_ID\" column in the dataset named \"numeric_df\" \n",
    "and replaces the \"LOCATION_ID\" values contained in the rows in the \"non_numeric_indices\" list with this mean value. \n",
    "And, finally, control the number of the indices of non-integer values which should be empty."
   ]
  },
  {
   "cell_type": "code",
   "execution_count": 11,
   "metadata": {},
   "outputs": [
    {
     "name": "stdout",
     "output_type": "stream",
     "text": [
      "There are 3 non-numerical values. Indexes: [351, 355, 367]\n",
      "After replacing the LOCATION_ID values contained in the rows in the non_numeric_indices list with this mean value:\n",
      "There are 0 non-numerical values. Indexes: []\n"
     ]
    }
   ],
   "source": [
    "# select just LOCATION_ID column\n",
    "location_id = audit_risk_data[\"LOCATION_ID\"]\n",
    "\n",
    "# a function to convert values to integer\n",
    "def str_to_int(val):\n",
    "    try:\n",
    "        int(val)\n",
    "        return False\n",
    "    except ValueError:\n",
    "        return True\n",
    "\n",
    "#find only the indices of non-integer values. \n",
    "non_numeric_indices = [i for i, val in location_id.items() if str_to_int(val)]\n",
    "\n",
    "print(f\"There are {len(non_numeric_indices)} non-numerical values. Indexes: {non_numeric_indices}\")\n",
    "\n",
    "\n",
    "numeric_df = audit_risk_data.copy()\n",
    "numeric_df = numeric_df.drop(non_numeric_indices)\n",
    "numeric_df[\"LOCATION_ID\"] = pd.to_numeric(numeric_df[\"LOCATION_ID\"])\n",
    "\n",
    "mean_location_id = numeric_df[\"LOCATION_ID\"].mean()\n",
    "audit_risk_data.loc[non_numeric_indices, \"LOCATION_ID\"] = mean_location_id\n",
    "\n",
    "\n",
    "#find only the indices of non-integer values. \n",
    "non_numeric_indices = [i for i, val in location_id.items() if str_to_int(val)]\n",
    "\n",
    "print(\"After replacing the LOCATION_ID values contained in the rows in the non_numeric_indices list with this mean value:\")\n",
    "print(f\"There are {len(non_numeric_indices)} non-numerical values. Indexes: {non_numeric_indices}\")\n",
    "\n",
    "\n"
   ]
  },
  {
   "attachments": {},
   "cell_type": "markdown",
   "metadata": {},
   "source": [
    "Change data type of LOCATION_ID from object to numeric"
   ]
  },
  {
   "cell_type": "code",
   "execution_count": 12,
   "metadata": {},
   "outputs": [],
   "source": [
    "\n",
    "audit_risk_data['LOCATION_ID'] = pd.to_numeric(audit_risk_data['LOCATION_ID'], errors='coerce')\n"
   ]
  },
  {
   "attachments": {},
   "cell_type": "markdown",
   "metadata": {},
   "source": [
    "Check the data type:"
   ]
  },
  {
   "cell_type": "code",
   "execution_count": 13,
   "metadata": {},
   "outputs": [
    {
     "name": "stdout",
     "output_type": "stream",
     "text": [
      "<class 'pandas.core.frame.DataFrame'>\n",
      "RangeIndex: 776 entries, 0 to 775\n",
      "Data columns (total 27 columns):\n",
      " #   Column          Non-Null Count  Dtype  \n",
      "---  ------          --------------  -----  \n",
      " 0   Sector_score    776 non-null    float64\n",
      " 1   LOCATION_ID     776 non-null    float64\n",
      " 2   PARA_A          776 non-null    float64\n",
      " 3   Score_A         776 non-null    float64\n",
      " 4   Risk_A          776 non-null    float64\n",
      " 5   PARA_B          776 non-null    float64\n",
      " 6   Score_B         776 non-null    float64\n",
      " 7   Risk_B          776 non-null    float64\n",
      " 8   TOTAL           776 non-null    float64\n",
      " 9   numbers         776 non-null    float64\n",
      " 10  Score_B.1       776 non-null    float64\n",
      " 11  Risk_C          776 non-null    float64\n",
      " 12  Money_Value     776 non-null    float64\n",
      " 13  Score_MV        776 non-null    float64\n",
      " 14  Risk_D          776 non-null    float64\n",
      " 15  District_Loss   776 non-null    int64  \n",
      " 16  PROB            776 non-null    float64\n",
      " 17  RiSk_E          776 non-null    float64\n",
      " 18  History         776 non-null    int64  \n",
      " 19  Prob            776 non-null    float64\n",
      " 20  Risk_F          776 non-null    float64\n",
      " 21  Score           776 non-null    float64\n",
      " 22  Inherent_Risk   776 non-null    float64\n",
      " 23  CONTROL_RISK    776 non-null    float64\n",
      " 24  Detection_Risk  776 non-null    float64\n",
      " 25  Audit_Risk      776 non-null    float64\n",
      " 26  Risk            776 non-null    int64  \n",
      "dtypes: float64(24), int64(3)\n",
      "memory usage: 163.8 KB\n"
     ]
    }
   ],
   "source": [
    "audit_risk_data.info()"
   ]
  },
  {
   "attachments": {},
   "cell_type": "markdown",
   "metadata": {},
   "source": [
    "As you can see, LOCATION_ID is no longer an object."
   ]
  },
  {
   "cell_type": "code",
   "execution_count": 14,
   "metadata": {},
   "outputs": [
    {
     "data": {
      "text/html": [
       "<div>\n",
       "<style scoped>\n",
       "    .dataframe tbody tr th:only-of-type {\n",
       "        vertical-align: middle;\n",
       "    }\n",
       "\n",
       "    .dataframe tbody tr th {\n",
       "        vertical-align: top;\n",
       "    }\n",
       "\n",
       "    .dataframe thead th {\n",
       "        text-align: right;\n",
       "    }\n",
       "</style>\n",
       "<table border=\"1\" class=\"dataframe\">\n",
       "  <thead>\n",
       "    <tr style=\"text-align: right;\">\n",
       "      <th></th>\n",
       "      <th>Sector_score</th>\n",
       "      <th>LOCATION_ID</th>\n",
       "      <th>PARA_A</th>\n",
       "      <th>Score_A</th>\n",
       "      <th>Risk_A</th>\n",
       "      <th>PARA_B</th>\n",
       "      <th>Score_B</th>\n",
       "      <th>Risk_B</th>\n",
       "      <th>TOTAL</th>\n",
       "      <th>numbers</th>\n",
       "      <th>...</th>\n",
       "      <th>RiSk_E</th>\n",
       "      <th>History</th>\n",
       "      <th>Prob</th>\n",
       "      <th>Risk_F</th>\n",
       "      <th>Score</th>\n",
       "      <th>Inherent_Risk</th>\n",
       "      <th>CONTROL_RISK</th>\n",
       "      <th>Detection_Risk</th>\n",
       "      <th>Audit_Risk</th>\n",
       "      <th>Risk</th>\n",
       "    </tr>\n",
       "  </thead>\n",
       "  <tbody>\n",
       "    <tr>\n",
       "      <th>count</th>\n",
       "      <td>776.000000</td>\n",
       "      <td>776.000000</td>\n",
       "      <td>776.000000</td>\n",
       "      <td>776.000000</td>\n",
       "      <td>776.000000</td>\n",
       "      <td>776.000000</td>\n",
       "      <td>776.000000</td>\n",
       "      <td>776.000000</td>\n",
       "      <td>776.000000</td>\n",
       "      <td>776.000000</td>\n",
       "      <td>...</td>\n",
       "      <td>776.000000</td>\n",
       "      <td>776.000000</td>\n",
       "      <td>776.000000</td>\n",
       "      <td>776.000000</td>\n",
       "      <td>776.000000</td>\n",
       "      <td>776.000000</td>\n",
       "      <td>776.000000</td>\n",
       "      <td>776.0</td>\n",
       "      <td>776.000000</td>\n",
       "      <td>776.000000</td>\n",
       "    </tr>\n",
       "    <tr>\n",
       "      <th>mean</th>\n",
       "      <td>20.184536</td>\n",
       "      <td>14.856404</td>\n",
       "      <td>2.450194</td>\n",
       "      <td>0.351289</td>\n",
       "      <td>1.351029</td>\n",
       "      <td>10.799988</td>\n",
       "      <td>0.313144</td>\n",
       "      <td>6.334008</td>\n",
       "      <td>13.218481</td>\n",
       "      <td>5.067655</td>\n",
       "      <td>...</td>\n",
       "      <td>0.519072</td>\n",
       "      <td>0.104381</td>\n",
       "      <td>0.216753</td>\n",
       "      <td>0.053608</td>\n",
       "      <td>2.702577</td>\n",
       "      <td>17.680612</td>\n",
       "      <td>0.572680</td>\n",
       "      <td>0.5</td>\n",
       "      <td>7.168158</td>\n",
       "      <td>0.393041</td>\n",
       "    </tr>\n",
       "    <tr>\n",
       "      <th>std</th>\n",
       "      <td>24.319017</td>\n",
       "      <td>9.872154</td>\n",
       "      <td>5.678870</td>\n",
       "      <td>0.174055</td>\n",
       "      <td>3.440447</td>\n",
       "      <td>50.083624</td>\n",
       "      <td>0.169804</td>\n",
       "      <td>30.072845</td>\n",
       "      <td>51.312829</td>\n",
       "      <td>0.264449</td>\n",
       "      <td>...</td>\n",
       "      <td>0.290312</td>\n",
       "      <td>0.531031</td>\n",
       "      <td>0.067987</td>\n",
       "      <td>0.305835</td>\n",
       "      <td>0.858923</td>\n",
       "      <td>54.740244</td>\n",
       "      <td>0.444581</td>\n",
       "      <td>0.0</td>\n",
       "      <td>38.667494</td>\n",
       "      <td>0.488741</td>\n",
       "    </tr>\n",
       "    <tr>\n",
       "      <th>min</th>\n",
       "      <td>1.850000</td>\n",
       "      <td>1.000000</td>\n",
       "      <td>0.000000</td>\n",
       "      <td>0.200000</td>\n",
       "      <td>0.000000</td>\n",
       "      <td>0.000000</td>\n",
       "      <td>0.200000</td>\n",
       "      <td>0.000000</td>\n",
       "      <td>0.000000</td>\n",
       "      <td>5.000000</td>\n",
       "      <td>...</td>\n",
       "      <td>0.400000</td>\n",
       "      <td>0.000000</td>\n",
       "      <td>0.200000</td>\n",
       "      <td>0.000000</td>\n",
       "      <td>2.000000</td>\n",
       "      <td>1.400000</td>\n",
       "      <td>0.400000</td>\n",
       "      <td>0.5</td>\n",
       "      <td>0.280000</td>\n",
       "      <td>0.000000</td>\n",
       "    </tr>\n",
       "    <tr>\n",
       "      <th>25%</th>\n",
       "      <td>2.370000</td>\n",
       "      <td>8.000000</td>\n",
       "      <td>0.210000</td>\n",
       "      <td>0.200000</td>\n",
       "      <td>0.042000</td>\n",
       "      <td>0.000000</td>\n",
       "      <td>0.200000</td>\n",
       "      <td>0.000000</td>\n",
       "      <td>0.537500</td>\n",
       "      <td>5.000000</td>\n",
       "      <td>...</td>\n",
       "      <td>0.400000</td>\n",
       "      <td>0.000000</td>\n",
       "      <td>0.200000</td>\n",
       "      <td>0.000000</td>\n",
       "      <td>2.000000</td>\n",
       "      <td>1.583500</td>\n",
       "      <td>0.400000</td>\n",
       "      <td>0.5</td>\n",
       "      <td>0.316700</td>\n",
       "      <td>0.000000</td>\n",
       "    </tr>\n",
       "    <tr>\n",
       "      <th>50%</th>\n",
       "      <td>3.890000</td>\n",
       "      <td>13.000000</td>\n",
       "      <td>0.875000</td>\n",
       "      <td>0.200000</td>\n",
       "      <td>0.175000</td>\n",
       "      <td>0.405000</td>\n",
       "      <td>0.200000</td>\n",
       "      <td>0.081000</td>\n",
       "      <td>1.370000</td>\n",
       "      <td>5.000000</td>\n",
       "      <td>...</td>\n",
       "      <td>0.400000</td>\n",
       "      <td>0.000000</td>\n",
       "      <td>0.200000</td>\n",
       "      <td>0.000000</td>\n",
       "      <td>2.400000</td>\n",
       "      <td>2.214000</td>\n",
       "      <td>0.400000</td>\n",
       "      <td>0.5</td>\n",
       "      <td>0.555600</td>\n",
       "      <td>0.000000</td>\n",
       "    </tr>\n",
       "    <tr>\n",
       "      <th>75%</th>\n",
       "      <td>55.570000</td>\n",
       "      <td>19.000000</td>\n",
       "      <td>2.480000</td>\n",
       "      <td>0.600000</td>\n",
       "      <td>1.488000</td>\n",
       "      <td>4.160000</td>\n",
       "      <td>0.400000</td>\n",
       "      <td>1.840500</td>\n",
       "      <td>7.707500</td>\n",
       "      <td>5.000000</td>\n",
       "      <td>...</td>\n",
       "      <td>0.400000</td>\n",
       "      <td>0.000000</td>\n",
       "      <td>0.200000</td>\n",
       "      <td>0.000000</td>\n",
       "      <td>3.250000</td>\n",
       "      <td>10.663500</td>\n",
       "      <td>0.400000</td>\n",
       "      <td>0.5</td>\n",
       "      <td>3.249900</td>\n",
       "      <td>1.000000</td>\n",
       "    </tr>\n",
       "    <tr>\n",
       "      <th>max</th>\n",
       "      <td>59.850000</td>\n",
       "      <td>44.000000</td>\n",
       "      <td>85.000000</td>\n",
       "      <td>0.600000</td>\n",
       "      <td>51.000000</td>\n",
       "      <td>1264.630000</td>\n",
       "      <td>0.600000</td>\n",
       "      <td>758.778000</td>\n",
       "      <td>1268.910000</td>\n",
       "      <td>9.000000</td>\n",
       "      <td>...</td>\n",
       "      <td>2.400000</td>\n",
       "      <td>9.000000</td>\n",
       "      <td>0.600000</td>\n",
       "      <td>5.400000</td>\n",
       "      <td>5.200000</td>\n",
       "      <td>801.262000</td>\n",
       "      <td>5.800000</td>\n",
       "      <td>0.5</td>\n",
       "      <td>961.514400</td>\n",
       "      <td>1.000000</td>\n",
       "    </tr>\n",
       "  </tbody>\n",
       "</table>\n",
       "<p>8 rows × 27 columns</p>\n",
       "</div>"
      ],
      "text/plain": [
       "       Sector_score  LOCATION_ID      PARA_A     Score_A      Risk_A  \\\n",
       "count    776.000000   776.000000  776.000000  776.000000  776.000000   \n",
       "mean      20.184536    14.856404    2.450194    0.351289    1.351029   \n",
       "std       24.319017     9.872154    5.678870    0.174055    3.440447   \n",
       "min        1.850000     1.000000    0.000000    0.200000    0.000000   \n",
       "25%        2.370000     8.000000    0.210000    0.200000    0.042000   \n",
       "50%        3.890000    13.000000    0.875000    0.200000    0.175000   \n",
       "75%       55.570000    19.000000    2.480000    0.600000    1.488000   \n",
       "max       59.850000    44.000000   85.000000    0.600000   51.000000   \n",
       "\n",
       "            PARA_B     Score_B      Risk_B        TOTAL     numbers  ...  \\\n",
       "count   776.000000  776.000000  776.000000   776.000000  776.000000  ...   \n",
       "mean     10.799988    0.313144    6.334008    13.218481    5.067655  ...   \n",
       "std      50.083624    0.169804   30.072845    51.312829    0.264449  ...   \n",
       "min       0.000000    0.200000    0.000000     0.000000    5.000000  ...   \n",
       "25%       0.000000    0.200000    0.000000     0.537500    5.000000  ...   \n",
       "50%       0.405000    0.200000    0.081000     1.370000    5.000000  ...   \n",
       "75%       4.160000    0.400000    1.840500     7.707500    5.000000  ...   \n",
       "max    1264.630000    0.600000  758.778000  1268.910000    9.000000  ...   \n",
       "\n",
       "           RiSk_E     History        Prob      Risk_F       Score  \\\n",
       "count  776.000000  776.000000  776.000000  776.000000  776.000000   \n",
       "mean     0.519072    0.104381    0.216753    0.053608    2.702577   \n",
       "std      0.290312    0.531031    0.067987    0.305835    0.858923   \n",
       "min      0.400000    0.000000    0.200000    0.000000    2.000000   \n",
       "25%      0.400000    0.000000    0.200000    0.000000    2.000000   \n",
       "50%      0.400000    0.000000    0.200000    0.000000    2.400000   \n",
       "75%      0.400000    0.000000    0.200000    0.000000    3.250000   \n",
       "max      2.400000    9.000000    0.600000    5.400000    5.200000   \n",
       "\n",
       "       Inherent_Risk  CONTROL_RISK  Detection_Risk  Audit_Risk        Risk  \n",
       "count     776.000000    776.000000           776.0  776.000000  776.000000  \n",
       "mean       17.680612      0.572680             0.5    7.168158    0.393041  \n",
       "std        54.740244      0.444581             0.0   38.667494    0.488741  \n",
       "min         1.400000      0.400000             0.5    0.280000    0.000000  \n",
       "25%         1.583500      0.400000             0.5    0.316700    0.000000  \n",
       "50%         2.214000      0.400000             0.5    0.555600    0.000000  \n",
       "75%        10.663500      0.400000             0.5    3.249900    1.000000  \n",
       "max       801.262000      5.800000             0.5  961.514400    1.000000  \n",
       "\n",
       "[8 rows x 27 columns]"
      ]
     },
     "execution_count": 14,
     "metadata": {},
     "output_type": "execute_result"
    }
   ],
   "source": [
    "audit_risk_data.describe()\n"
   ]
  },
  {
   "attachments": {},
   "cell_type": "markdown",
   "metadata": {},
   "source": [
    "Reading bike sharing dataset "
   ]
  },
  {
   "cell_type": "code",
   "execution_count": 15,
   "metadata": {},
   "outputs": [
    {
     "data": {
      "text/html": [
       "<div>\n",
       "<style scoped>\n",
       "    .dataframe tbody tr th:only-of-type {\n",
       "        vertical-align: middle;\n",
       "    }\n",
       "\n",
       "    .dataframe tbody tr th {\n",
       "        vertical-align: top;\n",
       "    }\n",
       "\n",
       "    .dataframe thead th {\n",
       "        text-align: right;\n",
       "    }\n",
       "</style>\n",
       "<table border=\"1\" class=\"dataframe\">\n",
       "  <thead>\n",
       "    <tr style=\"text-align: right;\">\n",
       "      <th></th>\n",
       "      <th>instant</th>\n",
       "      <th>dteday</th>\n",
       "      <th>season</th>\n",
       "      <th>yr</th>\n",
       "      <th>mnth</th>\n",
       "      <th>holiday</th>\n",
       "      <th>weekday</th>\n",
       "      <th>workingday</th>\n",
       "      <th>weathersit</th>\n",
       "      <th>temp</th>\n",
       "      <th>atemp</th>\n",
       "      <th>hum</th>\n",
       "      <th>windspeed</th>\n",
       "      <th>casual</th>\n",
       "      <th>registered</th>\n",
       "      <th>cnt</th>\n",
       "    </tr>\n",
       "  </thead>\n",
       "  <tbody>\n",
       "    <tr>\n",
       "      <th>0</th>\n",
       "      <td>1</td>\n",
       "      <td>2011-01-01</td>\n",
       "      <td>1</td>\n",
       "      <td>0</td>\n",
       "      <td>1</td>\n",
       "      <td>0</td>\n",
       "      <td>6</td>\n",
       "      <td>0</td>\n",
       "      <td>2</td>\n",
       "      <td>0.344167</td>\n",
       "      <td>0.363625</td>\n",
       "      <td>0.805833</td>\n",
       "      <td>0.160446</td>\n",
       "      <td>331</td>\n",
       "      <td>654</td>\n",
       "      <td>985</td>\n",
       "    </tr>\n",
       "    <tr>\n",
       "      <th>1</th>\n",
       "      <td>2</td>\n",
       "      <td>2011-01-02</td>\n",
       "      <td>1</td>\n",
       "      <td>0</td>\n",
       "      <td>1</td>\n",
       "      <td>0</td>\n",
       "      <td>0</td>\n",
       "      <td>0</td>\n",
       "      <td>2</td>\n",
       "      <td>0.363478</td>\n",
       "      <td>0.353739</td>\n",
       "      <td>0.696087</td>\n",
       "      <td>0.248539</td>\n",
       "      <td>131</td>\n",
       "      <td>670</td>\n",
       "      <td>801</td>\n",
       "    </tr>\n",
       "    <tr>\n",
       "      <th>2</th>\n",
       "      <td>3</td>\n",
       "      <td>2011-01-03</td>\n",
       "      <td>1</td>\n",
       "      <td>0</td>\n",
       "      <td>1</td>\n",
       "      <td>0</td>\n",
       "      <td>1</td>\n",
       "      <td>1</td>\n",
       "      <td>1</td>\n",
       "      <td>0.196364</td>\n",
       "      <td>0.189405</td>\n",
       "      <td>0.437273</td>\n",
       "      <td>0.248309</td>\n",
       "      <td>120</td>\n",
       "      <td>1229</td>\n",
       "      <td>1349</td>\n",
       "    </tr>\n",
       "    <tr>\n",
       "      <th>3</th>\n",
       "      <td>4</td>\n",
       "      <td>2011-01-04</td>\n",
       "      <td>1</td>\n",
       "      <td>0</td>\n",
       "      <td>1</td>\n",
       "      <td>0</td>\n",
       "      <td>2</td>\n",
       "      <td>1</td>\n",
       "      <td>1</td>\n",
       "      <td>0.200000</td>\n",
       "      <td>0.212122</td>\n",
       "      <td>0.590435</td>\n",
       "      <td>0.160296</td>\n",
       "      <td>108</td>\n",
       "      <td>1454</td>\n",
       "      <td>1562</td>\n",
       "    </tr>\n",
       "    <tr>\n",
       "      <th>4</th>\n",
       "      <td>5</td>\n",
       "      <td>2011-01-05</td>\n",
       "      <td>1</td>\n",
       "      <td>0</td>\n",
       "      <td>1</td>\n",
       "      <td>0</td>\n",
       "      <td>3</td>\n",
       "      <td>1</td>\n",
       "      <td>1</td>\n",
       "      <td>0.226957</td>\n",
       "      <td>0.229270</td>\n",
       "      <td>0.436957</td>\n",
       "      <td>0.186900</td>\n",
       "      <td>82</td>\n",
       "      <td>1518</td>\n",
       "      <td>1600</td>\n",
       "    </tr>\n",
       "  </tbody>\n",
       "</table>\n",
       "</div>"
      ],
      "text/plain": [
       "   instant      dteday  season  yr  mnth  holiday  weekday  workingday  \\\n",
       "0        1  2011-01-01       1   0     1        0        6           0   \n",
       "1        2  2011-01-02       1   0     1        0        0           0   \n",
       "2        3  2011-01-03       1   0     1        0        1           1   \n",
       "3        4  2011-01-04       1   0     1        0        2           1   \n",
       "4        5  2011-01-05       1   0     1        0        3           1   \n",
       "\n",
       "   weathersit      temp     atemp       hum  windspeed  casual  registered  \\\n",
       "0           2  0.344167  0.363625  0.805833   0.160446     331         654   \n",
       "1           2  0.363478  0.353739  0.696087   0.248539     131         670   \n",
       "2           1  0.196364  0.189405  0.437273   0.248309     120        1229   \n",
       "3           1  0.200000  0.212122  0.590435   0.160296     108        1454   \n",
       "4           1  0.226957  0.229270  0.436957   0.186900      82        1518   \n",
       "\n",
       "    cnt  \n",
       "0   985  \n",
       "1   801  \n",
       "2  1349  \n",
       "3  1562  \n",
       "4  1600  "
      ]
     },
     "execution_count": 15,
     "metadata": {},
     "output_type": "execute_result"
    }
   ],
   "source": [
    "day_data = pd.read_csv(\"Bike-Sharing-Dataset/day.csv\")\n",
    "day_data.head()"
   ]
  },
  {
   "cell_type": "code",
   "execution_count": 16,
   "metadata": {},
   "outputs": [
    {
     "data": {
      "text/plain": [
       "(731, 16)"
      ]
     },
     "execution_count": 16,
     "metadata": {},
     "output_type": "execute_result"
    }
   ],
   "source": [
    "day_data.shape"
   ]
  },
  {
   "cell_type": "code",
   "execution_count": 17,
   "metadata": {},
   "outputs": [
    {
     "data": {
      "text/plain": [
       "Index(['instant', 'dteday', 'season', 'yr', 'mnth', 'holiday', 'weekday',\n",
       "       'workingday', 'weathersit', 'temp', 'atemp', 'hum', 'windspeed',\n",
       "       'casual', 'registered', 'cnt'],\n",
       "      dtype='object')"
      ]
     },
     "execution_count": 17,
     "metadata": {},
     "output_type": "execute_result"
    }
   ],
   "source": [
    "day_data.columns"
   ]
  },
  {
   "cell_type": "markdown",
   "metadata": {},
   "source": [
    "Check whether there is null value or not"
   ]
  },
  {
   "cell_type": "code",
   "execution_count": 18,
   "metadata": {},
   "outputs": [
    {
     "data": {
      "text/plain": [
       "instant       0\n",
       "dteday        0\n",
       "season        0\n",
       "yr            0\n",
       "mnth          0\n",
       "holiday       0\n",
       "weekday       0\n",
       "workingday    0\n",
       "weathersit    0\n",
       "temp          0\n",
       "atemp         0\n",
       "hum           0\n",
       "windspeed     0\n",
       "casual        0\n",
       "registered    0\n",
       "cnt           0\n",
       "dtype: int64"
      ]
     },
     "execution_count": 18,
     "metadata": {},
     "output_type": "execute_result"
    }
   ],
   "source": [
    "day_data.isnull().sum()"
   ]
  },
  {
   "cell_type": "code",
   "execution_count": 19,
   "metadata": {},
   "outputs": [
    {
     "name": "stdout",
     "output_type": "stream",
     "text": [
      "<class 'pandas.core.frame.DataFrame'>\n",
      "RangeIndex: 731 entries, 0 to 730\n",
      "Data columns (total 16 columns):\n",
      " #   Column      Non-Null Count  Dtype  \n",
      "---  ------      --------------  -----  \n",
      " 0   instant     731 non-null    int64  \n",
      " 1   dteday      731 non-null    object \n",
      " 2   season      731 non-null    int64  \n",
      " 3   yr          731 non-null    int64  \n",
      " 4   mnth        731 non-null    int64  \n",
      " 5   holiday     731 non-null    int64  \n",
      " 6   weekday     731 non-null    int64  \n",
      " 7   workingday  731 non-null    int64  \n",
      " 8   weathersit  731 non-null    int64  \n",
      " 9   temp        731 non-null    float64\n",
      " 10  atemp       731 non-null    float64\n",
      " 11  hum         731 non-null    float64\n",
      " 12  windspeed   731 non-null    float64\n",
      " 13  casual      731 non-null    int64  \n",
      " 14  registered  731 non-null    int64  \n",
      " 15  cnt         731 non-null    int64  \n",
      "dtypes: float64(4), int64(11), object(1)\n",
      "memory usage: 91.5+ KB\n"
     ]
    }
   ],
   "source": [
    "day_data.info()"
   ]
  },
  {
   "attachments": {},
   "cell_type": "markdown",
   "metadata": {},
   "source": [
    "I chose to drop this column because it is a object type and in the dataset there are information about year and month."
   ]
  },
  {
   "cell_type": "code",
   "execution_count": 20,
   "metadata": {},
   "outputs": [],
   "source": [
    "\n",
    "day_data = day_data.drop(\"dteday\", axis = 1)\n"
   ]
  },
  {
   "attachments": {},
   "cell_type": "markdown",
   "metadata": {},
   "source": [
    "Drop this column because it is a record directory."
   ]
  },
  {
   "cell_type": "code",
   "execution_count": 21,
   "metadata": {},
   "outputs": [],
   "source": [
    "day_data = day_data.drop(\"instant\", axis = 1)\n"
   ]
  },
  {
   "cell_type": "code",
   "execution_count": 22,
   "metadata": {},
   "outputs": [
    {
     "data": {
      "text/plain": [
       "(731, 14)"
      ]
     },
     "execution_count": 22,
     "metadata": {},
     "output_type": "execute_result"
    }
   ],
   "source": [
    "day_data.shape"
   ]
  },
  {
   "cell_type": "code",
   "execution_count": 23,
   "metadata": {},
   "outputs": [
    {
     "data": {
      "text/plain": [
       "Index(['season', 'yr', 'mnth', 'holiday', 'weekday', 'workingday',\n",
       "       'weathersit', 'temp', 'atemp', 'hum', 'windspeed', 'casual',\n",
       "       'registered', 'cnt'],\n",
       "      dtype='object')"
      ]
     },
     "execution_count": 23,
     "metadata": {},
     "output_type": "execute_result"
    }
   ],
   "source": [
    "day_data.columns"
   ]
  },
  {
   "cell_type": "code",
   "execution_count": 24,
   "metadata": {},
   "outputs": [],
   "source": [
    "# Print Confsion Matrix\n",
    "\n",
    "def ViewConfusionMatrix(y_test, y_pred):\n",
    "    cm = confusion_matrix(y_test, y_pred)\n",
    "    plt.rcParams[\"figure.figsize\"] = [12,9]\n",
    "    skplt.metrics.plot_confusion_matrix(y_test, y_pred)\n",
    "    plt.show()"
   ]
  },
  {
   "cell_type": "code",
   "execution_count": 25,
   "metadata": {},
   "outputs": [],
   "source": [
    "# Print Accuracy \n",
    "\n",
    "def ViewAccuracy(y_test, y_pred):\n",
    "    print(\"Accuracy : %\",accuracy_score(y_test, y_pred) * 100)"
   ]
  },
  {
   "cell_type": "code",
   "execution_count": 26,
   "metadata": {},
   "outputs": [],
   "source": [
    "# Print Mean Squared Error \n",
    "\n",
    "def ViewMeanSquaredError(y_test, y_pred):\n",
    "    mse = mean_squared_error(y_test, y_pred)\n",
    "    print(\"Mean Squared Error: {:.2f}\".format(mse))"
   ]
  },
  {
   "cell_type": "code",
   "execution_count": 27,
   "metadata": {},
   "outputs": [],
   "source": [
    "# Print Mean Absolute Error\n",
    "\n",
    "def ViewMeanAbsoluteError(y_test, y_pred):\n",
    "    mae = mean_absolute_error(y_test, y_pred)\n",
    "    print(\"Mean Absolute Error: {:.2f}\".format(mae))"
   ]
  },
  {
   "cell_type": "code",
   "execution_count": 28,
   "metadata": {},
   "outputs": [],
   "source": [
    "# Report perfomance\n",
    "\n",
    "def ReportPerformance(y_test, y_pred):\n",
    "    report = classification_report(y_test, y_pred)\n",
    "    print(report)"
   ]
  },
  {
   "cell_type": "code",
   "execution_count": 29,
   "metadata": {},
   "outputs": [],
   "source": [
    "#Find Best Threshold\n",
    "\n",
    "def find_best_threshold(y_true, y_prob):\n",
    "    fpr, tpr, thresholds = metrics.roc_curve(y_true, y_prob)\n",
    "    optimal_idx = np.argmax(tpr - fpr)\n",
    "    optimal_threshold = thresholds[optimal_idx]\n",
    "    return optimal_threshold\n",
    "\n",
    "# View Roc Curve\n",
    "def ViewRocCurve(y_test, y_pred):\n",
    "    fpr, tpr, thresholds = metrics.roc_curve(y_test, y_pred)\n",
    "    roc_auc = metrics.auc(fpr, tpr)\n",
    "    plt.figure()\n",
    "    plt.xlabel('False Positive Rate')\n",
    "    plt.ylabel('True Positive Rate')\n",
    "    plt.plot([0, 1], [0, 1], color='navy', linestyle='--')\n",
    "    plt.xlim([0.0, 1.0])\n",
    "    plt.ylim([0.0, 1.05])\n",
    "    plt.title('SVM Classifier ROC')\n",
    "    plt.plot(fpr, tpr, color='blue', lw=2, label='SVM ROC area = %0.2f)' % roc_auc)\n",
    "    plt.legend(loc=\"lower right\")\n",
    "    plt.show()\n",
    "\n",
    "    best_threshold = find_best_threshold(y_test, y_pred)\n",
    "    print(\"Best threshold : \\n\",best_threshold,\"\\n\")\n"
   ]
  },
  {
   "attachments": {},
   "cell_type": "markdown",
   "metadata": {},
   "source": [
    "## Part 1"
   ]
  },
  {
   "attachments": {},
   "cell_type": "markdown",
   "metadata": {},
   "source": [
    "KNN Classifier"
   ]
  },
  {
   "cell_type": "code",
   "execution_count": 30,
   "metadata": {},
   "outputs": [],
   "source": [
    "class KNNClassifier:\n",
    "    \n",
    "    def __init__(self, k=4):\n",
    "        self.k = k\n",
    "        self.X_train = None\n",
    "        self.y_train = None\n",
    "    \n",
    "    def euclidean_distance(self, x1, x2):\n",
    "        distance = 0\n",
    "        for i in range(len(x1)):\n",
    "            distance += (x1[i] - x2[i]) ** 2\n",
    "        return math.sqrt(distance)\n",
    "    \n",
    "    def get_neighbors(self, test_instance):\n",
    "        distances = []\n",
    "        for i in range(len(self.X_train)):\n",
    "            dist = self.euclidean_distance(test_instance, self.X_train[i])\n",
    "            distances.append((i, dist))\n",
    "        distances.sort(key=lambda x: x[1])\n",
    "        neighbors = []\n",
    "        for i in range(self.k):\n",
    "            neighbors.append(distances[i][0])\n",
    "        return neighbors\n",
    "    \n",
    "    def predict(self, X_test):\n",
    "        y_pred = []\n",
    "        for test_instance in X_test:\n",
    "            neighbors = self.get_neighbors(test_instance)\n",
    "            classes = {}\n",
    "            for index in neighbors:\n",
    "                if self.y_train[index] in classes:\n",
    "                    classes[self.y_train[index]] += 1\n",
    "                else:\n",
    "                    classes[self.y_train[index]] = 1\n",
    "            predicted_class = max(classes, key=classes.get)\n",
    "            y_pred.append(predicted_class)\n",
    "        return y_pred\n",
    "    \n",
    "    def fit(self, X_train, y_train):\n",
    "        self.X_train = X_train\n",
    "        self.y_train = y_train\n"
   ]
  },
  {
   "cell_type": "code",
   "execution_count": 31,
   "metadata": {},
   "outputs": [
    {
     "name": "stdout",
     "output_type": "stream",
     "text": [
      "              precision    recall  f1-score   support\n",
      "\n",
      "           0       0.95      1.00      0.97       471\n",
      "           1       0.99      0.92      0.96       305\n",
      "\n",
      "    accuracy                           0.97       776\n",
      "   macro avg       0.97      0.96      0.97       776\n",
      "weighted avg       0.97      0.97      0.97       776\n",
      "\n",
      "Accuracy : % 96.77835051546391\n"
     ]
    },
    {
     "data": {
      "image/png": "[encoded data removed]",
      "text/plain": [
       "<Figure size 1200x900 with 2 Axes>"
      ]
     },
     "metadata": {},
     "output_type": "display_data"
    },
    {
     "name": "stdout",
     "output_type": "stream",
     "text": [
      "Run Time Performance = 10.744776248931885 seconds\n"
     ]
    }
   ],
   "source": [
    "start = time.time()\n",
    "dataset = audit_risk_data.copy()\n",
    "\n",
    "X = dataset.drop(\"Risk\", axis = 1)\n",
    "y = dataset['Risk']\n",
    "\n",
    "\n",
    "# define the number of folds for k-fold cross-validation\n",
    "n_splits = 6  # number of folds for k-fold cross-validation\n",
    "kf = KFold(n_splits=n_splits, shuffle=True)\n",
    "total_y_test = []\n",
    "total_y_pred = []\n",
    "\n",
    "for tr, te in kf.split(dataset):        \n",
    "    \n",
    "    x_train, x_test = X.iloc[tr], X.iloc[te]\n",
    "    y_train, y_test = y.iloc[tr], y.iloc[te]\n",
    "\n",
    "    # Convert X_train and y_train to NumPy arrays\n",
    "    x_train = np.array(x_train)\n",
    "    y_train = np.array(y_train)\n",
    "\n",
    "    # Convert X_test and y_test to a NumPy array\n",
    "    x_test = np.array(x_test)\n",
    "    y_test = np.array(y_test)\n",
    "\n",
    "    knn = KNNClassifier(k=4)\n",
    "    knn.fit(x_train, y_train)\n",
    "    y_pred = knn.predict(x_test)\n",
    "\n",
    "    # Convert y_pred to a NumPy array  \n",
    "    y_pred = np.array(y_pred)\n",
    "    \n",
    "    total_y_test += y_test.tolist()\n",
    "    total_y_pred += y_pred.tolist()\n",
    "    \n",
    "total_y_test = np.array(total_y_test)\n",
    "total_y_pred = np.array(total_y_pred)\n",
    "\n",
    "ReportPerformance(total_y_test, total_y_pred)\n",
    "ViewAccuracy(total_y_test, total_y_pred)\n",
    "ViewConfusionMatrix(total_y_test.astype(int), total_y_pred.astype(int))\n",
    "\n",
    "end = time.time()\n",
    "print(f\"Run Time Performance = {end - start} seconds\")\n",
    "\n"
   ]
  },
  {
   "attachments": {},
   "cell_type": "markdown",
   "metadata": {},
   "source": [
    "## Part 2"
   ]
  },
  {
   "attachments": {},
   "cell_type": "markdown",
   "metadata": {},
   "source": [
    "KNN Regressor"
   ]
  },
  {
   "cell_type": "code",
   "execution_count": 32,
   "metadata": {},
   "outputs": [],
   "source": [
    "class KNNRegressor:\n",
    "    def __init__(self, k=4):\n",
    "        self.k = k\n",
    "    \n",
    "    def fit(self, X, y):\n",
    "        self.X_train = X\n",
    "        self.y_train = y\n",
    "    \n",
    "    def manhattan_distance(self, x1, x2):\n",
    "        distance = 0\n",
    "        for i in range(len(x1)):\n",
    "            distance += np.abs(x1[i] - x2[i])\n",
    "   \n",
    "        return distance\n",
    "\n",
    "    def predict(self, X):\n",
    "        y_pred = []\n",
    "        for i in range(X.shape[0]):\n",
    "            distances = []\n",
    "            for j in range(self.X_train.shape[0]):\n",
    "                dist = self.manhattan_distance(X[i], self.X_train[j])\n",
    "                distances.append((dist, self.y_train[j]))\n",
    "            distances.sort()\n",
    "            neighbors = distances[:self.k]\n",
    "            pred = np.mean([neighbor[1] for neighbor in neighbors])\n",
    "            y_pred.append(pred)\n",
    "        return np.array(y_pred)\n"
   ]
  },
  {
   "cell_type": "code",
   "execution_count": 33,
   "metadata": {},
   "outputs": [
    {
     "name": "stdout",
     "output_type": "stream",
     "text": [
      "Mean Absolute Error: 54.03\n",
      "Run Time Performance = 11.118610382080078 seconds\n"
     ]
    }
   ],
   "source": [
    "start = time.time()\n",
    "\n",
    "dataset = day_data.copy()\n",
    "\n",
    "X = dataset.drop(\"cnt\", axis = 1)\n",
    "y = dataset['cnt']\n",
    "\n",
    "\n",
    "# define the number of folds for k-fold cross-validation\n",
    "n_splits = 6  # number of folds for k-fold cross-validation\n",
    "kf = KFold(n_splits=n_splits, shuffle=True)\n",
    "total_y_test = []\n",
    "total_y_pred = []\n",
    "\n",
    "\n",
    "for tr, te in kf.split(dataset):        \n",
    "    \n",
    "    x_train, x_test = X.iloc[tr], X.iloc[te]\n",
    "    y_train, y_test = y.iloc[tr], y.iloc[te]\n",
    "\n",
    "    # Convert X_train and y_train to NumPy arrays\n",
    "    x_train = np.array(x_train)\n",
    "    y_train = np.array(y_train)\n",
    "\n",
    "    # Convert X_test and y_test to a NumPy array\n",
    "    x_test = np.array(x_test)\n",
    "    y_test = np.array(y_test)\n",
    "\n",
    "    knn = KNNRegressor(k=4)\n",
    "    knn.fit(x_train, y_train)\n",
    "    y_pred = knn.predict(x_test)\n",
    "\n",
    "\n",
    "    # Convert y_pred to a NumPy array  \n",
    "    y_pred = np.array(y_pred)\n",
    "    \n",
    "    total_y_test += y_test.tolist()\n",
    "    total_y_pred += y_pred.tolist()\n",
    "    \n",
    "total_y_test = np.array(total_y_test)\n",
    "total_y_pred = np.array(total_y_pred)\n",
    "\n",
    "\n",
    "ViewMeanAbsoluteError(total_y_test, total_y_pred)\n",
    "\n",
    "end = time.time()\n",
    "print(f\"Run Time Performance = {end - start} seconds\")\n",
    "\n"
   ]
  },
  {
   "attachments": {},
   "cell_type": "markdown",
   "metadata": {},
   "source": [
    "## Part 3"
   ]
  },
  {
   "attachments": {},
   "cell_type": "markdown",
   "metadata": {},
   "source": [
    "SVM Classifer (Linear)"
   ]
  },
  {
   "cell_type": "code",
   "execution_count": 34,
   "metadata": {},
   "outputs": [
    {
     "name": "stdout",
     "output_type": "stream",
     "text": [
      "              precision    recall  f1-score   support\n",
      "\n",
      "           0       0.99      1.00      0.99       471\n",
      "           1       1.00      0.98      0.99       305\n",
      "\n",
      "    accuracy                           0.99       776\n",
      "   macro avg       0.99      0.99      0.99       776\n",
      "weighted avg       0.99      0.99      0.99       776\n",
      "\n",
      "Accuracy : % 99.22680412371135\n"
     ]
    },
    {
     "data": {
      "image/png": "[encoded data removed]",
      "text/plain": [
       "<Figure size 1200x900 with 2 Axes>"
      ]
     },
     "metadata": {},
     "output_type": "display_data"
    },
    {
     "data": {
      "image/png": "[encoded data removed]",
      "text/plain": [
       "<Figure size 1200x900 with 1 Axes>"
      ]
     },
     "metadata": {},
     "output_type": "display_data"
    },
    {
     "name": "stdout",
     "output_type": "stream",
     "text": [
      "Best threshold : \n",
      " 1 \n",
      "\n",
      "Run Time Performance = 0.5273785591125488 seconds\n"
     ]
    }
   ],
   "source": [
    "start = time.time()\n",
    "\n",
    "dataset = audit_risk_data.copy()\n",
    "\n",
    "X = dataset.drop(\"Risk\", axis = 1)\n",
    "y = dataset['Risk']\n",
    "\n",
    "\n",
    "# define the number of folds for k-fold cross-validation\n",
    "n_splits = 6  # number of folds for k-fold cross-validation\n",
    "kf = KFold(n_splits=n_splits, shuffle=True)\n",
    "total_y_test = []\n",
    "total_y_pred = []\n",
    "\n",
    "for tr, te in kf.split(dataset):        \n",
    "    \n",
    "    x_train, x_test = X.iloc[tr], X.iloc[te]\n",
    "    y_train, y_test = y.iloc[tr], y.iloc[te]\n",
    "\n",
    "\n",
    "    svclassifier = SVC(kernel='linear',gamma='scale')  \n",
    "    svclassifier.fit(x_train, y_train) \n",
    "    y_pred = svclassifier.predict(x_test)\n",
    "\n",
    "    # Convert y_pred to a NumPy array  \n",
    "    y_pred = np.array(y_pred)\n",
    "    \n",
    "    total_y_test += y_test.tolist()\n",
    "    total_y_pred += y_pred.tolist()\n",
    "    \n",
    "total_y_test = np.array(total_y_test)\n",
    "total_y_pred = np.array(total_y_pred)\n",
    "\n",
    "ReportPerformance(total_y_test, total_y_pred)\n",
    "ViewAccuracy(total_y_test, total_y_pred)\n",
    "ViewConfusionMatrix(total_y_test.astype(int), total_y_pred.astype(int))\n",
    "ViewRocCurve(total_y_test, total_y_pred)\n",
    "\n",
    "end = time.time()\n",
    "print(f\"Run Time Performance = {end - start} seconds\")\n"
   ]
  },
  {
   "attachments": {},
   "cell_type": "markdown",
   "metadata": {},
   "source": [
    "## Part 4"
   ]
  },
  {
   "attachments": {},
   "cell_type": "markdown",
   "metadata": {},
   "source": [
    "SVM Regressor"
   ]
  },
  {
   "cell_type": "code",
   "execution_count": 35,
   "metadata": {},
   "outputs": [
    {
     "name": "stdout",
     "output_type": "stream",
     "text": [
      "Mean MSE score:  0.004474998613150794\n",
      "Mean R2 score:  0.9999999987953724\n",
      "Run Time Performance = 0.418015718460083 seconds\n"
     ]
    }
   ],
   "source": [
    "start = time.time()\n",
    "\n",
    "dataset = day_data.copy()\n",
    "\n",
    "\n",
    "X = dataset.drop('cnt', axis=1)\n",
    "y = dataset['cnt']\n",
    "\n",
    "# Define the number of folds for cross-validation\n",
    "n_folds = 6\n",
    "\n",
    "\n",
    "svm_regressor = SVR(kernel='linear')\n",
    "\n",
    "# Initialize the cross-validation object\n",
    "kf = KFold(n_splits=n_folds, shuffle=True)\n",
    "\n",
    "\n",
    "mse_scores = np.zeros(n_folds)\n",
    "r2_scores = np.zeros(n_folds)\n",
    "\n",
    "# Perform k-fold cross-validation\n",
    "fold = 0\n",
    "for train_idx, test_idx in kf.split(dataset):\n",
    "    X_train, y_train = X.iloc[train_idx], y.iloc[train_idx]\n",
    "    X_test, y_test = X.iloc[test_idx], y.iloc[test_idx]\n",
    "    \n",
    "    svm_regressor.fit(X_train, y_train)\n",
    "    y_pred = svm_regressor.predict(X_test)\n",
    "    \n",
    " \n",
    "    mse_scores[fold] = mean_squared_error(y_test, y_pred)\n",
    "    r2_scores[fold] = svm_regressor.score(X_test, y_test)\n",
    "\n",
    "    fold += 1\n",
    "\n",
    "# Print the cross-validation results\n",
    "print('Mean MSE score: ', mse_scores.mean())\n",
    "print('Mean R2 score: ', r2_scores.mean())\n",
    "\n",
    "end = time.time()\n",
    "print(f\"Run Time Performance = {end - start} seconds\")\n"
   ]
  },
  {
   "attachments": {},
   "cell_type": "markdown",
   "metadata": {},
   "source": [
    "## Part 5"
   ]
  },
  {
   "attachments": {},
   "cell_type": "markdown",
   "metadata": {},
   "source": [
    "SVM Classifier (Polynomial)"
   ]
  },
  {
   "cell_type": "code",
   "execution_count": 36,
   "metadata": {},
   "outputs": [
    {
     "name": "stdout",
     "output_type": "stream",
     "text": [
      "              precision    recall  f1-score   support\n",
      "\n",
      "           0       0.71      1.00      0.83       471\n",
      "           1       1.00      0.37      0.54       305\n",
      "\n",
      "    accuracy                           0.75       776\n",
      "   macro avg       0.85      0.68      0.68       776\n",
      "weighted avg       0.82      0.75      0.71       776\n",
      "\n",
      "Accuracy : % 75.12886597938144\n"
     ]
    },
    {
     "data": {
      "image/png": "[encoded data removed]",
      "text/plain": [
       "<Figure size 1200x900 with 2 Axes>"
      ]
     },
     "metadata": {},
     "output_type": "display_data"
    },
    {
     "data": {
      "image/png": "[encoded data removed]",
      "text/plain": [
       "<Figure size 1200x900 with 1 Axes>"
      ]
     },
     "metadata": {},
     "output_type": "display_data"
    },
    {
     "name": "stdout",
     "output_type": "stream",
     "text": [
      "Best threshold : \n",
      " 1 \n",
      "\n",
      "Run Time Performance = 0.5225105285644531 seconds\n"
     ]
    }
   ],
   "source": [
    "start = time.time()\n",
    "\n",
    "dataset = audit_risk_data.copy()\n",
    "\n",
    "X = dataset.drop(\"Risk\", axis = 1)\n",
    "y = dataset['Risk']\n",
    "\n",
    "# define the number of folds for k-fold cross-validation\n",
    "n_splits = 6  # number of folds for k-fold cross-validation\n",
    "kf = KFold(n_splits=n_splits, shuffle=True)\n",
    "total_y_test = []\n",
    "total_y_pred = []\n",
    "\n",
    "for tr, te in kf.split(dataset):        \n",
    "    \n",
    "    x_train, x_test = X.iloc[tr], X.iloc[te]\n",
    "    y_train, y_test = y.iloc[tr], y.iloc[te]\n",
    "    \n",
    "    svclassifier = SVC(kernel='poly',gamma='scale')  \n",
    "    svclassifier.fit(x_train, y_train) \n",
    "    y_pred = svclassifier.predict(x_test)  \n",
    "\n",
    "    # Convert y_pred to a NumPy array  \n",
    "    y_pred = np.array(y_pred)\n",
    "    \n",
    "    total_y_test += y_test.tolist()\n",
    "    total_y_pred += y_pred.tolist()\n",
    "    \n",
    "total_y_test = np.array(total_y_test)\n",
    "total_y_pred = np.array(total_y_pred)\n",
    "\n",
    "\n",
    "ReportPerformance(total_y_test, total_y_pred)\n",
    "ViewAccuracy(total_y_test, total_y_pred)\n",
    "ViewConfusionMatrix(total_y_test.astype(int), total_y_pred.astype(int))\n",
    "ViewRocCurve(total_y_test, total_y_pred)\n",
    "\n",
    "end = time.time()\n",
    "print(f\"Run Time Performance = {end - start} seconds\")\n",
    "\n"
   ]
  },
  {
   "attachments": {},
   "cell_type": "markdown",
   "metadata": {},
   "source": [
    "## Part 6"
   ]
  },
  {
   "attachments": {},
   "cell_type": "markdown",
   "metadata": {},
   "source": [
    "Decision Tree Classifier"
   ]
  },
  {
   "cell_type": "code",
   "execution_count": 37,
   "metadata": {},
   "outputs": [],
   "source": [
    "def tree_to_rules(tree, feature_names):\n",
    "    rules = []\n",
    "\n",
    "    def traverse(node, rule):\n",
    "        if tree.tree_.feature[node] != tree.tree_.threshold[node]:\n",
    "            # if not a leaf node, continue traversing\n",
    "            feature = feature_names[tree.tree_.feature[node]]\n",
    "            threshold = tree.tree_.threshold[node]\n",
    "            rule.append(f\"{feature} <= {threshold:.3f}\")\n",
    "            traverse(tree.tree_.children_left[node], rule)\n",
    "            rule.pop()\n",
    "            rule.append(f\"{feature} > {threshold:.3f}\")\n",
    "            traverse(tree.tree_.children_right[node], rule)\n",
    "            rule.pop()\n",
    "        else:\n",
    "            # if leaf node, add rule to the list\n",
    "            rule.append(f\"class {np.argmax(tree.tree_.value[node])}\")\n",
    "            rules.append(\" AND \".join(rule))\n",
    "            rule.pop()\n",
    "\n",
    "    traverse(0, [])\n",
    "    return rules\n"
   ]
  },
  {
   "attachments": {},
   "cell_type": "markdown",
   "metadata": {},
   "source": [
    "Decision Tree Classifer with Pre-Pruning"
   ]
  },
  {
   "cell_type": "code",
   "execution_count": 38,
   "metadata": {},
   "outputs": [
    {
     "name": "stdout",
     "output_type": "stream",
     "text": [
      "              precision    recall  f1-score   support\n",
      "\n",
      "           0       1.00      1.00      1.00       471\n",
      "           1       1.00      1.00      1.00       305\n",
      "\n",
      "    accuracy                           1.00       776\n",
      "   macro avg       1.00      1.00      1.00       776\n",
      "weighted avg       1.00      1.00      1.00       776\n",
      "\n",
      "Accuracy : % 100.0\n"
     ]
    },
    {
     "data": {
      "image/png": "[encoded data removed]",
      "text/plain": [
       "<Figure size 1200x900 with 2 Axes>"
      ]
     },
     "metadata": {},
     "output_type": "display_data"
    },
    {
     "name": "stdout",
     "output_type": "stream",
     "text": [
      "Decision tree into a set of rules\n",
      "['Audit_Risk <= 1.005 AND class 0', 'Audit_Risk > 1.005 AND class 1']\n",
      "Run Time Performance = 0.292752742767334 seconds\n"
     ]
    }
   ],
   "source": [
    "start = time.time()\n",
    "\n",
    "dataset = audit_risk_data.copy()\n",
    "\n",
    "X = dataset.drop(\"Risk\", axis = 1)\n",
    "y = dataset['Risk']\n",
    "\n",
    "\n",
    "# define the number of folds for k-fold cross-validation\n",
    "n_splits = 6  # number of folds for k-fold cross-validation\n",
    "kf = KFold(n_splits=n_splits, shuffle=True)\n",
    "\n",
    "\n",
    "total_y_test = []\n",
    "total_y_pred = []\n",
    "\n",
    "clf = tree.DecisionTreeClassifier(criterion=\"entropy\", max_leaf_nodes=50, min_samples_leaf=1, max_depth=10)       \n",
    "    \n",
    "for tr, te in kf.split(dataset):\n",
    "    x_train, x_test = X.iloc[tr], X.iloc[te]\n",
    "    y_train, y_test = y.iloc[tr], y.iloc[te]\n",
    "\n",
    "    # predicate\n",
    "    # different pruning parameters\n",
    "    # pre-pruning\n",
    "    clf = tree.DecisionTreeClassifier(criterion=\"entropy\", max_leaf_nodes=50, min_samples_leaf=1, max_depth=10)    \n",
    "    clf.fit(x_train, y_train)    \n",
    "    y_pred = clf.predict(x_test)  \n",
    "    \n",
    "    # Convert y_pred to a NumPy array  \n",
    "    y_pred = np.array(y_pred)\n",
    "    \n",
    "    total_y_test += y_test.tolist()\n",
    "    total_y_pred += y_pred.tolist()\n",
    "\n",
    "total_y_test = np.array(total_y_test)\n",
    "total_y_pred = np.array(total_y_pred)\n",
    "\n",
    "ReportPerformance(total_y_test, total_y_pred)\n",
    "ViewAccuracy(total_y_test, total_y_pred)\n",
    "ViewConfusionMatrix(total_y_test.astype(int), total_y_pred.astype(int))\n",
    "print(\"Decision tree into a set of rules\")\n",
    "rules = tree_to_rules(clf,X.columns.tolist())\n",
    "print(rules)\n",
    "\n",
    "end = time.time()\n",
    "print(f\"Run Time Performance = {end - start} seconds\")\n",
    "\n"
   ]
  },
  {
   "attachments": {},
   "cell_type": "markdown",
   "metadata": {},
   "source": [
    "Decision Tree Classifer with Post-Pruning"
   ]
  },
  {
   "cell_type": "code",
   "execution_count": 39,
   "metadata": {},
   "outputs": [
    {
     "name": "stdout",
     "output_type": "stream",
     "text": [
      "              precision    recall  f1-score   support\n",
      "\n",
      "           0       1.00      1.00      1.00       471\n",
      "           1       1.00      1.00      1.00       305\n",
      "\n",
      "    accuracy                           1.00       776\n",
      "   macro avg       1.00      1.00      1.00       776\n",
      "weighted avg       1.00      1.00      1.00       776\n",
      "\n",
      "Accuracy : % 100.0\n"
     ]
    },
    {
     "data": {
      "image/png": "[encoded data removed]",
      "text/plain": [
       "<Figure size 1200x900 with 2 Axes>"
      ]
     },
     "metadata": {},
     "output_type": "display_data"
    },
    {
     "name": "stdout",
     "output_type": "stream",
     "text": [
      "Decision tree into a set of rules\n",
      "['Audit_Risk <= 1.005 AND class 0', 'Audit_Risk > 1.005 AND class 1']\n",
      "Run Time Performance = 0.33014965057373047 seconds\n"
     ]
    }
   ],
   "source": [
    "start = time.time()\n",
    "\n",
    "dataset = audit_risk_data.copy()\n",
    "\n",
    "X = dataset.drop(\"Risk\", axis = 1)\n",
    "y = dataset['Risk']\n",
    "\n",
    "\n",
    "# define the number of folds for k-fold cross-validation\n",
    "n_splits = 6  # number of folds for k-fold cross-validation\n",
    "kf = KFold(n_splits=n_splits, shuffle=True)\n",
    "\n",
    "\n",
    "total_y_test = []\n",
    "total_y_pred = []\n",
    "\n",
    "clf = tree.DecisionTreeClassifier(criterion='entropy')\n",
    "\n",
    "for tr, te in kf.split(dataset):\n",
    "    x_train, x_test = X.iloc[tr], X.iloc[te]\n",
    "    y_train, y_test = y.iloc[tr], y.iloc[te]\n",
    "    \n",
    "    \n",
    "    clf = tree.DecisionTreeClassifier(criterion='entropy')\n",
    "    # Prune the decision tree\n",
    "    path = clf.cost_complexity_pruning_path(x_train, y_train)\n",
    "    ccp_alphas, impurities = path.ccp_alphas, path.impurities\n",
    "\n",
    "\n",
    "    # Find the best ccp_alpha\n",
    "    best_ccp_alpha = None\n",
    "    best_score = 0.0\n",
    "    for ccp_alpha in ccp_alphas:\n",
    "        clf = tree.DecisionTreeClassifier(criterion='entropy', ccp_alpha=ccp_alpha)\n",
    "        clf.fit(x_train, y_train)\n",
    "        score = clf.score(x_test, y_test)\n",
    "        if score > best_score:\n",
    "            best_score = score\n",
    "            best_ccp_alpha = ccp_alpha\n",
    "\n",
    "    \n",
    "    # Prune the decision tree with the best ccp_alpha\n",
    "    clf = tree.DecisionTreeClassifier(criterion='entropy', ccp_alpha=best_ccp_alpha)\n",
    "    clf.fit(x_train, y_train)\n",
    "    y_pred = clf.predict(x_test)  \n",
    "    \n",
    "    # Convert y_pred to a NumPy array  \n",
    "    y_pred = np.array(y_pred)\n",
    "    \n",
    "    total_y_test += y_test.tolist()\n",
    "    total_y_pred += y_pred.tolist()\n",
    "\n",
    "total_y_test = np.array(total_y_test)\n",
    "total_y_pred = np.array(total_y_pred)\n",
    "\n",
    "\n",
    "ReportPerformance(total_y_test, total_y_pred)\n",
    "ViewAccuracy(total_y_test, total_y_pred)\n",
    "ViewConfusionMatrix(total_y_test.astype(int), total_y_pred.astype(int))\n",
    "\n",
    "print(\"Decision tree into a set of rules\")\n",
    "rules = tree_to_rules(clf,X.columns.tolist())\n",
    "print(rules)\n",
    "\n",
    "end = time.time()\n",
    "print(f\"Run Time Performance = {end - start} seconds\")\n"
   ]
  },
  {
   "attachments": {},
   "cell_type": "markdown",
   "metadata": {},
   "source": [
    "## Part 7"
   ]
  },
  {
   "attachments": {},
   "cell_type": "markdown",
   "metadata": {},
   "source": [
    "Decision Tree Regressor"
   ]
  },
  {
   "cell_type": "code",
   "execution_count": 40,
   "metadata": {},
   "outputs": [
    {
     "name": "stdout",
     "output_type": "stream",
     "text": [
      "Mean MSE score:  42987.91779201106\n",
      "Mean R2 score:  0.9885141826120455\n",
      "Decision tree into a set of rules\n",
      "['registered <= 3173.000 AND registered <= 2111.500 AND registered <= 1342.000 AND registered <= 885.000 AND casual <= 115.500 AND registered <= 226.000 AND class 0', 'registered <= 3173.000 AND registered <= 2111.500 AND registered <= 1342.000 AND registered <= 885.000 AND casual <= 115.500 AND registered > 226.000 AND registered <= 481.500 AND mnth <= 6.500 AND class 0', 'registered <= 3173.000 AND registered <= 2111.500 AND registered <= 1342.000 AND registered <= 885.000 AND casual <= 115.500 AND registered > 226.000 AND registered <= 481.500 AND mnth > 6.500 AND class 0', 'registered <= 3173.000 AND registered <= 2111.500 AND registered <= 1342.000 AND registered <= 885.000 AND casual <= 115.500 AND registered > 226.000 AND registered > 481.500 AND registered <= 616.000 AND registered <= 530.500 AND class 0', 'registered <= 3173.000 AND registered <= 2111.500 AND registered <= 1342.000 AND registered <= 885.000 AND casual <= 115.500 AND registered > 226.000 AND registered > 481.500 AND registered <= 616.000 AND registered > 530.500 AND registered <= 573.500 AND class 0', 'registered <= 3173.000 AND registered <= 2111.500 AND registered <= 1342.000 AND registered <= 885.000 AND casual <= 115.500 AND registered > 226.000 AND registered > 481.500 AND registered <= 616.000 AND registered > 530.500 AND registered > 573.500 AND class 0', 'registered <= 3173.000 AND registered <= 2111.500 AND registered <= 1342.000 AND registered <= 885.000 AND casual <= 115.500 AND registered > 226.000 AND registered > 481.500 AND registered > 616.000 AND season <= 2.500 AND class 0', 'registered <= 3173.000 AND registered <= 2111.500 AND registered <= 1342.000 AND registered <= 885.000 AND casual <= 115.500 AND registered > 226.000 AND registered > 481.500 AND registered > 616.000 AND season > 2.500 AND class 0', 'registered <= 3173.000 AND registered <= 2111.500 AND registered <= 1342.000 AND registered <= 885.000 AND casual > 115.500 AND temp <= 0.354 AND registered <= 512.000 AND class 0', 'registered <= 3173.000 AND registered <= 2111.500 AND registered <= 1342.000 AND registered <= 885.000 AND casual > 115.500 AND temp <= 0.354 AND registered > 512.000 AND windspeed <= 0.119 AND class 0', 'registered <= 3173.000 AND registered <= 2111.500 AND registered <= 1342.000 AND registered <= 885.000 AND casual > 115.500 AND temp <= 0.354 AND registered > 512.000 AND windspeed > 0.119 AND mnth <= 6.500 AND holiday <= 0.500 AND class 0', 'registered <= 3173.000 AND registered <= 2111.500 AND registered <= 1342.000 AND registered <= 885.000 AND casual > 115.500 AND temp <= 0.354 AND registered > 512.000 AND windspeed > 0.119 AND mnth <= 6.500 AND holiday > 0.500 AND class 0', 'registered <= 3173.000 AND registered <= 2111.500 AND registered <= 1342.000 AND registered <= 885.000 AND casual > 115.500 AND temp <= 0.354 AND registered > 512.000 AND windspeed > 0.119 AND mnth > 6.500 AND yr <= 0.500 AND class 0', 'registered <= 3173.000 AND registered <= 2111.500 AND registered <= 1342.000 AND registered <= 885.000 AND casual > 115.500 AND temp <= 0.354 AND registered > 512.000 AND windspeed > 0.119 AND mnth > 6.500 AND yr > 0.500 AND class 0', 'registered <= 3173.000 AND registered <= 2111.500 AND registered <= 1342.000 AND registered <= 885.000 AND casual > 115.500 AND temp > 0.354 AND registered <= 672.000 AND class 0', 'registered <= 3173.000 AND registered <= 2111.500 AND registered <= 1342.000 AND registered <= 885.000 AND casual > 115.500 AND temp > 0.354 AND registered > 672.000 AND class 0', 'registered <= 3173.000 AND registered <= 2111.500 AND registered <= 1342.000 AND registered > 885.000 AND casual <= 269.500 AND registered <= 1159.500 AND registered <= 909.500 AND windspeed <= 0.360 AND registered <= 899.000 AND temp <= 0.112 AND class 0', 'registered <= 3173.000 AND registered <= 2111.500 AND registered <= 1342.000 AND registered > 885.000 AND casual <= 269.500 AND registered <= 1159.500 AND registered <= 909.500 AND windspeed <= 0.360 AND registered <= 899.000 AND temp > 0.112 AND class 0', 'registered <= 3173.000 AND registered <= 2111.500 AND registered <= 1342.000 AND registered > 885.000 AND casual <= 269.500 AND registered <= 1159.500 AND registered <= 909.500 AND windspeed <= 0.360 AND registered > 899.000 AND class 0', 'registered <= 3173.000 AND registered <= 2111.500 AND registered <= 1342.000 AND registered > 885.000 AND casual <= 269.500 AND registered <= 1159.500 AND registered <= 909.500 AND windspeed > 0.360 AND class 0', 'registered <= 3173.000 AND registered <= 2111.500 AND registered <= 1342.000 AND registered > 885.000 AND casual <= 269.500 AND registered <= 1159.500 AND registered > 909.500 AND windspeed <= 0.188 AND casual <= 236.500 AND class 0', 'registered <= 3173.000 AND registered <= 2111.500 AND registered <= 1342.000 AND registered > 885.000 AND casual <= 269.500 AND registered <= 1159.500 AND registered > 909.500 AND windspeed <= 0.188 AND casual > 236.500 AND class 0', 'registered <= 3173.000 AND registered <= 2111.500 AND registered <= 1342.000 AND registered > 885.000 AND casual <= 269.500 AND registered <= 1159.500 AND registered > 909.500 AND windspeed > 0.188 AND registered <= 1034.000 AND season <= 2.500 AND class 0', 'registered <= 3173.000 AND registered <= 2111.500 AND registered <= 1342.000 AND registered > 885.000 AND casual <= 269.500 AND registered <= 1159.500 AND registered > 909.500 AND windspeed > 0.188 AND registered <= 1034.000 AND season > 2.500 AND class 0', 'registered <= 3173.000 AND registered <= 2111.500 AND registered <= 1342.000 AND registered > 885.000 AND casual <= 269.500 AND registered <= 1159.500 AND registered > 909.500 AND windspeed > 0.188 AND registered > 1034.000 AND class 0', 'registered <= 3173.000 AND registered <= 2111.500 AND registered <= 1342.000 AND registered > 885.000 AND casual <= 269.500 AND registered > 1159.500 AND registered <= 1289.500 AND windspeed <= 0.123 AND class 0', 'registered <= 3173.000 AND registered <= 2111.500 AND registered <= 1342.000 AND registered > 885.000 AND casual <= 269.500 AND registered > 1159.500 AND registered <= 1289.500 AND windspeed > 0.123 AND registered <= 1254.500 AND atemp <= 0.216 AND class 0', 'registered <= 3173.000 AND registered <= 2111.500 AND registered <= 1342.000 AND registered > 885.000 AND casual <= 269.500 AND registered > 1159.500 AND registered <= 1289.500 AND windspeed > 0.123 AND registered <= 1254.500 AND atemp > 0.216 AND class 0', 'registered <= 3173.000 AND registered <= 2111.500 AND registered <= 1342.000 AND registered > 885.000 AND casual <= 269.500 AND registered > 1159.500 AND registered <= 1289.500 AND windspeed > 0.123 AND registered > 1254.500 AND class 0', 'registered <= 3173.000 AND registered <= 2111.500 AND registered <= 1342.000 AND registered > 885.000 AND casual <= 269.500 AND registered > 1159.500 AND registered > 1289.500 AND casual <= 66.500 AND class 0', 'registered <= 3173.000 AND registered <= 2111.500 AND registered <= 1342.000 AND registered > 885.000 AND casual <= 269.500 AND registered > 1159.500 AND registered > 1289.500 AND casual > 66.500 AND windspeed <= 0.193 AND class 0', 'registered <= 3173.000 AND registered <= 2111.500 AND registered <= 1342.000 AND registered > 885.000 AND casual <= 269.500 AND registered > 1159.500 AND registered > 1289.500 AND casual > 66.500 AND windspeed > 0.193 AND class 0', 'registered <= 3173.000 AND registered <= 2111.500 AND registered <= 1342.000 AND registered > 885.000 AND casual > 269.500 AND hum <= 0.500 AND casual <= 585.500 AND hum <= 0.476 AND temp <= 0.358 AND class 0', 'registered <= 3173.000 AND registered <= 2111.500 AND registered <= 1342.000 AND registered > 885.000 AND casual > 269.500 AND hum <= 0.500 AND casual <= 585.500 AND hum <= 0.476 AND temp > 0.358 AND class 0', 'registered <= 3173.000 AND registered <= 2111.500 AND registered <= 1342.000 AND registered > 885.000 AND casual > 269.500 AND hum <= 0.500 AND casual <= 585.500 AND hum > 0.476 AND class 0', 'registered <= 3173.000 AND registered <= 2111.500 AND registered <= 1342.000 AND registered > 885.000 AND casual > 269.500 AND hum <= 0.500 AND casual > 585.500 AND class 0', 'registered <= 3173.000 AND registered <= 2111.500 AND registered <= 1342.000 AND registered > 885.000 AND casual > 269.500 AND hum > 0.500 AND mnth <= 11.500 AND weekday <= 2.000 AND class 0', 'registered <= 3173.000 AND registered <= 2111.500 AND registered <= 1342.000 AND registered > 885.000 AND casual > 269.500 AND hum > 0.500 AND mnth <= 11.500 AND weekday > 2.000 AND atemp <= 0.303 AND class 0', 'registered <= 3173.000 AND registered <= 2111.500 AND registered <= 1342.000 AND registered > 885.000 AND casual > 269.500 AND hum > 0.500 AND mnth <= 11.500 AND weekday > 2.000 AND atemp > 0.303 AND class 0', 'registered <= 3173.000 AND registered <= 2111.500 AND registered <= 1342.000 AND registered > 885.000 AND casual > 269.500 AND hum > 0.500 AND mnth > 11.500 AND class 0', 'registered <= 3173.000 AND registered <= 2111.500 AND registered > 1342.000 AND casual <= 452.000 AND registered <= 1675.500 AND casual <= 114.000 AND registered <= 1503.500 AND registered <= 1415.000 AND weekday <= 3.000 AND weathersit <= 1.500 AND class 0', 'registered <= 3173.000 AND registered <= 2111.500 AND registered > 1342.000 AND casual <= 452.000 AND registered <= 1675.500 AND casual <= 114.000 AND registered <= 1503.500 AND registered <= 1415.000 AND weekday <= 3.000 AND weathersit > 1.500 AND class 0', 'registered <= 3173.000 AND registered <= 2111.500 AND registered > 1342.000 AND casual <= 452.000 AND registered <= 1675.500 AND casual <= 114.000 AND registered <= 1503.500 AND registered <= 1415.000 AND weekday > 3.000 AND class 0', 'registered <= 3173.000 AND registered <= 2111.500 AND registered > 1342.000 AND casual <= 452.000 AND registered <= 1675.500 AND casual <= 114.000 AND registered <= 1503.500 AND registered > 1415.000 AND weathersit <= 1.500 AND windspeed <= 0.315 AND class 0', 'registered <= 3173.000 AND registered <= 2111.500 AND registered > 1342.000 AND casual <= 452.000 AND registered <= 1675.500 AND casual <= 114.000 AND registered <= 1503.500 AND registered > 1415.000 AND weathersit <= 1.500 AND windspeed > 0.315 AND class 0', 'registered <= 3173.000 AND registered <= 2111.500 AND registered > 1342.000 AND casual <= 452.000 AND registered <= 1675.500 AND casual <= 114.000 AND registered <= 1503.500 AND registered > 1415.000 AND weathersit > 1.500 AND mnth <= 1.500 AND class 0', 'registered <= 3173.000 AND registered <= 2111.500 AND registered > 1342.000 AND casual <= 452.000 AND registered <= 1675.500 AND casual <= 114.000 AND registered <= 1503.500 AND registered > 1415.000 AND weathersit > 1.500 AND mnth > 1.500 AND class 0', 'registered <= 3173.000 AND registered <= 2111.500 AND registered > 1342.000 AND casual <= 452.000 AND registered <= 1675.500 AND casual <= 114.000 AND registered > 1503.500 AND registered <= 1596.000 AND windspeed <= 0.199 AND registered <= 1528.000 AND class 0', 'registered <= 3173.000 AND registered <= 2111.500 AND registered > 1342.000 AND casual <= 452.000 AND registered <= 1675.500 AND casual <= 114.000 AND registered > 1503.500 AND registered <= 1596.000 AND windspeed <= 0.199 AND registered > 1528.000 AND class 0', 'registered <= 3173.000 AND registered <= 2111.500 AND registered > 1342.000 AND casual <= 452.000 AND registered <= 1675.500 AND casual <= 114.000 AND registered > 1503.500 AND registered <= 1596.000 AND windspeed > 0.199 AND class 0', 'registered <= 3173.000 AND registered <= 2111.500 AND registered > 1342.000 AND casual <= 452.000 AND registered <= 1675.500 AND casual <= 114.000 AND registered > 1503.500 AND registered > 1596.000 AND class 0', 'registered <= 3173.000 AND registered <= 2111.500 AND registered > 1342.000 AND casual <= 452.000 AND registered <= 1675.500 AND casual > 114.000 AND casual <= 224.500 AND registered <= 1434.000 AND class 0', 'registered <= 3173.000 AND registered <= 2111.500 AND registered > 1342.000 AND casual <= 452.000 AND registered <= 1675.500 AND casual > 114.000 AND casual <= 224.500 AND registered > 1434.000 AND registered <= 1612.500 AND weathersit <= 1.500 AND class 0', 'registered <= 3173.000 AND registered <= 2111.500 AND registered > 1342.000 AND casual <= 452.000 AND registered <= 1675.500 AND casual > 114.000 AND casual <= 224.500 AND registered > 1434.000 AND registered <= 1612.500 AND weathersit > 1.500 AND class 0', 'registered <= 3173.000 AND registered <= 2111.500 AND registered > 1342.000 AND casual <= 452.000 AND registered <= 1675.500 AND casual > 114.000 AND casual <= 224.500 AND registered > 1434.000 AND registered > 1612.500 AND registered <= 1651.500 AND class 0', 'registered <= 3173.000 AND registered <= 2111.500 AND registered > 1342.000 AND casual <= 452.000 AND registered <= 1675.500 AND casual > 114.000 AND casual <= 224.500 AND registered > 1434.000 AND registered > 1612.500 AND registered > 1651.500 AND class 0', 'registered <= 3173.000 AND registered <= 2111.500 AND registered > 1342.000 AND casual <= 452.000 AND registered <= 1675.500 AND casual > 114.000 AND casual > 224.500 AND weekday <= 3.500 AND yr <= 0.500 AND class 0', 'registered <= 3173.000 AND registered <= 2111.500 AND registered > 1342.000 AND casual <= 452.000 AND registered <= 1675.500 AND casual > 114.000 AND casual > 224.500 AND weekday <= 3.500 AND yr > 0.500 AND class 0', 'registered <= 3173.000 AND registered <= 2111.500 AND registered > 1342.000 AND casual <= 452.000 AND registered <= 1675.500 AND casual > 114.000 AND casual > 224.500 AND weekday > 3.500 AND class 0', 'registered <= 3173.000 AND registered <= 2111.500 AND registered > 1342.000 AND casual <= 452.000 AND registered > 1675.500 AND registered <= 1855.500 AND casual <= 218.000 AND atemp <= 0.260 AND weekday <= 2.500 AND atemp <= 0.198 AND class 0', 'registered <= 3173.000 AND registered <= 2111.500 AND registered > 1342.000 AND casual <= 452.000 AND registered > 1675.500 AND registered <= 1855.500 AND casual <= 218.000 AND atemp <= 0.260 AND weekday <= 2.500 AND atemp > 0.198 AND class 0', 'registered <= 3173.000 AND registered <= 2111.500 AND registered > 1342.000 AND casual <= 452.000 AND registered > 1675.500 AND registered <= 1855.500 AND casual <= 218.000 AND atemp <= 0.260 AND weekday > 2.500 AND mnth <= 2.500 AND class 0', 'registered <= 3173.000 AND registered <= 2111.500 AND registered > 1342.000 AND casual <= 452.000 AND registered > 1675.500 AND registered <= 1855.500 AND casual <= 218.000 AND atemp <= 0.260 AND weekday > 2.500 AND mnth > 2.500 AND class 0', 'registered <= 3173.000 AND registered <= 2111.500 AND registered > 1342.000 AND casual <= 452.000 AND registered > 1675.500 AND registered <= 1855.500 AND casual <= 218.000 AND atemp > 0.260 AND casual <= 172.000 AND windspeed <= 0.233 AND class 0', 'registered <= 3173.000 AND registered <= 2111.500 AND registered > 1342.000 AND casual <= 452.000 AND registered > 1675.500 AND registered <= 1855.500 AND casual <= 218.000 AND atemp > 0.260 AND casual <= 172.000 AND windspeed > 0.233 AND class 0', 'registered <= 3173.000 AND registered <= 2111.500 AND registered > 1342.000 AND casual <= 452.000 AND registered > 1675.500 AND registered <= 1855.500 AND casual <= 218.000 AND atemp > 0.260 AND casual > 172.000 AND mnth <= 2.500 AND class 0', 'registered <= 3173.000 AND registered <= 2111.500 AND registered > 1342.000 AND casual <= 452.000 AND registered > 1675.500 AND registered <= 1855.500 AND casual <= 218.000 AND atemp > 0.260 AND casual > 172.000 AND mnth > 2.500 AND class 0', 'registered <= 3173.000 AND registered <= 2111.500 AND registered > 1342.000 AND casual <= 452.000 AND registered > 1675.500 AND registered <= 1855.500 AND casual > 218.000 AND atemp <= 0.312 AND hum <= 0.342 AND class 0', 'registered <= 3173.000 AND registered <= 2111.500 AND registered > 1342.000 AND casual <= 452.000 AND registered > 1675.500 AND registered <= 1855.500 AND casual > 218.000 AND atemp <= 0.312 AND hum > 0.342 AND hum <= 0.515 AND class 0', 'registered <= 3173.000 AND registered <= 2111.500 AND registered > 1342.000 AND casual <= 452.000 AND registered > 1675.500 AND registered <= 1855.500 AND casual > 218.000 AND atemp <= 0.312 AND hum > 0.342 AND hum > 0.515 AND class 0', 'registered <= 3173.000 AND registered <= 2111.500 AND registered > 1342.000 AND casual <= 452.000 AND registered > 1675.500 AND registered <= 1855.500 AND casual > 218.000 AND atemp > 0.312 AND windspeed <= 0.282 AND atemp <= 0.413 AND class 0', 'registered <= 3173.000 AND registered <= 2111.500 AND registered > 1342.000 AND casual <= 452.000 AND registered > 1675.500 AND registered <= 1855.500 AND casual > 218.000 AND atemp > 0.312 AND windspeed <= 0.282 AND atemp > 0.413 AND class 0', 'registered <= 3173.000 AND registered <= 2111.500 AND registered > 1342.000 AND casual <= 452.000 AND registered > 1675.500 AND registered <= 1855.500 AND casual > 218.000 AND atemp > 0.312 AND windspeed > 0.282 AND class 0', 'registered <= 3173.000 AND registered <= 2111.500 AND registered > 1342.000 AND casual <= 452.000 AND registered > 1675.500 AND registered > 1855.500 AND weekday <= 2.500 AND weekday <= 1.500 AND weekday <= 0.500 AND class 0', 'registered <= 3173.000 AND registered <= 2111.500 AND registered > 1342.000 AND casual <= 452.000 AND registered > 1675.500 AND registered > 1855.500 AND weekday <= 2.500 AND weekday <= 1.500 AND weekday > 0.500 AND class 0', 'registered <= 3173.000 AND registered <= 2111.500 AND registered > 1342.000 AND casual <= 452.000 AND registered > 1675.500 AND registered > 1855.500 AND weekday <= 2.500 AND weekday > 1.500 AND class 0', 'registered <= 3173.000 AND registered <= 2111.500 AND registered > 1342.000 AND casual <= 452.000 AND registered > 1675.500 AND registered > 1855.500 AND weekday > 2.500 AND season <= 2.500 AND casual <= 251.000 AND registered <= 1935.500 AND class 0', 'registered <= 3173.000 AND registered <= 2111.500 AND registered > 1342.000 AND casual <= 452.000 AND registered > 1675.500 AND registered > 1855.500 AND weekday > 2.500 AND season <= 2.500 AND casual <= 251.000 AND registered > 1935.500 AND class 0', 'registered <= 3173.000 AND registered <= 2111.500 AND registered > 1342.000 AND casual <= 452.000 AND registered > 1675.500 AND registered > 1855.500 AND weekday > 2.500 AND season <= 2.500 AND casual > 251.000 AND windspeed <= 0.276 AND class 0', 'registered <= 3173.000 AND registered <= 2111.500 AND registered > 1342.000 AND casual <= 452.000 AND registered > 1675.500 AND registered > 1855.500 AND weekday > 2.500 AND season <= 2.500 AND casual > 251.000 AND windspeed > 0.276 AND class 0', 'registered <= 3173.000 AND registered <= 2111.500 AND registered > 1342.000 AND casual <= 452.000 AND registered > 1675.500 AND registered > 1855.500 AND weekday > 2.500 AND season > 2.500 AND class 0', 'registered <= 3173.000 AND registered <= 2111.500 AND registered > 1342.000 AND casual > 452.000 AND casual <= 1071.000 AND registered <= 1453.500 AND hum <= 0.561 AND hum <= 0.501 AND class 0', 'registered <= 3173.000 AND registered <= 2111.500 AND registered > 1342.000 AND casual > 452.000 AND casual <= 1071.000 AND registered <= 1453.500 AND hum <= 0.561 AND hum > 0.501 AND class 0', 'registered <= 3173.000 AND registered <= 2111.500 AND registered > 1342.000 AND casual > 452.000 AND casual <= 1071.000 AND registered <= 1453.500 AND hum > 0.561 AND windspeed <= 0.209 AND class 0', 'registered <= 3173.000 AND registered <= 2111.500 AND registered > 1342.000 AND casual > 452.000 AND casual <= 1071.000 AND registered <= 1453.500 AND hum > 0.561 AND windspeed > 0.209 AND atemp <= 0.352 AND class 0', 'registered <= 3173.000 AND registered <= 2111.500 AND registered > 1342.000 AND casual > 452.000 AND casual <= 1071.000 AND registered <= 1453.500 AND hum > 0.561 AND windspeed > 0.209 AND atemp > 0.352 AND class 0', 'registered <= 3173.000 AND registered <= 2111.500 AND registered > 1342.000 AND casual > 452.000 AND casual <= 1071.000 AND registered > 1453.500 AND registered <= 2010.000 AND mnth <= 1.500 AND class 0', 'registered <= 3173.000 AND registered <= 2111.500 AND registered > 1342.000 AND casual > 452.000 AND casual <= 1071.000 AND registered > 1453.500 AND registered <= 2010.000 AND mnth > 1.500 AND windspeed <= 0.129 AND holiday <= 0.500 AND class 0', 'registered <= 3173.000 AND registered <= 2111.500 AND registered > 1342.000 AND casual > 452.000 AND casual <= 1071.000 AND registered > 1453.500 AND registered <= 2010.000 AND mnth > 1.500 AND windspeed <= 0.129 AND holiday > 0.500 AND class 0', 'registered <= 3173.000 AND registered <= 2111.500 AND registered > 1342.000 AND casual > 452.000 AND casual <= 1071.000 AND registered > 1453.500 AND registered <= 2010.000 AND mnth > 1.500 AND windspeed > 0.129 AND weathersit <= 1.500 AND class 0', 'registered <= 3173.000 AND registered <= 2111.500 AND registered > 1342.000 AND casual > 452.000 AND casual <= 1071.000 AND registered > 1453.500 AND registered <= 2010.000 AND mnth > 1.500 AND windspeed > 0.129 AND weathersit > 1.500 AND class 0', 'registered <= 3173.000 AND registered <= 2111.500 AND registered > 1342.000 AND casual > 452.000 AND casual <= 1071.000 AND registered > 1453.500 AND registered > 2010.000 AND class 0', 'registered <= 3173.000 AND registered <= 2111.500 AND registered > 1342.000 AND casual > 452.000 AND casual > 1071.000 AND casual <= 1218.500 AND mnth <= 7.500 AND class 0', 'registered <= 3173.000 AND registered <= 2111.500 AND registered > 1342.000 AND casual > 452.000 AND casual > 1071.000 AND casual <= 1218.500 AND mnth > 7.500 AND class 0', 'registered <= 3173.000 AND registered <= 2111.500 AND registered > 1342.000 AND casual > 452.000 AND casual > 1071.000 AND casual > 1218.500 AND weekday <= 3.000 AND class 0', 'registered <= 3173.000 AND registered <= 2111.500 AND registered > 1342.000 AND casual > 452.000 AND casual > 1071.000 AND casual > 1218.500 AND weekday > 3.000 AND season <= 2.500 AND class 0', 'registered <= 3173.000 AND registered <= 2111.500 AND registered > 1342.000 AND casual > 452.000 AND casual > 1071.000 AND casual > 1218.500 AND weekday > 3.000 AND season > 2.500 AND class 0', 'registered <= 3173.000 AND registered > 2111.500 AND casual <= 1242.500 AND registered <= 2554.500 AND casual <= 475.500 AND registered <= 2288.500 AND temp <= 0.439 AND casual <= 92.000 AND class 0', 'registered <= 3173.000 AND registered > 2111.500 AND casual <= 1242.500 AND registered <= 2554.500 AND casual <= 475.500 AND registered <= 2288.500 AND temp <= 0.439 AND casual > 92.000 AND casual <= 125.500 AND registered <= 2271.500 AND class 0', 'registered <= 3173.000 AND registered > 2111.500 AND casual <= 1242.500 AND registered <= 2554.500 AND casual <= 475.500 AND registered <= 2288.500 AND temp <= 0.439 AND casual > 92.000 AND casual <= 125.500 AND registered > 2271.500 AND class 0', 'registered <= 3173.000 AND registered > 2111.500 AND casual <= 1242.500 AND registered <= 2554.500 AND casual <= 475.500 AND registered <= 2288.500 AND temp <= 0.439 AND casual > 92.000 AND casual > 125.500 AND temp <= 0.341 AND class 0', 'registered <= 3173.000 AND registered > 2111.500 AND casual <= 1242.500 AND registered <= 2554.500 AND casual <= 475.500 AND registered <= 2288.500 AND temp <= 0.439 AND casual > 92.000 AND casual > 125.500 AND temp > 0.341 AND class 0', 'registered <= 3173.000 AND registered > 2111.500 AND casual <= 1242.500 AND registered <= 2554.500 AND casual <= 475.500 AND registered <= 2288.500 AND temp > 0.439 AND class 0', 'registered <= 3173.000 AND registered > 2111.500 AND casual <= 1242.500 AND registered <= 2554.500 AND casual <= 475.500 AND registered > 2288.500 AND casual <= 265.000 AND registered <= 2487.000 AND registered <= 2436.500 AND weekday <= 3.500 AND class 0', 'registered <= 3173.000 AND registered > 2111.500 AND casual <= 1242.500 AND registered <= 2554.500 AND casual <= 475.500 AND registered > 2288.500 AND casual <= 265.000 AND registered <= 2487.000 AND registered <= 2436.500 AND weekday > 3.500 AND class 0', 'registered <= 3173.000 AND registered > 2111.500 AND casual <= 1242.500 AND registered <= 2554.500 AND casual <= 475.500 AND registered > 2288.500 AND casual <= 265.000 AND registered <= 2487.000 AND registered > 2436.500 AND temp <= 0.452 AND class 0', 'registered <= 3173.000 AND registered > 2111.500 AND casual <= 1242.500 AND registered <= 2554.500 AND casual <= 475.500 AND registered > 2288.500 AND casual <= 265.000 AND registered <= 2487.000 AND registered > 2436.500 AND temp > 0.452 AND class 0', 'registered <= 3173.000 AND registered > 2111.500 AND casual <= 1242.500 AND registered <= 2554.500 AND casual <= 475.500 AND registered > 2288.500 AND casual <= 265.000 AND registered > 2487.000 AND season <= 3.500 AND registered <= 2529.500 AND class 0', 'registered <= 3173.000 AND registered > 2111.500 AND casual <= 1242.500 AND registered <= 2554.500 AND casual <= 475.500 AND registered > 2288.500 AND casual <= 265.000 AND registered > 2487.000 AND season <= 3.500 AND registered > 2529.500 AND class 0', 'registered <= 3173.000 AND registered > 2111.500 AND casual <= 1242.500 AND registered <= 2554.500 AND casual <= 475.500 AND registered > 2288.500 AND casual <= 265.000 AND registered > 2487.000 AND season > 3.500 AND class 0', 'registered <= 3173.000 AND registered > 2111.500 AND casual <= 1242.500 AND registered <= 2554.500 AND casual <= 475.500 AND registered > 2288.500 AND casual > 265.000 AND hum <= 0.691 AND hum <= 0.480 AND class 0', 'registered <= 3173.000 AND registered > 2111.500 AND casual <= 1242.500 AND registered <= 2554.500 AND casual <= 475.500 AND registered > 2288.500 AND casual > 265.000 AND hum <= 0.691 AND hum > 0.480 AND casual <= 431.500 AND class 0', 'registered <= 3173.000 AND registered > 2111.500 AND casual <= 1242.500 AND registered <= 2554.500 AND casual <= 475.500 AND registered > 2288.500 AND casual > 265.000 AND hum <= 0.691 AND hum > 0.480 AND casual > 431.500 AND class 0', 'registered <= 3173.000 AND registered > 2111.500 AND casual <= 1242.500 AND registered <= 2554.500 AND casual <= 475.500 AND registered > 2288.500 AND casual > 265.000 AND hum > 0.691 AND workingday <= 0.500 AND class 0', 'registered <= 3173.000 AND registered > 2111.500 AND casual <= 1242.500 AND registered <= 2554.500 AND casual <= 475.500 AND registered > 2288.500 AND casual > 265.000 AND hum > 0.691 AND workingday > 0.500 AND class 0', 'registered <= 3173.000 AND registered > 2111.500 AND casual <= 1242.500 AND registered <= 2554.500 AND casual > 475.500 AND casual <= 832.500 AND casual <= 629.000 AND atemp <= 0.332 AND class 0', 'registered <= 3173.000 AND registered > 2111.500 AND casual <= 1242.500 AND registered <= 2554.500 AND casual > 475.500 AND casual <= 832.500 AND casual <= 629.000 AND atemp > 0.332 AND casual <= 597.500 AND class 0', 'registered <= 3173.000 AND registered > 2111.500 AND casual <= 1242.500 AND registered <= 2554.500 AND casual > 475.500 AND casual <= 832.500 AND casual <= 629.000 AND atemp > 0.332 AND casual > 597.500 AND class 0', 'registered <= 3173.000 AND registered > 2111.500 AND casual <= 1242.500 AND registered <= 2554.500 AND casual > 475.500 AND casual <= 832.500 AND casual > 629.000 AND mnth <= 7.500 AND class 0', 'registered <= 3173.000 AND registered > 2111.500 AND casual <= 1242.500 AND registered <= 2554.500 AND casual > 475.500 AND casual <= 832.500 AND casual > 629.000 AND mnth > 7.500 AND season <= 2.500 AND class 0', 'registered <= 3173.000 AND registered > 2111.500 AND casual <= 1242.500 AND registered <= 2554.500 AND casual > 475.500 AND casual <= 832.500 AND casual > 629.000 AND mnth > 7.500 AND season > 2.500 AND class 0', 'registered <= 3173.000 AND registered > 2111.500 AND casual <= 1242.500 AND registered <= 2554.500 AND casual > 475.500 AND casual > 832.500 AND season <= 1.500 AND class 0', 'registered <= 3173.000 AND registered > 2111.500 AND casual <= 1242.500 AND registered <= 2554.500 AND casual > 475.500 AND casual > 832.500 AND season > 1.500 AND hum <= 0.904 AND hum <= 0.838 AND temp <= 0.385 AND class 0', 'registered <= 3173.000 AND registered > 2111.500 AND casual <= 1242.500 AND registered <= 2554.500 AND casual > 475.500 AND casual > 832.500 AND season > 1.500 AND hum <= 0.904 AND hum <= 0.838 AND temp > 0.385 AND class 0', 'registered <= 3173.000 AND registered > 2111.500 AND casual <= 1242.500 AND registered <= 2554.500 AND casual > 475.500 AND casual > 832.500 AND season > 1.500 AND hum <= 0.904 AND hum > 0.838 AND class 0', 'registered <= 3173.000 AND registered > 2111.500 AND casual <= 1242.500 AND registered <= 2554.500 AND casual > 475.500 AND casual > 832.500 AND season > 1.500 AND hum > 0.904 AND class 0', 'registered <= 3173.000 AND registered > 2111.500 AND casual <= 1242.500 AND registered > 2554.500 AND casual <= 601.500 AND registered <= 3077.500 AND hum <= 0.677 AND casual <= 508.500 AND registered <= 2657.500 AND class 0', 'registered <= 3173.000 AND registered > 2111.500 AND casual <= 1242.500 AND registered > 2554.500 AND casual <= 601.500 AND registered <= 3077.500 AND hum <= 0.677 AND casual <= 508.500 AND registered > 2657.500 AND casual <= 144.500 AND class 0', 'registered <= 3173.000 AND registered > 2111.500 AND casual <= 1242.500 AND registered > 2554.500 AND casual <= 601.500 AND registered <= 3077.500 AND hum <= 0.677 AND casual <= 508.500 AND registered > 2657.500 AND casual > 144.500 AND class 0', 'registered <= 3173.000 AND registered > 2111.500 AND casual <= 1242.500 AND registered > 2554.500 AND casual <= 601.500 AND registered <= 3077.500 AND hum <= 0.677 AND casual > 508.500 AND registered <= 2781.500 AND casual <= 564.500 AND class 0', 'registered <= 3173.000 AND registered > 2111.500 AND casual <= 1242.500 AND registered > 2554.500 AND casual <= 601.500 AND registered <= 3077.500 AND hum <= 0.677 AND casual > 508.500 AND registered <= 2781.500 AND casual > 564.500 AND class 0', 'registered <= 3173.000 AND registered > 2111.500 AND casual <= 1242.500 AND registered > 2554.500 AND casual <= 601.500 AND registered <= 3077.500 AND hum <= 0.677 AND casual > 508.500 AND registered > 2781.500 AND mnth <= 4.500 AND class 0', 'registered <= 3173.000 AND registered > 2111.500 AND casual <= 1242.500 AND registered > 2554.500 AND casual <= 601.500 AND registered <= 3077.500 AND hum <= 0.677 AND casual > 508.500 AND registered > 2781.500 AND mnth > 4.500 AND class 0', 'registered <= 3173.000 AND registered > 2111.500 AND casual <= 1242.500 AND registered > 2554.500 AND casual <= 601.500 AND registered <= 3077.500 AND hum > 0.677 AND weekday <= 1.500 AND atemp <= 0.283 AND class 0', 'registered <= 3173.000 AND registered > 2111.500 AND casual <= 1242.500 AND registered > 2554.500 AND casual <= 601.500 AND registered <= 3077.500 AND hum > 0.677 AND weekday <= 1.500 AND atemp > 0.283 AND windspeed <= 0.231 AND class 0', 'registered <= 3173.000 AND registered > 2111.500 AND casual <= 1242.500 AND registered > 2554.500 AND casual <= 601.500 AND registered <= 3077.500 AND hum > 0.677 AND weekday <= 1.500 AND atemp > 0.283 AND windspeed > 0.231 AND class 0', 'registered <= 3173.000 AND registered > 2111.500 AND casual <= 1242.500 AND registered > 2554.500 AND casual <= 601.500 AND registered <= 3077.500 AND hum > 0.677 AND weekday > 1.500 AND temp <= 0.287 AND class 0', 'registered <= 3173.000 AND registered > 2111.500 AND casual <= 1242.500 AND registered > 2554.500 AND casual <= 601.500 AND registered <= 3077.500 AND hum > 0.677 AND weekday > 1.500 AND temp > 0.287 AND casual <= 85.000 AND class 0', 'registered <= 3173.000 AND registered > 2111.500 AND casual <= 1242.500 AND registered > 2554.500 AND casual <= 601.500 AND registered <= 3077.500 AND hum > 0.677 AND weekday > 1.500 AND temp > 0.287 AND casual > 85.000 AND class 0', 'registered <= 3173.000 AND registered > 2111.500 AND casual <= 1242.500 AND registered > 2554.500 AND casual <= 601.500 AND registered > 3077.500 AND casual <= 338.500 AND temp <= 0.270 AND class 0', 'registered <= 3173.000 AND registered > 2111.500 AND casual <= 1242.500 AND registered > 2554.500 AND casual <= 601.500 AND registered > 3077.500 AND casual <= 338.500 AND temp > 0.270 AND weekday <= 3.000 AND class 0', 'registered <= 3173.000 AND registered > 2111.500 AND casual <= 1242.500 AND registered > 2554.500 AND casual <= 601.500 AND registered > 3077.500 AND casual <= 338.500 AND temp > 0.270 AND weekday > 3.000 AND class 0', 'registered <= 3173.000 AND registered > 2111.500 AND casual <= 1242.500 AND registered > 2554.500 AND casual <= 601.500 AND registered > 3077.500 AND casual > 338.500 AND atemp <= 0.554 AND class 0', 'registered <= 3173.000 AND registered > 2111.500 AND casual <= 1242.500 AND registered > 2554.500 AND casual <= 601.500 AND registered > 3077.500 AND casual > 338.500 AND atemp > 0.554 AND hum <= 0.778 AND class 0', 'registered <= 3173.000 AND registered > 2111.500 AND casual <= 1242.500 AND registered > 2554.500 AND casual <= 601.500 AND registered > 3077.500 AND casual > 338.500 AND atemp > 0.554 AND hum > 0.778 AND class 0', 'registered <= 3173.000 AND registered > 2111.500 AND casual <= 1242.500 AND registered > 2554.500 AND casual > 601.500 AND weekday <= 2.500 AND casual <= 869.500 AND hum <= 0.614 AND registered <= 2736.500 AND class 0', 'registered <= 3173.000 AND registered > 2111.500 AND casual <= 1242.500 AND registered > 2554.500 AND casual > 601.500 AND weekday <= 2.500 AND casual <= 869.500 AND hum <= 0.614 AND registered > 2736.500 AND class 0', 'registered <= 3173.000 AND registered > 2111.500 AND casual <= 1242.500 AND registered > 2554.500 AND casual > 601.500 AND weekday <= 2.500 AND casual <= 869.500 AND hum > 0.614 AND weathersit <= 1.500 AND class 0', 'registered <= 3173.000 AND registered > 2111.500 AND casual <= 1242.500 AND registered > 2554.500 AND casual > 601.500 AND weekday <= 2.500 AND casual <= 869.500 AND hum > 0.614 AND weathersit > 1.500 AND class 0', 'registered <= 3173.000 AND registered > 2111.500 AND casual <= 1242.500 AND registered > 2554.500 AND casual > 601.500 AND weekday <= 2.500 AND casual > 869.500 AND windspeed <= 0.225 AND windspeed <= 0.131 AND class 0', 'registered <= 3173.000 AND registered > 2111.500 AND casual <= 1242.500 AND registered > 2554.500 AND casual > 601.500 AND weekday <= 2.500 AND casual > 869.500 AND windspeed <= 0.225 AND windspeed > 0.131 AND class 0', 'registered <= 3173.000 AND registered > 2111.500 AND casual <= 1242.500 AND registered > 2554.500 AND casual > 601.500 AND weekday <= 2.500 AND casual > 869.500 AND windspeed > 0.225 AND class 0', 'registered <= 3173.000 AND registered > 2111.500 AND casual <= 1242.500 AND registered > 2554.500 AND casual > 601.500 AND weekday > 2.500 AND registered <= 2936.000 AND class 0', 'registered <= 3173.000 AND registered > 2111.500 AND casual <= 1242.500 AND registered > 2554.500 AND casual > 601.500 AND weekday > 2.500 AND registered > 2936.000 AND atemp <= 0.744 AND class 0', 'registered <= 3173.000 AND registered > 2111.500 AND casual <= 1242.500 AND registered > 2554.500 AND casual > 601.500 AND weekday > 2.500 AND registered > 2936.000 AND atemp > 0.744 AND class 0', 'registered <= 3173.000 AND registered > 2111.500 AND casual > 1242.500 AND casual <= 1855.500 AND registered <= 2704.000 AND casual <= 1400.000 AND registered <= 2555.500 AND weathersit <= 1.500 AND class 0', 'registered <= 3173.000 AND registered > 2111.500 AND casual > 1242.500 AND casual <= 1855.500 AND registered <= 2704.000 AND casual <= 1400.000 AND registered <= 2555.500 AND weathersit > 1.500 AND class 0', 'registered <= 3173.000 AND registered > 2111.500 AND casual > 1242.500 AND casual <= 1855.500 AND registered <= 2704.000 AND casual <= 1400.000 AND registered > 2555.500 AND class 0', 'registered <= 3173.000 AND registered > 2111.500 AND casual > 1242.500 AND casual <= 1855.500 AND registered <= 2704.000 AND casual > 1400.000 AND hum <= 0.627 AND hum <= 0.524 AND class 0', 'registered <= 3173.000 AND registered > 2111.500 AND casual > 1242.500 AND casual <= 1855.500 AND registered <= 2704.000 AND casual > 1400.000 AND hum <= 0.627 AND hum > 0.524 AND class 0', 'registered <= 3173.000 AND registered > 2111.500 AND casual > 1242.500 AND casual <= 1855.500 AND registered <= 2704.000 AND casual > 1400.000 AND hum > 0.627 AND casual <= 1483.000 AND class 0', 'registered <= 3173.000 AND registered > 2111.500 AND casual > 1242.500 AND casual <= 1855.500 AND registered <= 2704.000 AND casual > 1400.000 AND hum > 0.627 AND casual > 1483.000 AND windspeed <= 0.162 AND class 0', 'registered <= 3173.000 AND registered > 2111.500 AND casual > 1242.500 AND casual <= 1855.500 AND registered <= 2704.000 AND casual > 1400.000 AND hum > 0.627 AND casual > 1483.000 AND windspeed > 0.162 AND atemp <= 0.599 AND class 0', 'registered <= 3173.000 AND registered > 2111.500 AND casual > 1242.500 AND casual <= 1855.500 AND registered <= 2704.000 AND casual > 1400.000 AND hum > 0.627 AND casual > 1483.000 AND windspeed > 0.162 AND atemp > 0.599 AND class 0', 'registered <= 3173.000 AND registered > 2111.500 AND casual > 1242.500 AND casual <= 1855.500 AND registered > 2704.000 AND registered <= 2951.500 AND casual <= 1338.000 AND class 0', 'registered <= 3173.000 AND registered > 2111.500 AND casual > 1242.500 AND casual <= 1855.500 AND registered > 2704.000 AND registered <= 2951.500 AND casual > 1338.000 AND hum <= 0.473 AND class 0', 'registered <= 3173.000 AND registered > 2111.500 AND casual > 1242.500 AND casual <= 1855.500 AND registered > 2704.000 AND registered <= 2951.500 AND casual > 1338.000 AND hum > 0.473 AND casual <= 1571.500 AND registered <= 2846.000 AND class 0', 'registered <= 3173.000 AND registered > 2111.500 AND casual > 1242.500 AND casual <= 1855.500 AND registered > 2704.000 AND registered <= 2951.500 AND casual > 1338.000 AND hum > 0.473 AND casual <= 1571.500 AND registered > 2846.000 AND class 0', 'registered <= 3173.000 AND registered > 2111.500 AND casual > 1242.500 AND casual <= 1855.500 AND registered > 2704.000 AND registered <= 2951.500 AND casual > 1338.000 AND hum > 0.473 AND casual > 1571.500 AND class 0', 'registered <= 3173.000 AND registered > 2111.500 AND casual > 1242.500 AND casual <= 1855.500 AND registered > 2704.000 AND registered > 2951.500 AND casual <= 1597.000 AND temp <= 0.627 AND hum <= 0.793 AND class 0', 'registered <= 3173.000 AND registered > 2111.500 AND casual > 1242.500 AND casual <= 1855.500 AND registered > 2704.000 AND registered > 2951.500 AND casual <= 1597.000 AND temp <= 0.627 AND hum > 0.793 AND class 0', 'registered <= 3173.000 AND registered > 2111.500 AND casual > 1242.500 AND casual <= 1855.500 AND registered > 2704.000 AND registered > 2951.500 AND casual <= 1597.000 AND temp > 0.627 AND class 0', 'registered <= 3173.000 AND registered > 2111.500 AND casual > 1242.500 AND casual <= 1855.500 AND registered > 2704.000 AND registered > 2951.500 AND casual > 1597.000 AND casual <= 1625.500 AND class 0', 'registered <= 3173.000 AND registered > 2111.500 AND casual > 1242.500 AND casual <= 1855.500 AND registered > 2704.000 AND registered > 2951.500 AND casual > 1597.000 AND casual > 1625.500 AND class 0', 'registered <= 3173.000 AND registered > 2111.500 AND casual > 1242.500 AND casual > 1855.500 AND windspeed <= 0.098 AND holiday <= 0.500 AND class 0', 'registered <= 3173.000 AND registered > 2111.500 AND casual > 1242.500 AND casual > 1855.500 AND windspeed <= 0.098 AND holiday > 0.500 AND class 0', 'registered <= 3173.000 AND registered > 2111.500 AND casual > 1242.500 AND casual > 1855.500 AND windspeed > 0.098 AND registered <= 2836.000 AND atemp <= 0.640 AND class 0', 'registered <= 3173.000 AND registered > 2111.500 AND casual > 1242.500 AND casual > 1855.500 AND windspeed > 0.098 AND registered <= 2836.000 AND atemp > 0.640 AND class 0', 'registered <= 3173.000 AND registered > 2111.500 AND casual > 1242.500 AND casual > 1855.500 AND windspeed > 0.098 AND registered > 2836.000 AND season <= 2.500 AND class 0', 'registered <= 3173.000 AND registered > 2111.500 AND casual > 1242.500 AND casual > 1855.500 AND windspeed > 0.098 AND registered > 2836.000 AND season > 2.500 AND class 0', 'registered > 3173.000 AND registered <= 4280.500 AND casual <= 1291.000 AND registered <= 3837.000 AND casual <= 538.500 AND registered <= 3628.500 AND registered <= 3426.000 AND casual <= 315.500 AND registered <= 3343.500 AND casual <= 177.500 AND class 0', 'registered > 3173.000 AND registered <= 4280.500 AND casual <= 1291.000 AND registered <= 3837.000 AND casual <= 538.500 AND registered <= 3628.500 AND registered <= 3426.000 AND casual <= 315.500 AND registered <= 3343.500 AND casual > 177.500 AND class 0', 'registered > 3173.000 AND registered <= 4280.500 AND casual <= 1291.000 AND registered <= 3837.000 AND casual <= 538.500 AND registered <= 3628.500 AND registered <= 3426.000 AND casual <= 315.500 AND registered > 3343.500 AND temp <= 0.287 AND class 0', 'registered > 3173.000 AND registered <= 4280.500 AND casual <= 1291.000 AND registered <= 3837.000 AND casual <= 538.500 AND registered <= 3628.500 AND registered <= 3426.000 AND casual <= 315.500 AND registered > 3343.500 AND temp > 0.287 AND class 0', 'registered > 3173.000 AND registered <= 4280.500 AND casual <= 1291.000 AND registered <= 3837.000 AND casual <= 538.500 AND registered <= 3628.500 AND registered <= 3426.000 AND casual > 315.500 AND casual <= 447.000 AND registered <= 3217.000 AND class 0', 'registered > 3173.000 AND registered <= 4280.500 AND casual <= 1291.000 AND registered <= 3837.000 AND casual <= 538.500 AND registered <= 3628.500 AND registered <= 3426.000 AND casual > 315.500 AND casual <= 447.000 AND registered > 3217.000 AND class 0', 'registered > 3173.000 AND registered <= 4280.500 AND casual <= 1291.000 AND registered <= 3837.000 AND casual <= 538.500 AND registered <= 3628.500 AND registered <= 3426.000 AND casual > 315.500 AND casual > 447.000 AND registered <= 3305.000 AND class 0', 'registered > 3173.000 AND registered <= 4280.500 AND casual <= 1291.000 AND registered <= 3837.000 AND casual <= 538.500 AND registered <= 3628.500 AND registered <= 3426.000 AND casual > 315.500 AND casual > 447.000 AND registered > 3305.000 AND class 0', 'registered > 3173.000 AND registered <= 4280.500 AND casual <= 1291.000 AND registered <= 3837.000 AND casual <= 538.500 AND registered <= 3628.500 AND registered > 3426.000 AND casual <= 234.500 AND mnth <= 7.000 AND registered <= 3574.500 AND class 0', 'registered > 3173.000 AND registered <= 4280.500 AND casual <= 1291.000 AND registered <= 3837.000 AND casual <= 538.500 AND registered <= 3628.500 AND registered > 3426.000 AND casual <= 234.500 AND mnth <= 7.000 AND registered > 3574.500 AND class 0', 'registered > 3173.000 AND registered <= 4280.500 AND casual <= 1291.000 AND registered <= 3837.000 AND casual <= 538.500 AND registered <= 3628.500 AND registered > 3426.000 AND casual <= 234.500 AND mnth > 7.000 AND weekday <= 3.500 AND class 0', 'registered > 3173.000 AND registered <= 4280.500 AND casual <= 1291.000 AND registered <= 3837.000 AND casual <= 538.500 AND registered <= 3628.500 AND registered > 3426.000 AND casual <= 234.500 AND mnth > 7.000 AND weekday > 3.500 AND class 0', 'registered > 3173.000 AND registered <= 4280.500 AND casual <= 1291.000 AND registered <= 3837.000 AND casual <= 538.500 AND registered <= 3628.500 AND registered > 3426.000 AND casual > 234.500 AND temp <= 0.700 AND mnth <= 10.500 AND class 0', 'registered > 3173.000 AND registered <= 4280.500 AND casual <= 1291.000 AND registered <= 3837.000 AND casual <= 538.500 AND registered <= 3628.500 AND registered > 3426.000 AND casual > 234.500 AND temp <= 0.700 AND mnth > 10.500 AND class 0', 'registered > 3173.000 AND registered <= 4280.500 AND casual <= 1291.000 AND registered <= 3837.000 AND casual <= 538.500 AND registered <= 3628.500 AND registered > 3426.000 AND casual > 234.500 AND temp > 0.700 AND class 0', 'registered > 3173.000 AND registered <= 4280.500 AND casual <= 1291.000 AND registered <= 3837.000 AND casual <= 538.500 AND registered > 3628.500 AND temp <= 0.322 AND mnth <= 2.500 AND class 0', 'registered > 3173.000 AND registered <= 4280.500 AND casual <= 1291.000 AND registered <= 3837.000 AND casual <= 538.500 AND registered > 3628.500 AND temp <= 0.322 AND mnth > 2.500 AND casual <= 244.500 AND mnth <= 7.000 AND class 0', 'registered > 3173.000 AND registered <= 4280.500 AND casual <= 1291.000 AND registered <= 3837.000 AND casual <= 538.500 AND registered > 3628.500 AND temp <= 0.322 AND mnth > 2.500 AND casual <= 244.500 AND mnth > 7.000 AND class 0', 'registered > 3173.000 AND registered <= 4280.500 AND casual <= 1291.000 AND registered <= 3837.000 AND casual <= 538.500 AND registered > 3628.500 AND temp <= 0.322 AND mnth > 2.500 AND casual > 244.500 AND class 0', 'registered > 3173.000 AND registered <= 4280.500 AND casual <= 1291.000 AND registered <= 3837.000 AND casual <= 538.500 AND registered > 3628.500 AND temp > 0.322 AND registered <= 3713.000 AND hum <= 0.879 AND weekday <= 1.500 AND class 0', 'registered > 3173.000 AND registered <= 4280.500 AND casual <= 1291.000 AND registered <= 3837.000 AND casual <= 538.500 AND registered > 3628.500 AND temp > 0.322 AND registered <= 3713.000 AND hum <= 0.879 AND weekday > 1.500 AND class 0', 'registered > 3173.000 AND registered <= 4280.500 AND casual <= 1291.000 AND registered <= 3837.000 AND casual <= 538.500 AND registered > 3628.500 AND temp > 0.322 AND registered <= 3713.000 AND hum > 0.879 AND class 0', 'registered > 3173.000 AND registered <= 4280.500 AND casual <= 1291.000 AND registered <= 3837.000 AND casual <= 538.500 AND registered > 3628.500 AND temp > 0.322 AND registered > 3713.000 AND casual <= 338.000 AND mnth <= 11.500 AND class 0', 'registered > 3173.000 AND registered <= 4280.500 AND casual <= 1291.000 AND registered <= 3837.000 AND casual <= 538.500 AND registered > 3628.500 AND temp > 0.322 AND registered > 3713.000 AND casual <= 338.000 AND mnth > 11.500 AND class 0', 'registered > 3173.000 AND registered <= 4280.500 AND casual <= 1291.000 AND registered <= 3837.000 AND casual <= 538.500 AND registered > 3628.500 AND temp > 0.322 AND registered > 3713.000 AND casual > 338.000 AND casual <= 359.500 AND class 0', 'registered > 3173.000 AND registered <= 4280.500 AND casual <= 1291.000 AND registered <= 3837.000 AND casual <= 538.500 AND registered > 3628.500 AND temp > 0.322 AND registered > 3713.000 AND casual > 338.000 AND casual > 359.500 AND class 0', 'registered > 3173.000 AND registered <= 4280.500 AND casual <= 1291.000 AND registered <= 3837.000 AND casual > 538.500 AND casual <= 787.000 AND registered <= 3513.000 AND registered <= 3355.500 AND casual <= 671.500 AND temp <= 0.608 AND class 0', 'registered > 3173.000 AND registered <= 4280.500 AND casual <= 1291.000 AND registered <= 3837.000 AND casual > 538.500 AND casual <= 787.000 AND registered <= 3513.000 AND registered <= 3355.500 AND casual <= 671.500 AND temp > 0.608 AND class 0', 'registered > 3173.000 AND registered <= 4280.500 AND casual <= 1291.000 AND registered <= 3837.000 AND casual > 538.500 AND casual <= 787.000 AND registered <= 3513.000 AND registered <= 3355.500 AND casual > 671.500 AND windspeed <= 0.156 AND class 0', 'registered > 3173.000 AND registered <= 4280.500 AND casual <= 1291.000 AND registered <= 3837.000 AND casual > 538.500 AND casual <= 787.000 AND registered <= 3513.000 AND registered <= 3355.500 AND casual > 671.500 AND windspeed > 0.156 AND class 0', 'registered > 3173.000 AND registered <= 4280.500 AND casual <= 1291.000 AND registered <= 3837.000 AND casual > 538.500 AND casual <= 787.000 AND registered <= 3513.000 AND registered > 3355.500 AND atemp <= 0.498 AND registered <= 3466.000 AND class 0', 'registered > 3173.000 AND registered <= 4280.500 AND casual <= 1291.000 AND registered <= 3837.000 AND casual > 538.500 AND casual <= 787.000 AND registered <= 3513.000 AND registered > 3355.500 AND atemp <= 0.498 AND registered > 3466.000 AND class 0', 'registered > 3173.000 AND registered <= 4280.500 AND casual <= 1291.000 AND registered <= 3837.000 AND casual > 538.500 AND casual <= 787.000 AND registered <= 3513.000 AND registered > 3355.500 AND atemp > 0.498 AND temp <= 0.590 AND class 0', 'registered > 3173.000 AND registered <= 4280.500 AND casual <= 1291.000 AND registered <= 3837.000 AND casual > 538.500 AND casual <= 787.000 AND registered <= 3513.000 AND registered > 3355.500 AND atemp > 0.498 AND temp > 0.590 AND class 0', 'registered > 3173.000 AND registered <= 4280.500 AND casual <= 1291.000 AND registered <= 3837.000 AND casual > 538.500 AND casual <= 787.000 AND registered > 3513.000 AND registered <= 3693.000 AND mnth <= 6.000 AND class 0', 'registered > 3173.000 AND registered <= 4280.500 AND casual <= 1291.000 AND registered <= 3837.000 AND casual > 538.500 AND casual <= 787.000 AND registered > 3513.000 AND registered <= 3693.000 AND mnth > 6.000 AND hum <= 0.567 AND class 0', 'registered > 3173.000 AND registered <= 4280.500 AND casual <= 1291.000 AND registered <= 3837.000 AND casual > 538.500 AND casual <= 787.000 AND registered > 3513.000 AND registered <= 3693.000 AND mnth > 6.000 AND hum > 0.567 AND class 0', 'registered > 3173.000 AND registered <= 4280.500 AND casual <= 1291.000 AND registered <= 3837.000 AND casual > 538.500 AND casual <= 787.000 AND registered > 3513.000 AND registered > 3693.000 AND casual <= 715.000 AND registered <= 3816.000 AND class 0', 'registered > 3173.000 AND registered <= 4280.500 AND casual <= 1291.000 AND registered <= 3837.000 AND casual > 538.500 AND casual <= 787.000 AND registered > 3513.000 AND registered > 3693.000 AND casual <= 715.000 AND registered > 3816.000 AND class 0', 'registered > 3173.000 AND registered <= 4280.500 AND casual <= 1291.000 AND registered <= 3837.000 AND casual > 538.500 AND casual <= 787.000 AND registered > 3513.000 AND registered > 3693.000 AND casual > 715.000 AND class 0', 'registered > 3173.000 AND registered <= 4280.500 AND casual <= 1291.000 AND registered <= 3837.000 AND casual > 538.500 AND casual > 787.000 AND registered <= 3625.500 AND windspeed <= 0.155 AND weathersit <= 1.500 AND class 0', 'registered > 3173.000 AND registered <= 4280.500 AND casual <= 1291.000 AND registered <= 3837.000 AND casual > 538.500 AND casual > 787.000 AND registered <= 3625.500 AND windspeed <= 0.155 AND weathersit > 1.500 AND class 0', 'registered > 3173.000 AND registered <= 4280.500 AND casual <= 1291.000 AND registered <= 3837.000 AND casual > 538.500 AND casual > 787.000 AND registered <= 3625.500 AND windspeed > 0.155 AND casual <= 838.500 AND class 0', 'registered > 3173.000 AND registered <= 4280.500 AND casual <= 1291.000 AND registered <= 3837.000 AND casual > 538.500 AND casual > 787.000 AND registered <= 3625.500 AND windspeed > 0.155 AND casual > 838.500 AND temp <= 0.756 AND class 0', 'registered > 3173.000 AND registered <= 4280.500 AND casual <= 1291.000 AND registered <= 3837.000 AND casual > 538.500 AND casual > 787.000 AND registered <= 3625.500 AND windspeed > 0.155 AND casual > 838.500 AND temp > 0.756 AND class 0', 'registered > 3173.000 AND registered <= 4280.500 AND casual <= 1291.000 AND registered <= 3837.000 AND casual > 538.500 AND casual > 787.000 AND registered > 3625.500 AND casual <= 843.000 AND casual <= 807.000 AND class 0', 'registered > 3173.000 AND registered <= 4280.500 AND casual <= 1291.000 AND registered <= 3837.000 AND casual > 538.500 AND casual > 787.000 AND registered > 3625.500 AND casual <= 843.000 AND casual > 807.000 AND class 0', 'registered > 3173.000 AND registered <= 4280.500 AND casual <= 1291.000 AND registered <= 3837.000 AND casual > 538.500 AND casual > 787.000 AND registered > 3625.500 AND casual > 843.000 AND hum <= 0.590 AND hum <= 0.524 AND class 0', 'registered > 3173.000 AND registered <= 4280.500 AND casual <= 1291.000 AND registered <= 3837.000 AND casual > 538.500 AND casual > 787.000 AND registered > 3625.500 AND casual > 843.000 AND hum <= 0.590 AND hum > 0.524 AND class 0', 'registered > 3173.000 AND registered <= 4280.500 AND casual <= 1291.000 AND registered <= 3837.000 AND casual > 538.500 AND casual > 787.000 AND registered > 3625.500 AND casual > 843.000 AND hum > 0.590 AND weathersit <= 1.500 AND class 0', 'registered > 3173.000 AND registered <= 4280.500 AND casual <= 1291.000 AND registered <= 3837.000 AND casual > 538.500 AND casual > 787.000 AND registered > 3625.500 AND casual > 843.000 AND hum > 0.590 AND weathersit > 1.500 AND class 0', 'registered > 3173.000 AND registered <= 4280.500 AND casual <= 1291.000 AND registered > 3837.000 AND casual <= 886.000 AND casual <= 522.500 AND casual <= 278.500 AND weekday <= 2.500 AND windspeed <= 0.231 AND hum <= 0.446 AND class 0', 'registered > 3173.000 AND registered <= 4280.500 AND casual <= 1291.000 AND registered > 3837.000 AND casual <= 886.000 AND casual <= 522.500 AND casual <= 278.500 AND weekday <= 2.500 AND windspeed <= 0.231 AND hum > 0.446 AND class 0', 'registered > 3173.000 AND registered <= 4280.500 AND casual <= 1291.000 AND registered > 3837.000 AND casual <= 886.000 AND casual <= 522.500 AND casual <= 278.500 AND weekday <= 2.500 AND windspeed > 0.231 AND class 0', 'registered > 3173.000 AND registered <= 4280.500 AND casual <= 1291.000 AND registered > 3837.000 AND casual <= 886.000 AND casual <= 522.500 AND casual <= 278.500 AND weekday > 2.500 AND class 0', 'registered > 3173.000 AND registered <= 4280.500 AND casual <= 1291.000 AND registered > 3837.000 AND casual <= 886.000 AND casual <= 522.500 AND casual > 278.500 AND weekday <= 2.500 AND season <= 2.500 AND class 0', 'registered > 3173.000 AND registered <= 4280.500 AND casual <= 1291.000 AND registered > 3837.000 AND casual <= 886.000 AND casual <= 522.500 AND casual > 278.500 AND weekday <= 2.500 AND season > 2.500 AND class 0', 'registered > 3173.000 AND registered <= 4280.500 AND casual <= 1291.000 AND registered > 3837.000 AND casual <= 886.000 AND casual <= 522.500 AND casual > 278.500 AND weekday > 2.500 AND temp <= 0.440 AND class 0', 'registered > 3173.000 AND registered <= 4280.500 AND casual <= 1291.000 AND registered > 3837.000 AND casual <= 886.000 AND casual <= 522.500 AND casual > 278.500 AND weekday > 2.500 AND temp > 0.440 AND class 0', 'registered > 3173.000 AND registered <= 4280.500 AND casual <= 1291.000 AND registered > 3837.000 AND casual <= 886.000 AND casual > 522.500 AND registered <= 3963.000 AND casual <= 808.500 AND casual <= 664.000 AND mnth <= 5.500 AND class 0', 'registered > 3173.000 AND registered <= 4280.500 AND casual <= 1291.000 AND registered > 3837.000 AND casual <= 886.000 AND casual > 522.500 AND registered <= 3963.000 AND casual <= 808.500 AND casual <= 664.000 AND mnth > 5.500 AND class 0', 'registered > 3173.000 AND registered <= 4280.500 AND casual <= 1291.000 AND registered > 3837.000 AND casual <= 886.000 AND casual > 522.500 AND registered <= 3963.000 AND casual <= 808.500 AND casual > 664.000 AND temp <= 0.602 AND class 0', 'registered > 3173.000 AND registered <= 4280.500 AND casual <= 1291.000 AND registered > 3837.000 AND casual <= 886.000 AND casual > 522.500 AND registered <= 3963.000 AND casual <= 808.500 AND casual > 664.000 AND temp > 0.602 AND class 0', 'registered > 3173.000 AND registered <= 4280.500 AND casual <= 1291.000 AND registered > 3837.000 AND casual <= 886.000 AND casual > 522.500 AND registered <= 3963.000 AND casual > 808.500 AND atemp <= 0.638 AND casual <= 864.500 AND class 0', 'registered > 3173.000 AND registered <= 4280.500 AND casual <= 1291.000 AND registered > 3837.000 AND casual <= 886.000 AND casual > 522.500 AND registered <= 3963.000 AND casual > 808.500 AND atemp <= 0.638 AND casual > 864.500 AND class 0', 'registered > 3173.000 AND registered <= 4280.500 AND casual <= 1291.000 AND registered > 3837.000 AND casual <= 886.000 AND casual > 522.500 AND registered <= 3963.000 AND casual > 808.500 AND atemp > 0.638 AND registered <= 3910.500 AND class 0', 'registered > 3173.000 AND registered <= 4280.500 AND casual <= 1291.000 AND registered > 3837.000 AND casual <= 886.000 AND casual > 522.500 AND registered <= 3963.000 AND casual > 808.500 AND atemp > 0.638 AND registered > 3910.500 AND class 0', 'registered > 3173.000 AND registered <= 4280.500 AND casual <= 1291.000 AND registered > 3837.000 AND casual <= 886.000 AND casual > 522.500 AND registered > 3963.000 AND registered <= 4151.000 AND casual <= 752.500 AND registered <= 4044.000 AND class 0', 'registered > 3173.000 AND registered <= 4280.500 AND casual <= 1291.000 AND registered > 3837.000 AND casual <= 886.000 AND casual > 522.500 AND registered > 3963.000 AND registered <= 4151.000 AND casual <= 752.500 AND registered > 4044.000 AND class 0', 'registered > 3173.000 AND registered <= 4280.500 AND casual <= 1291.000 AND registered > 3837.000 AND casual <= 886.000 AND casual > 522.500 AND registered > 3963.000 AND registered <= 4151.000 AND casual > 752.500 AND registered <= 3980.500 AND class 0', 'registered > 3173.000 AND registered <= 4280.500 AND casual <= 1291.000 AND registered > 3837.000 AND casual <= 886.000 AND casual > 522.500 AND registered > 3963.000 AND registered <= 4151.000 AND casual > 752.500 AND registered > 3980.500 AND class 0', 'registered > 3173.000 AND registered <= 4280.500 AND casual <= 1291.000 AND registered > 3837.000 AND casual <= 886.000 AND casual > 522.500 AND registered > 3963.000 AND registered > 4151.000 AND atemp <= 0.618 AND windspeed <= 0.183 AND class 0', 'registered > 3173.000 AND registered <= 4280.500 AND casual <= 1291.000 AND registered > 3837.000 AND casual <= 886.000 AND casual > 522.500 AND registered > 3963.000 AND registered > 4151.000 AND atemp <= 0.618 AND windspeed > 0.183 AND class 0', 'registered > 3173.000 AND registered <= 4280.500 AND casual <= 1291.000 AND registered > 3837.000 AND casual <= 886.000 AND casual > 522.500 AND registered > 3963.000 AND registered > 4151.000 AND atemp > 0.618 AND class 0', 'registered > 3173.000 AND registered <= 4280.500 AND casual <= 1291.000 AND registered > 3837.000 AND casual > 886.000 AND hum <= 0.406 AND class 0', 'registered > 3173.000 AND registered <= 4280.500 AND casual <= 1291.000 AND registered > 3837.000 AND casual > 886.000 AND hum > 0.406 AND weekday <= 4.500 AND weekday <= 3.500 AND mnth <= 9.500 AND class 0', 'registered > 3173.000 AND registered <= 4280.500 AND casual <= 1291.000 AND registered > 3837.000 AND casual > 886.000 AND hum > 0.406 AND weekday <= 4.500 AND weekday <= 3.500 AND mnth > 9.500 AND class 0', 'registered > 3173.000 AND registered <= 4280.500 AND casual <= 1291.000 AND registered > 3837.000 AND casual > 886.000 AND hum > 0.406 AND weekday <= 4.500 AND weekday > 3.500 AND class 0', 'registered > 3173.000 AND registered <= 4280.500 AND casual <= 1291.000 AND registered > 3837.000 AND casual > 886.000 AND hum > 0.406 AND weekday > 4.500 AND registered <= 4015.000 AND atemp <= 0.655 AND windspeed <= 0.125 AND class 0', 'registered > 3173.000 AND registered <= 4280.500 AND casual <= 1291.000 AND registered > 3837.000 AND casual > 886.000 AND hum > 0.406 AND weekday > 4.500 AND registered <= 4015.000 AND atemp <= 0.655 AND windspeed > 0.125 AND class 0', 'registered > 3173.000 AND registered <= 4280.500 AND casual <= 1291.000 AND registered > 3837.000 AND casual > 886.000 AND hum > 0.406 AND weekday > 4.500 AND registered <= 4015.000 AND atemp > 0.655 AND class 0', 'registered > 3173.000 AND registered <= 4280.500 AND casual <= 1291.000 AND registered > 3837.000 AND casual > 886.000 AND hum > 0.406 AND weekday > 4.500 AND registered > 4015.000 AND hum <= 0.629 AND class 0', 'registered > 3173.000 AND registered <= 4280.500 AND casual <= 1291.000 AND registered > 3837.000 AND casual > 886.000 AND hum > 0.406 AND weekday > 4.500 AND registered > 4015.000 AND hum > 0.629 AND class 0', 'registered > 3173.000 AND registered <= 4280.500 AND casual > 1291.000 AND casual <= 2070.500 AND registered <= 3920.500 AND casual <= 1696.000 AND registered <= 3619.000 AND hum <= 0.683 AND season <= 2.500 AND temp <= 0.505 AND class 0', 'registered > 3173.000 AND registered <= 4280.500 AND casual > 1291.000 AND casual <= 2070.500 AND registered <= 3920.500 AND casual <= 1696.000 AND registered <= 3619.000 AND hum <= 0.683 AND season <= 2.500 AND temp > 0.505 AND class 0', 'registered > 3173.000 AND registered <= 4280.500 AND casual > 1291.000 AND casual <= 2070.500 AND registered <= 3920.500 AND casual <= 1696.000 AND registered <= 3619.000 AND hum <= 0.683 AND season > 2.500 AND class 0', 'registered > 3173.000 AND registered <= 4280.500 AND casual > 1291.000 AND casual <= 2070.500 AND registered <= 3920.500 AND casual <= 1696.000 AND registered <= 3619.000 AND hum > 0.683 AND registered <= 3438.500 AND class 0', 'registered > 3173.000 AND registered <= 4280.500 AND casual > 1291.000 AND casual <= 2070.500 AND registered <= 3920.500 AND casual <= 1696.000 AND registered <= 3619.000 AND hum > 0.683 AND registered > 3438.500 AND hum <= 0.863 AND class 0', 'registered > 3173.000 AND registered <= 4280.500 AND casual > 1291.000 AND casual <= 2070.500 AND registered <= 3920.500 AND casual <= 1696.000 AND registered <= 3619.000 AND hum > 0.683 AND registered > 3438.500 AND hum > 0.863 AND class 0', 'registered > 3173.000 AND registered <= 4280.500 AND casual > 1291.000 AND casual <= 2070.500 AND registered <= 3920.500 AND casual <= 1696.000 AND registered > 3619.000 AND class 0', 'registered > 3173.000 AND registered <= 4280.500 AND casual > 1291.000 AND casual <= 2070.500 AND registered <= 3920.500 AND casual > 1696.000 AND registered <= 3294.500 AND atemp <= 0.591 AND class 0', 'registered > 3173.000 AND registered <= 4280.500 AND casual > 1291.000 AND casual <= 2070.500 AND registered <= 3920.500 AND casual > 1696.000 AND registered <= 3294.500 AND atemp > 0.591 AND class 0', 'registered > 3173.000 AND registered <= 4280.500 AND casual > 1291.000 AND casual <= 2070.500 AND registered <= 3920.500 AND casual > 1696.000 AND registered > 3294.500 AND registered <= 3621.000 AND windspeed <= 0.189 AND weekday <= 3.000 AND class 0', 'registered > 3173.000 AND registered <= 4280.500 AND casual > 1291.000 AND casual <= 2070.500 AND registered <= 3920.500 AND casual > 1696.000 AND registered > 3294.500 AND registered <= 3621.000 AND windspeed <= 0.189 AND weekday > 3.000 AND class 0', 'registered > 3173.000 AND registered <= 4280.500 AND casual > 1291.000 AND casual <= 2070.500 AND registered <= 3920.500 AND casual > 1696.000 AND registered > 3294.500 AND registered <= 3621.000 AND windspeed > 0.189 AND casual <= 1932.000 AND class 0', 'registered > 3173.000 AND registered <= 4280.500 AND casual > 1291.000 AND casual <= 2070.500 AND registered <= 3920.500 AND casual > 1696.000 AND registered > 3294.500 AND registered <= 3621.000 AND windspeed > 0.189 AND casual > 1932.000 AND class 0', 'registered > 3173.000 AND registered <= 4280.500 AND casual > 1291.000 AND casual <= 2070.500 AND registered <= 3920.500 AND casual > 1696.000 AND registered > 3294.500 AND registered > 3621.000 AND casual <= 1741.500 AND class 0', 'registered > 3173.000 AND registered <= 4280.500 AND casual > 1291.000 AND casual <= 2070.500 AND registered <= 3920.500 AND casual > 1696.000 AND registered > 3294.500 AND registered > 3621.000 AND casual > 1741.500 AND class 0', 'registered > 3173.000 AND registered <= 4280.500 AND casual > 1291.000 AND casual <= 2070.500 AND registered > 3920.500 AND hum <= 0.657 AND windspeed <= 0.172 AND class 0', 'registered > 3173.000 AND registered <= 4280.500 AND casual > 1291.000 AND casual <= 2070.500 AND registered > 3920.500 AND hum <= 0.657 AND windspeed > 0.172 AND class 0', 'registered > 3173.000 AND registered <= 4280.500 AND casual > 1291.000 AND casual <= 2070.500 AND registered > 3920.500 AND hum > 0.657 AND windspeed <= 0.206 AND mnth <= 8.000 AND class 0', 'registered > 3173.000 AND registered <= 4280.500 AND casual > 1291.000 AND casual <= 2070.500 AND registered > 3920.500 AND hum > 0.657 AND windspeed <= 0.206 AND mnth > 8.000 AND class 0', 'registered > 3173.000 AND registered <= 4280.500 AND casual > 1291.000 AND casual <= 2070.500 AND registered > 3920.500 AND hum > 0.657 AND windspeed > 0.206 AND class 0', 'registered > 3173.000 AND registered <= 4280.500 AND casual > 1291.000 AND casual > 2070.500 AND windspeed <= 0.138 AND registered <= 3185.500 AND class 0', 'registered > 3173.000 AND registered <= 4280.500 AND casual > 1291.000 AND casual > 2070.500 AND windspeed <= 0.138 AND registered > 3185.500 AND atemp <= 0.676 AND windspeed <= 0.124 AND windspeed <= 0.092 AND class 0', 'registered > 3173.000 AND registered <= 4280.500 AND casual > 1291.000 AND casual > 2070.500 AND windspeed <= 0.138 AND registered > 3185.500 AND atemp <= 0.676 AND windspeed <= 0.124 AND windspeed > 0.092 AND class 0', 'registered > 3173.000 AND registered <= 4280.500 AND casual > 1291.000 AND casual > 2070.500 AND windspeed <= 0.138 AND registered > 3185.500 AND atemp <= 0.676 AND windspeed > 0.124 AND class 0', 'registered > 3173.000 AND registered <= 4280.500 AND casual > 1291.000 AND casual > 2070.500 AND windspeed <= 0.138 AND registered > 3185.500 AND atemp > 0.676 AND class 0', 'registered > 3173.000 AND registered <= 4280.500 AND casual > 1291.000 AND casual > 2070.500 AND windspeed > 0.138 AND casual <= 2479.500 AND hum <= 0.705 AND yr <= 0.500 AND class 0', 'registered > 3173.000 AND registered <= 4280.500 AND casual > 1291.000 AND casual > 2070.500 AND windspeed > 0.138 AND casual <= 2479.500 AND hum <= 0.705 AND yr > 0.500 AND weathersit <= 1.500 AND class 0', 'registered > 3173.000 AND registered <= 4280.500 AND casual > 1291.000 AND casual > 2070.500 AND windspeed > 0.138 AND casual <= 2479.500 AND hum <= 0.705 AND yr > 0.500 AND weathersit > 1.500 AND class 0', 'registered > 3173.000 AND registered <= 4280.500 AND casual > 1291.000 AND casual > 2070.500 AND windspeed > 0.138 AND casual <= 2479.500 AND hum > 0.705 AND registered <= 3993.000 AND class 0', 'registered > 3173.000 AND registered <= 4280.500 AND casual > 1291.000 AND casual > 2070.500 AND windspeed > 0.138 AND casual <= 2479.500 AND hum > 0.705 AND registered > 3993.000 AND temp <= 0.627 AND class 0', 'registered > 3173.000 AND registered <= 4280.500 AND casual > 1291.000 AND casual > 2070.500 AND windspeed > 0.138 AND casual <= 2479.500 AND hum > 0.705 AND registered > 3993.000 AND temp > 0.627 AND class 0', 'registered > 3173.000 AND registered <= 4280.500 AND casual > 1291.000 AND casual > 2070.500 AND windspeed > 0.138 AND casual > 2479.500 AND atemp <= 0.485 AND class 0', 'registered > 3173.000 AND registered <= 4280.500 AND casual > 1291.000 AND casual > 2070.500 AND windspeed > 0.138 AND casual > 2479.500 AND atemp > 0.485 AND atemp <= 0.642 AND mnth <= 4.500 AND class 0', 'registered > 3173.000 AND registered <= 4280.500 AND casual > 1291.000 AND casual > 2070.500 AND windspeed > 0.138 AND casual > 2479.500 AND atemp > 0.485 AND atemp <= 0.642 AND mnth > 4.500 AND class 0', 'registered > 3173.000 AND registered <= 4280.500 AND casual > 1291.000 AND casual > 2070.500 AND windspeed > 0.138 AND casual > 2479.500 AND atemp > 0.485 AND atemp > 0.642 AND class 0', 'registered > 3173.000 AND registered > 4280.500 AND casual <= 913.000 AND registered <= 5691.000 AND registered <= 5082.500 AND registered <= 4577.500 AND casual <= 553.500 AND casual <= 413.000 AND temp <= 0.493 AND class 0', 'registered > 3173.000 AND registered > 4280.500 AND casual <= 913.000 AND registered <= 5691.000 AND registered <= 5082.500 AND registered <= 4577.500 AND casual <= 553.500 AND casual <= 413.000 AND temp > 0.493 AND class 0', 'registered > 3173.000 AND registered > 4280.500 AND casual <= 913.000 AND registered <= 5691.000 AND registered <= 5082.500 AND registered <= 4577.500 AND casual <= 553.500 AND casual > 413.000 AND atemp <= 0.434 AND hum <= 0.491 AND class 0', 'registered > 3173.000 AND registered > 4280.500 AND casual <= 913.000 AND registered <= 5691.000 AND registered <= 5082.500 AND registered <= 4577.500 AND casual <= 553.500 AND casual > 413.000 AND atemp <= 0.434 AND hum > 0.491 AND class 0', 'registered > 3173.000 AND registered > 4280.500 AND casual <= 913.000 AND registered <= 5691.000 AND registered <= 5082.500 AND registered <= 4577.500 AND casual <= 553.500 AND casual > 413.000 AND atemp > 0.434 AND hum <= 0.795 AND class 0', 'registered > 3173.000 AND registered > 4280.500 AND casual <= 913.000 AND registered <= 5691.000 AND registered <= 5082.500 AND registered <= 4577.500 AND casual <= 553.500 AND casual > 413.000 AND atemp > 0.434 AND hum > 0.795 AND class 0', 'registered > 3173.000 AND registered > 4280.500 AND casual <= 913.000 AND registered <= 5691.000 AND registered <= 5082.500 AND registered <= 4577.500 AND casual > 553.500 AND casual <= 727.000 AND mnth <= 6.500 AND class 0', 'registered > 3173.000 AND registered > 4280.500 AND casual <= 913.000 AND registered <= 5691.000 AND registered <= 5082.500 AND registered <= 4577.500 AND casual > 553.500 AND casual <= 727.000 AND mnth > 6.500 AND class 0', 'registered > 3173.000 AND registered > 4280.500 AND casual <= 913.000 AND registered <= 5691.000 AND registered <= 5082.500 AND registered <= 4577.500 AND casual > 553.500 AND casual > 727.000 AND season <= 2.500 AND temp <= 0.621 AND class 0', 'registered > 3173.000 AND registered > 4280.500 AND casual <= 913.000 AND registered <= 5691.000 AND registered <= 5082.500 AND registered <= 4577.500 AND casual > 553.500 AND casual > 727.000 AND season <= 2.500 AND temp > 0.621 AND class 0', 'registered > 3173.000 AND registered > 4280.500 AND casual <= 913.000 AND registered <= 5691.000 AND registered <= 5082.500 AND registered <= 4577.500 AND casual > 553.500 AND casual > 727.000 AND season > 2.500 AND atemp <= 0.625 AND class 0', 'registered > 3173.000 AND registered > 4280.500 AND casual <= 913.000 AND registered <= 5691.000 AND registered <= 5082.500 AND registered <= 4577.500 AND casual > 553.500 AND casual > 727.000 AND season > 2.500 AND atemp > 0.625 AND class 0', 'registered > 3173.000 AND registered > 4280.500 AND casual <= 913.000 AND registered <= 5691.000 AND registered <= 5082.500 AND registered > 4577.500 AND casual <= 413.500 AND registered <= 4775.000 AND hum <= 0.581 AND class 0', 'registered > 3173.000 AND registered > 4280.500 AND casual <= 913.000 AND registered <= 5691.000 AND registered <= 5082.500 AND registered > 4577.500 AND casual <= 413.500 AND registered <= 4775.000 AND hum > 0.581 AND mnth <= 7.500 AND class 0', 'registered > 3173.000 AND registered > 4280.500 AND casual <= 913.000 AND registered <= 5691.000 AND registered <= 5082.500 AND registered > 4577.500 AND casual <= 413.500 AND registered <= 4775.000 AND hum > 0.581 AND mnth > 7.500 AND class 0', 'registered > 3173.000 AND registered > 4280.500 AND casual <= 913.000 AND registered <= 5691.000 AND registered <= 5082.500 AND registered > 4577.500 AND casual <= 413.500 AND registered > 4775.000 AND temp <= 0.394 AND windspeed <= 0.193 AND class 0', 'registered > 3173.000 AND registered > 4280.500 AND casual <= 913.000 AND registered <= 5691.000 AND registered <= 5082.500 AND registered > 4577.500 AND casual <= 413.500 AND registered > 4775.000 AND temp <= 0.394 AND windspeed > 0.193 AND class 0', 'registered > 3173.000 AND registered > 4280.500 AND casual <= 913.000 AND registered <= 5691.000 AND registered <= 5082.500 AND registered > 4577.500 AND casual <= 413.500 AND registered > 4775.000 AND temp > 0.394 AND class 0', 'registered > 3173.000 AND registered > 4280.500 AND casual <= 913.000 AND registered <= 5691.000 AND registered <= 5082.500 AND registered > 4577.500 AND casual > 413.500 AND weekday <= 3.500 AND weekday <= 1.500 AND season <= 3.000 AND class 0', 'registered > 3173.000 AND registered > 4280.500 AND casual <= 913.000 AND registered <= 5691.000 AND registered <= 5082.500 AND registered > 4577.500 AND casual > 413.500 AND weekday <= 3.500 AND weekday <= 1.500 AND season > 3.000 AND class 0', 'registered > 3173.000 AND registered > 4280.500 AND casual <= 913.000 AND registered <= 5691.000 AND registered <= 5082.500 AND registered > 4577.500 AND casual > 413.500 AND weekday <= 3.500 AND weekday > 1.500 AND hum <= 0.631 AND class 0', 'registered > 3173.000 AND registered > 4280.500 AND casual <= 913.000 AND registered <= 5691.000 AND registered <= 5082.500 AND registered > 4577.500 AND casual > 413.500 AND weekday <= 3.500 AND weekday > 1.500 AND hum > 0.631 AND class 0', 'registered > 3173.000 AND registered > 4280.500 AND casual <= 913.000 AND registered <= 5691.000 AND registered <= 5082.500 AND registered > 4577.500 AND casual > 413.500 AND weekday > 3.500 AND registered <= 4667.000 AND windspeed <= 0.152 AND class 0', 'registered > 3173.000 AND registered > 4280.500 AND casual <= 913.000 AND registered <= 5691.000 AND registered <= 5082.500 AND registered > 4577.500 AND casual > 413.500 AND weekday > 3.500 AND registered <= 4667.000 AND windspeed > 0.152 AND class 0', 'registered > 3173.000 AND registered > 4280.500 AND casual <= 913.000 AND registered <= 5691.000 AND registered <= 5082.500 AND registered > 4577.500 AND casual > 413.500 AND weekday > 3.500 AND registered > 4667.000 AND mnth <= 3.500 AND class 0', 'registered > 3173.000 AND registered > 4280.500 AND casual <= 913.000 AND registered <= 5691.000 AND registered <= 5082.500 AND registered > 4577.500 AND casual > 413.500 AND weekday > 3.500 AND registered > 4667.000 AND mnth > 3.500 AND class 0', 'registered > 3173.000 AND registered > 4280.500 AND casual <= 913.000 AND registered <= 5691.000 AND registered > 5082.500 AND casual <= 544.500 AND registered <= 5459.000 AND registered <= 5219.500 AND casual <= 427.000 AND casual <= 396.000 AND class 0', 'registered > 3173.000 AND registered > 4280.500 AND casual <= 913.000 AND registered <= 5691.000 AND registered > 5082.500 AND casual <= 544.500 AND registered <= 5459.000 AND registered <= 5219.500 AND casual <= 427.000 AND casual > 396.000 AND class 0', 'registered > 3173.000 AND registered > 4280.500 AND casual <= 913.000 AND registered <= 5691.000 AND registered > 5082.500 AND casual <= 544.500 AND registered <= 5459.000 AND registered <= 5219.500 AND casual > 427.000 AND registered <= 5198.000 AND class 0', 'registered > 3173.000 AND registered > 4280.500 AND casual <= 913.000 AND registered <= 5691.000 AND registered > 5082.500 AND casual <= 544.500 AND registered <= 5459.000 AND registered <= 5219.500 AND casual > 427.000 AND registered > 5198.000 AND class 0', 'registered > 3173.000 AND registered > 4280.500 AND casual <= 913.000 AND registered <= 5691.000 AND registered > 5082.500 AND casual <= 544.500 AND registered <= 5459.000 AND registered > 5219.500 AND hum <= 0.526 AND class 0', 'registered > 3173.000 AND registered > 4280.500 AND casual <= 913.000 AND registered <= 5691.000 AND registered > 5082.500 AND casual <= 544.500 AND registered <= 5459.000 AND registered > 5219.500 AND hum > 0.526 AND registered <= 5263.000 AND class 0', 'registered > 3173.000 AND registered > 4280.500 AND casual <= 913.000 AND registered <= 5691.000 AND registered > 5082.500 AND casual <= 544.500 AND registered <= 5459.000 AND registered > 5219.500 AND hum > 0.526 AND registered > 5263.000 AND class 0', 'registered > 3173.000 AND registered > 4280.500 AND casual <= 913.000 AND registered <= 5691.000 AND registered > 5082.500 AND casual <= 544.500 AND registered > 5459.000 AND class 0', 'registered > 3173.000 AND registered > 4280.500 AND casual <= 913.000 AND registered <= 5691.000 AND registered > 5082.500 AND casual > 544.500 AND registered <= 5303.000 AND registered <= 5190.500 AND casual <= 700.000 AND class 0', 'registered > 3173.000 AND registered > 4280.500 AND casual <= 913.000 AND registered <= 5691.000 AND registered > 5082.500 AND casual > 544.500 AND registered <= 5303.000 AND registered <= 5190.500 AND casual > 700.000 AND hum <= 0.593 AND class 0', 'registered > 3173.000 AND registered > 4280.500 AND casual <= 913.000 AND registered <= 5691.000 AND registered > 5082.500 AND casual > 544.500 AND registered <= 5303.000 AND registered <= 5190.500 AND casual > 700.000 AND hum > 0.593 AND class 0', 'registered > 3173.000 AND registered > 4280.500 AND casual <= 913.000 AND registered <= 5691.000 AND registered > 5082.500 AND casual > 544.500 AND registered <= 5303.000 AND registered > 5190.500 AND season <= 3.000 AND class 0', 'registered > 3173.000 AND registered > 4280.500 AND casual <= 913.000 AND registered <= 5691.000 AND registered > 5082.500 AND casual > 544.500 AND registered <= 5303.000 AND registered > 5190.500 AND season > 3.000 AND class 0', 'registered > 3173.000 AND registered > 4280.500 AND casual <= 913.000 AND registered <= 5691.000 AND registered > 5082.500 AND casual > 544.500 AND registered > 5303.000 AND registered <= 5624.500 AND atemp <= 0.597 AND class 0', 'registered > 3173.000 AND registered > 4280.500 AND casual <= 913.000 AND registered <= 5691.000 AND registered > 5082.500 AND casual > 544.500 AND registered > 5303.000 AND registered <= 5624.500 AND atemp > 0.597 AND casual <= 888.000 AND class 0', 'registered > 3173.000 AND registered > 4280.500 AND casual <= 913.000 AND registered <= 5691.000 AND registered > 5082.500 AND casual > 544.500 AND registered > 5303.000 AND registered <= 5624.500 AND atemp > 0.597 AND casual > 888.000 AND class 0', 'registered > 3173.000 AND registered > 4280.500 AND casual <= 913.000 AND registered <= 5691.000 AND registered > 5082.500 AND casual > 544.500 AND registered > 5303.000 AND registered > 5624.500 AND windspeed <= 0.108 AND class 0', 'registered > 3173.000 AND registered > 4280.500 AND casual <= 913.000 AND registered <= 5691.000 AND registered > 5082.500 AND casual > 544.500 AND registered > 5303.000 AND registered > 5624.500 AND windspeed > 0.108 AND class 0', 'registered > 3173.000 AND registered > 4280.500 AND casual <= 913.000 AND registered > 5691.000 AND registered <= 6141.500 AND temp <= 0.461 AND class 0', 'registered > 3173.000 AND registered > 4280.500 AND casual <= 913.000 AND registered > 5691.000 AND registered <= 6141.500 AND temp > 0.461 AND weekday <= 1.500 AND class 0', 'registered > 3173.000 AND registered > 4280.500 AND casual <= 913.000 AND registered > 5691.000 AND registered <= 6141.500 AND temp > 0.461 AND weekday > 1.500 AND mnth <= 5.500 AND class 0', 'registered > 3173.000 AND registered > 4280.500 AND casual <= 913.000 AND registered > 5691.000 AND registered <= 6141.500 AND temp > 0.461 AND weekday > 1.500 AND mnth > 5.500 AND hum <= 0.667 AND class 0', 'registered > 3173.000 AND registered > 4280.500 AND casual <= 913.000 AND registered > 5691.000 AND registered <= 6141.500 AND temp > 0.461 AND weekday > 1.500 AND mnth > 5.500 AND hum > 0.667 AND class 0', 'registered > 3173.000 AND registered > 4280.500 AND casual <= 913.000 AND registered > 5691.000 AND registered > 6141.500 AND registered <= 6667.500 AND registered <= 6358.500 AND mnth <= 9.500 AND class 0', 'registered > 3173.000 AND registered > 4280.500 AND casual <= 913.000 AND registered > 5691.000 AND registered > 6141.500 AND registered <= 6667.500 AND registered <= 6358.500 AND mnth > 9.500 AND class 0', 'registered > 3173.000 AND registered > 4280.500 AND casual <= 913.000 AND registered > 5691.000 AND registered > 6141.500 AND registered <= 6667.500 AND registered > 6358.500 AND weekday <= 3.000 AND class 0', 'registered > 3173.000 AND registered > 4280.500 AND casual <= 913.000 AND registered > 5691.000 AND registered > 6141.500 AND registered <= 6667.500 AND registered > 6358.500 AND weekday > 3.000 AND registered <= 6563.000 AND casual <= 883.000 AND class 0', 'registered > 3173.000 AND registered > 4280.500 AND casual <= 913.000 AND registered > 5691.000 AND registered > 6141.500 AND registered <= 6667.500 AND registered > 6358.500 AND weekday > 3.000 AND registered <= 6563.000 AND casual > 883.000 AND class 0', 'registered > 3173.000 AND registered > 4280.500 AND casual <= 913.000 AND registered > 5691.000 AND registered > 6141.500 AND registered <= 6667.500 AND registered > 6358.500 AND weekday > 3.000 AND registered > 6563.000 AND class 0', 'registered > 3173.000 AND registered > 4280.500 AND casual <= 913.000 AND registered > 5691.000 AND registered > 6141.500 AND registered > 6667.500 AND registered <= 6871.000 AND registered <= 6748.000 AND class 0', 'registered > 3173.000 AND registered > 4280.500 AND casual <= 913.000 AND registered > 5691.000 AND registered > 6141.500 AND registered > 6667.500 AND registered <= 6871.000 AND registered > 6748.000 AND casual <= 758.000 AND class 0', 'registered > 3173.000 AND registered > 4280.500 AND casual <= 913.000 AND registered > 5691.000 AND registered > 6141.500 AND registered > 6667.500 AND registered <= 6871.000 AND registered > 6748.000 AND casual > 758.000 AND class 0', 'registered > 3173.000 AND registered > 4280.500 AND casual <= 913.000 AND registered > 5691.000 AND registered > 6141.500 AND registered > 6667.500 AND registered > 6871.000 AND mnth <= 9.500 AND class 0', 'registered > 3173.000 AND registered > 4280.500 AND casual <= 913.000 AND registered > 5691.000 AND registered > 6141.500 AND registered > 6667.500 AND registered > 6871.000 AND mnth > 9.500 AND casual <= 787.500 AND class 0', 'registered > 3173.000 AND registered > 4280.500 AND casual <= 913.000 AND registered > 5691.000 AND registered > 6141.500 AND registered > 6667.500 AND registered > 6871.000 AND mnth > 9.500 AND casual > 787.500 AND class 0', 'registered > 3173.000 AND registered > 4280.500 AND casual > 913.000 AND registered <= 5874.000 AND casual <= 2404.500 AND registered <= 5401.000 AND casual <= 1911.000 AND registered <= 4950.500 AND season <= 2.500 AND class 0', 'registered > 3173.000 AND registered > 4280.500 AND casual > 913.000 AND registered <= 5874.000 AND casual <= 2404.500 AND registered <= 5401.000 AND casual <= 1911.000 AND registered <= 4950.500 AND season > 2.500 AND windspeed <= 0.260 AND class 0', 'registered > 3173.000 AND registered > 4280.500 AND casual > 913.000 AND registered <= 5874.000 AND casual <= 2404.500 AND registered <= 5401.000 AND casual <= 1911.000 AND registered <= 4950.500 AND season > 2.500 AND windspeed > 0.260 AND class 0', 'registered > 3173.000 AND registered > 4280.500 AND casual > 913.000 AND registered <= 5874.000 AND casual <= 2404.500 AND registered <= 5401.000 AND casual <= 1911.000 AND registered > 4950.500 AND casual <= 1307.500 AND hum <= 0.571 AND class 0', 'registered > 3173.000 AND registered > 4280.500 AND casual > 913.000 AND registered <= 5874.000 AND casual <= 2404.500 AND registered <= 5401.000 AND casual <= 1911.000 AND registered > 4950.500 AND casual <= 1307.500 AND hum > 0.571 AND class 0', 'registered > 3173.000 AND registered > 4280.500 AND casual > 913.000 AND registered <= 5874.000 AND casual <= 2404.500 AND registered <= 5401.000 AND casual <= 1911.000 AND registered > 4950.500 AND casual > 1307.500 AND class 0', 'registered > 3173.000 AND registered > 4280.500 AND casual > 913.000 AND registered <= 5874.000 AND casual <= 2404.500 AND registered <= 5401.000 AND casual > 1911.000 AND registered <= 4560.500 AND weekday <= 3.000 AND hum <= 0.534 AND class 0', 'registered > 3173.000 AND registered > 4280.500 AND casual > 913.000 AND registered <= 5874.000 AND casual <= 2404.500 AND registered <= 5401.000 AND casual > 1911.000 AND registered <= 4560.500 AND weekday <= 3.000 AND hum > 0.534 AND class 0', 'registered > 3173.000 AND registered > 4280.500 AND casual > 913.000 AND registered <= 5874.000 AND casual <= 2404.500 AND registered <= 5401.000 AND casual > 1911.000 AND registered <= 4560.500 AND weekday > 3.000 AND class 0', 'registered > 3173.000 AND registered > 4280.500 AND casual > 913.000 AND registered <= 5874.000 AND casual <= 2404.500 AND registered <= 5401.000 AND casual > 1911.000 AND registered > 4560.500 AND registered <= 5020.500 AND atemp <= 0.407 AND class 0', 'registered > 3173.000 AND registered > 4280.500 AND casual > 913.000 AND registered <= 5874.000 AND casual <= 2404.500 AND registered <= 5401.000 AND casual > 1911.000 AND registered > 4560.500 AND registered <= 5020.500 AND atemp > 0.407 AND class 0', 'registered > 3173.000 AND registered > 4280.500 AND casual > 913.000 AND registered <= 5874.000 AND casual <= 2404.500 AND registered <= 5401.000 AND casual > 1911.000 AND registered > 4560.500 AND registered > 5020.500 AND class 0', 'registered > 3173.000 AND registered > 4280.500 AND casual > 913.000 AND registered <= 5874.000 AND casual <= 2404.500 AND registered > 5401.000 AND weekday <= 4.500 AND casual <= 1031.000 AND registered <= 5774.500 AND registered <= 5609.000 AND class 0', 'registered > 3173.000 AND registered > 4280.500 AND casual > 913.000 AND registered <= 5874.000 AND casual <= 2404.500 AND registered > 5401.000 AND weekday <= 4.500 AND casual <= 1031.000 AND registered <= 5774.500 AND registered > 5609.000 AND class 0', 'registered > 3173.000 AND registered > 4280.500 AND casual > 913.000 AND registered <= 5874.000 AND casual <= 2404.500 AND registered > 5401.000 AND weekday <= 4.500 AND casual <= 1031.000 AND registered > 5774.500 AND atemp <= 0.604 AND class 0', 'registered > 3173.000 AND registered > 4280.500 AND casual > 913.000 AND registered <= 5874.000 AND casual <= 2404.500 AND registered > 5401.000 AND weekday <= 4.500 AND casual <= 1031.000 AND registered > 5774.500 AND atemp > 0.604 AND class 0', 'registered > 3173.000 AND registered > 4280.500 AND casual > 913.000 AND registered <= 5874.000 AND casual <= 2404.500 AND registered > 5401.000 AND weekday <= 4.500 AND casual > 1031.000 AND registered <= 5828.000 AND hum <= 0.525 AND class 0', 'registered > 3173.000 AND registered > 4280.500 AND casual > 913.000 AND registered <= 5874.000 AND casual <= 2404.500 AND registered > 5401.000 AND weekday <= 4.500 AND casual > 1031.000 AND registered <= 5828.000 AND hum > 0.525 AND class 0', 'registered > 3173.000 AND registered > 4280.500 AND casual > 913.000 AND registered <= 5874.000 AND casual <= 2404.500 AND registered > 5401.000 AND weekday <= 4.500 AND casual > 1031.000 AND registered > 5828.000 AND class 0', 'registered > 3173.000 AND registered > 4280.500 AND casual > 913.000 AND registered <= 5874.000 AND casual <= 2404.500 AND registered > 5401.000 AND weekday > 4.500 AND casual <= 1323.500 AND season <= 2.500 AND class 0', 'registered > 3173.000 AND registered > 4280.500 AND casual > 913.000 AND registered <= 5874.000 AND casual <= 2404.500 AND registered > 5401.000 AND weekday > 4.500 AND casual <= 1323.500 AND season > 2.500 AND class 0', 'registered > 3173.000 AND registered > 4280.500 AND casual > 913.000 AND registered <= 5874.000 AND casual <= 2404.500 AND registered > 5401.000 AND weekday > 4.500 AND casual > 1323.500 AND windspeed <= 0.224 AND class 0', 'registered > 3173.000 AND registered > 4280.500 AND casual > 913.000 AND registered <= 5874.000 AND casual <= 2404.500 AND registered > 5401.000 AND weekday > 4.500 AND casual > 1323.500 AND windspeed > 0.224 AND class 0', 'registered > 3173.000 AND registered > 4280.500 AND casual > 913.000 AND registered <= 5874.000 AND casual > 2404.500 AND registered <= 4875.000 AND registered <= 4545.000 AND windspeed <= 0.189 AND casual <= 2592.500 AND weathersit <= 1.500 AND class 0', 'registered > 3173.000 AND registered > 4280.500 AND casual > 913.000 AND registered <= 5874.000 AND casual > 2404.500 AND registered <= 4875.000 AND registered <= 4545.000 AND windspeed <= 0.189 AND casual <= 2592.500 AND weathersit > 1.500 AND class 0', 'registered > 3173.000 AND registered > 4280.500 AND casual > 913.000 AND registered <= 5874.000 AND casual > 2404.500 AND registered <= 4875.000 AND registered <= 4545.000 AND windspeed <= 0.189 AND casual > 2592.500 AND class 0', 'registered > 3173.000 AND registered > 4280.500 AND casual > 913.000 AND registered <= 5874.000 AND casual > 2404.500 AND registered <= 4875.000 AND registered <= 4545.000 AND windspeed > 0.189 AND atemp <= 0.579 AND class 0', 'registered > 3173.000 AND registered > 4280.500 AND casual > 913.000 AND registered <= 5874.000 AND casual > 2404.500 AND registered <= 4875.000 AND registered <= 4545.000 AND windspeed > 0.189 AND atemp > 0.579 AND class 0', 'registered > 3173.000 AND registered > 4280.500 AND casual > 913.000 AND registered <= 5874.000 AND casual > 2404.500 AND registered <= 4875.000 AND registered > 4545.000 AND casual <= 2879.000 AND casual <= 2639.500 AND registered <= 4824.000 AND class 0', 'registered > 3173.000 AND registered > 4280.500 AND casual > 913.000 AND registered <= 5874.000 AND casual > 2404.500 AND registered <= 4875.000 AND registered > 4545.000 AND casual <= 2879.000 AND casual <= 2639.500 AND registered > 4824.000 AND class 0', 'registered > 3173.000 AND registered > 4280.500 AND casual > 913.000 AND registered <= 5874.000 AND casual > 2404.500 AND registered <= 4875.000 AND registered > 4545.000 AND casual <= 2879.000 AND casual > 2639.500 AND windspeed <= 0.185 AND class 0', 'registered > 3173.000 AND registered > 4280.500 AND casual > 913.000 AND registered <= 5874.000 AND casual > 2404.500 AND registered <= 4875.000 AND registered > 4545.000 AND casual <= 2879.000 AND casual > 2639.500 AND windspeed > 0.185 AND class 0', 'registered > 3173.000 AND registered > 4280.500 AND casual > 913.000 AND registered <= 5874.000 AND casual > 2404.500 AND registered <= 4875.000 AND registered > 4545.000 AND casual > 2879.000 AND mnth <= 4.500 AND class 0', 'registered > 3173.000 AND registered > 4280.500 AND casual > 913.000 AND registered <= 5874.000 AND casual > 2404.500 AND registered <= 4875.000 AND registered > 4545.000 AND casual > 2879.000 AND mnth > 4.500 AND class 0', 'registered > 3173.000 AND registered > 4280.500 AND casual > 913.000 AND registered <= 5874.000 AND casual > 2404.500 AND registered > 4875.000 AND casual <= 3095.500 AND registered <= 5246.500 AND season <= 2.500 AND class 0', 'registered > 3173.000 AND registered > 4280.500 AND casual > 913.000 AND registered <= 5874.000 AND casual > 2404.500 AND registered > 4875.000 AND casual <= 3095.500 AND registered <= 5246.500 AND season > 2.500 AND windspeed <= 0.252 AND class 0', 'registered > 3173.000 AND registered > 4280.500 AND casual > 913.000 AND registered <= 5874.000 AND casual > 2404.500 AND registered > 4875.000 AND casual <= 3095.500 AND registered <= 5246.500 AND season > 2.500 AND windspeed > 0.252 AND class 0', 'registered > 3173.000 AND registered > 4280.500 AND casual > 913.000 AND registered <= 5874.000 AND casual > 2404.500 AND registered > 4875.000 AND casual <= 3095.500 AND registered > 5246.500 AND casual <= 2512.000 AND class 0', 'registered > 3173.000 AND registered > 4280.500 AND casual > 913.000 AND registered <= 5874.000 AND casual > 2404.500 AND registered > 4875.000 AND casual <= 3095.500 AND registered > 5246.500 AND casual > 2512.000 AND temp <= 0.597 AND class 0', 'registered > 3173.000 AND registered > 4280.500 AND casual > 913.000 AND registered <= 5874.000 AND casual > 2404.500 AND registered > 4875.000 AND casual <= 3095.500 AND registered > 5246.500 AND casual > 2512.000 AND temp > 0.597 AND class 0', 'registered > 3173.000 AND registered > 4280.500 AND casual > 913.000 AND registered <= 5874.000 AND casual > 2404.500 AND registered > 4875.000 AND casual > 3095.500 AND registered <= 5219.000 AND class 0', 'registered > 3173.000 AND registered > 4280.500 AND casual > 913.000 AND registered <= 5874.000 AND casual > 2404.500 AND registered > 4875.000 AND casual > 3095.500 AND registered > 5219.000 AND class 0', 'registered > 3173.000 AND registered > 4280.500 AND casual > 913.000 AND registered > 5874.000 AND casual <= 1351.500 AND registered <= 6252.500 AND casual <= 1090.500 AND registered <= 6163.500 AND registered <= 6049.000 AND atemp <= 0.628 AND class 0', 'registered > 3173.000 AND registered > 4280.500 AND casual > 913.000 AND registered > 5874.000 AND casual <= 1351.500 AND registered <= 6252.500 AND casual <= 1090.500 AND registered <= 6163.500 AND registered <= 6049.000 AND atemp > 0.628 AND class 0', 'registered > 3173.000 AND registered > 4280.500 AND casual > 913.000 AND registered > 5874.000 AND casual <= 1351.500 AND registered <= 6252.500 AND casual <= 1090.500 AND registered <= 6163.500 AND registered > 6049.000 AND windspeed <= 0.172 AND class 0', 'registered > 3173.000 AND registered > 4280.500 AND casual > 913.000 AND registered > 5874.000 AND casual <= 1351.500 AND registered <= 6252.500 AND casual <= 1090.500 AND registered <= 6163.500 AND registered > 6049.000 AND windspeed > 0.172 AND class 0', 'registered > 3173.000 AND registered > 4280.500 AND casual > 913.000 AND registered > 5874.000 AND casual <= 1351.500 AND registered <= 6252.500 AND casual <= 1090.500 AND registered > 6163.500 AND atemp <= 0.548 AND class 0', 'registered > 3173.000 AND registered > 4280.500 AND casual > 913.000 AND registered > 5874.000 AND casual <= 1351.500 AND registered <= 6252.500 AND casual <= 1090.500 AND registered > 6163.500 AND atemp > 0.548 AND class 0', 'registered > 3173.000 AND registered > 4280.500 AND casual > 913.000 AND registered > 5874.000 AND casual <= 1351.500 AND registered <= 6252.500 AND casual > 1090.500 AND registered <= 6164.000 AND hum <= 0.699 AND hum <= 0.657 AND class 0', 'registered > 3173.000 AND registered > 4280.500 AND casual > 913.000 AND registered > 5874.000 AND casual <= 1351.500 AND registered <= 6252.500 AND casual > 1090.500 AND registered <= 6164.000 AND hum <= 0.699 AND hum > 0.657 AND class 0', 'registered > 3173.000 AND registered > 4280.500 AND casual > 913.000 AND registered > 5874.000 AND casual <= 1351.500 AND registered <= 6252.500 AND casual > 1090.500 AND registered <= 6164.000 AND hum > 0.699 AND class 0', 'registered > 3173.000 AND registered > 4280.500 AND casual > 913.000 AND registered > 5874.000 AND casual <= 1351.500 AND registered <= 6252.500 AND casual > 1090.500 AND registered > 6164.000 AND class 0', 'registered > 3173.000 AND registered > 4280.500 AND casual > 913.000 AND registered > 5874.000 AND casual <= 1351.500 AND registered > 6252.500 AND registered <= 6654.500 AND registered <= 6503.500 AND casual <= 1106.000 AND registered <= 6327.000 AND class 0', 'registered > 3173.000 AND registered > 4280.500 AND casual > 913.000 AND registered > 5874.000 AND casual <= 1351.500 AND registered > 6252.500 AND registered <= 6654.500 AND registered <= 6503.500 AND casual <= 1106.000 AND registered > 6327.000 AND class 0', 'registered > 3173.000 AND registered > 4280.500 AND casual > 913.000 AND registered > 5874.000 AND casual <= 1351.500 AND registered > 6252.500 AND registered <= 6654.500 AND registered <= 6503.500 AND casual > 1106.000 AND hum <= 0.740 AND class 0', 'registered > 3173.000 AND registered > 4280.500 AND casual > 913.000 AND registered > 5874.000 AND casual <= 1351.500 AND registered > 6252.500 AND registered <= 6654.500 AND registered <= 6503.500 AND casual > 1106.000 AND hum > 0.740 AND class 0', 'registered > 3173.000 AND registered > 4280.500 AND casual > 913.000 AND registered > 5874.000 AND casual <= 1351.500 AND registered > 6252.500 AND registered <= 6654.500 AND registered > 6503.500 AND windspeed <= 0.127 AND hum <= 0.571 AND class 0', 'registered > 3173.000 AND registered > 4280.500 AND casual > 913.000 AND registered > 5874.000 AND casual <= 1351.500 AND registered > 6252.500 AND registered <= 6654.500 AND registered > 6503.500 AND windspeed <= 0.127 AND hum > 0.571 AND class 0', 'registered > 3173.000 AND registered > 4280.500 AND casual > 913.000 AND registered > 5874.000 AND casual <= 1351.500 AND registered > 6252.500 AND registered <= 6654.500 AND registered > 6503.500 AND windspeed > 0.127 AND temp <= 0.593 AND class 0', 'registered > 3173.000 AND registered > 4280.500 AND casual > 913.000 AND registered > 5874.000 AND casual <= 1351.500 AND registered > 6252.500 AND registered <= 6654.500 AND registered > 6503.500 AND windspeed > 0.127 AND temp > 0.593 AND class 0', 'registered > 3173.000 AND registered > 4280.500 AND casual > 913.000 AND registered > 5874.000 AND casual <= 1351.500 AND registered > 6252.500 AND registered > 6654.500 AND hum <= 0.653 AND temp <= 0.588 AND atemp <= 0.543 AND class 0', 'registered > 3173.000 AND registered > 4280.500 AND casual > 913.000 AND registered > 5874.000 AND casual <= 1351.500 AND registered > 6252.500 AND registered > 6654.500 AND hum <= 0.653 AND temp <= 0.588 AND atemp > 0.543 AND class 0', 'registered > 3173.000 AND registered > 4280.500 AND casual > 913.000 AND registered > 5874.000 AND casual <= 1351.500 AND registered > 6252.500 AND registered > 6654.500 AND hum <= 0.653 AND temp > 0.588 AND registered <= 6785.000 AND class 0', 'registered > 3173.000 AND registered > 4280.500 AND casual > 913.000 AND registered > 5874.000 AND casual <= 1351.500 AND registered > 6252.500 AND registered > 6654.500 AND hum <= 0.653 AND temp > 0.588 AND registered > 6785.000 AND class 0', 'registered > 3173.000 AND registered > 4280.500 AND casual > 913.000 AND registered > 5874.000 AND casual <= 1351.500 AND registered > 6252.500 AND registered > 6654.500 AND hum > 0.653 AND class 0', 'registered > 3173.000 AND registered > 4280.500 AND casual > 913.000 AND registered > 5874.000 AND casual > 1351.500 AND casual <= 2016.000 AND registered <= 6516.000 AND registered <= 6045.000 AND windspeed <= 0.125 AND class 0', 'registered > 3173.000 AND registered > 4280.500 AND casual > 913.000 AND registered > 5874.000 AND casual > 1351.500 AND casual <= 2016.000 AND registered <= 6516.000 AND registered <= 6045.000 AND windspeed > 0.125 AND class 0', 'registered > 3173.000 AND registered > 4280.500 AND casual > 913.000 AND registered > 5874.000 AND casual > 1351.500 AND casual <= 2016.000 AND registered <= 6516.000 AND registered > 6045.000 AND registered <= 6183.000 AND registered <= 6110.000 AND class 0', 'registered > 3173.000 AND registered > 4280.500 AND casual > 913.000 AND registered > 5874.000 AND casual > 1351.500 AND casual <= 2016.000 AND registered <= 6516.000 AND registered > 6045.000 AND registered <= 6183.000 AND registered > 6110.000 AND class 0', 'registered > 3173.000 AND registered > 4280.500 AND casual > 913.000 AND registered > 5874.000 AND casual > 1351.500 AND casual <= 2016.000 AND registered <= 6516.000 AND registered > 6045.000 AND registered > 6183.000 AND casual <= 1425.500 AND class 0', 'registered > 3173.000 AND registered > 4280.500 AND casual > 913.000 AND registered > 5874.000 AND casual > 1351.500 AND casual <= 2016.000 AND registered <= 6516.000 AND registered > 6045.000 AND registered > 6183.000 AND casual > 1425.500 AND class 0', 'registered > 3173.000 AND registered > 4280.500 AND casual > 913.000 AND registered > 5874.000 AND casual > 1351.500 AND casual <= 2016.000 AND registered > 6516.000 AND casual <= 1381.000 AND class 0', 'registered > 3173.000 AND registered > 4280.500 AND casual > 913.000 AND registered > 5874.000 AND casual > 1351.500 AND casual <= 2016.000 AND registered > 6516.000 AND casual > 1381.000 AND windspeed <= 0.136 AND class 0', 'registered > 3173.000 AND registered > 4280.500 AND casual > 913.000 AND registered > 5874.000 AND casual > 1351.500 AND casual <= 2016.000 AND registered > 6516.000 AND casual > 1381.000 AND windspeed > 0.136 AND class 0', 'registered > 3173.000 AND registered > 4280.500 AND casual > 913.000 AND registered > 5874.000 AND casual > 1351.500 AND casual > 2016.000 AND atemp <= 0.590 AND class 0', 'registered > 3173.000 AND registered > 4280.500 AND casual > 913.000 AND registered > 5874.000 AND casual > 1351.500 AND casual > 2016.000 AND atemp > 0.590 AND class 0']\n",
      "Run Time Performance = 0.13271284103393555 seconds\n"
     ]
    }
   ],
   "source": [
    "start = time.time()\n",
    "\n",
    "dataset = day_data.copy()\n",
    "\n",
    "\n",
    "X = dataset.drop(\"cnt\", axis = 1)\n",
    "y = dataset['cnt']\n",
    "\n",
    "\n",
    "# define the number of folds for k-fold cross-validation\n",
    "n_splits = 6  # number of folds for k-fold cross-validation\n",
    "kf = KFold(n_splits=n_splits, shuffle=True)\n",
    "\n",
    "\n",
    "mse_scores_ = np.zeros(n_splits)\n",
    "r2_scores_ = np.zeros(n_splits)\n",
    "\n",
    "fold = 0\n",
    "\n",
    "total_y_test = []\n",
    "total_y_pred = []\n",
    "\n",
    "dt_regressor = tree.DecisionTreeRegressor(max_depth=10)   \n",
    "\n",
    "for tr, te in kf.split(dataset):\n",
    "    x_train, x_test = X.iloc[tr], X.iloc[te]\n",
    "    y_train, y_test = y.iloc[tr], y.iloc[te]\n",
    "\n",
    "        \n",
    "  \n",
    "    dt_regressor = tree.DecisionTreeRegressor(max_depth=10)  \n",
    "    dt_regressor.fit(x_train, y_train) \n",
    "    y_pred = dt_regressor.predict(x_test)  \n",
    "\n",
    "    \n",
    "    # Convert y_pred to a NumPy array  \n",
    "    y_pred = np.array(y_pred)\n",
    "\n",
    "\n",
    "    total_y_test += y_test.tolist()\n",
    "    total_y_pred += y_pred.tolist()\n",
    "    \n",
    "\n",
    "    # Compute the mean squared error and R2 score\n",
    "    mse_scores_[fold] = mean_squared_error(y_test, y_pred)\n",
    "    r2_scores_[fold] = dt_regressor.score(x_test, y_test)\n",
    "      \n",
    "    fold += 1\n",
    "\n",
    "\n",
    "total_y_test = np.array(total_y_test)\n",
    "total_y_pred = np.array(total_y_pred)\n",
    "\n",
    "print('Mean MSE score: ', mse_scores_.mean())\n",
    "print('Mean R2 score: ', r2_scores_.mean())\n",
    "\n",
    "\n",
    "print(\"Decision tree into a set of rules\")\n",
    "rules = tree_to_rules(dt_regressor,X.columns.tolist())\n",
    "print(rules)\n",
    "\n",
    "end = time.time()\n",
    "print(f\"Run Time Performance = {end - start} seconds\")"
   ]
  }
 ],
 "metadata": {
  "kernelspec": {
   "display_name": "Python 3",
   "language": "python",
   "name": "python3"
  },
  "language_info": {
   "codemirror_mode": {
    "name": "ipython",
    "version": 3
   },
   "file_extension": ".py",
   "mimetype": "text/x-python",
   "name": "python",
   "nbconvert_exporter": "python",
   "pygments_lexer": "ipython3",
   "version": "3.8.10"
  },
  "orig_nbformat": 4,
  "vscode": {
   "interpreter": {
    "hash": "31f2aee4e71d21fbe5cf8b01ff0e069b9275f58929596ceb00d14d90e3e16cd6"
   }
  }
 },
 "nbformat": 4,
 "nbformat_minor": 2
}
